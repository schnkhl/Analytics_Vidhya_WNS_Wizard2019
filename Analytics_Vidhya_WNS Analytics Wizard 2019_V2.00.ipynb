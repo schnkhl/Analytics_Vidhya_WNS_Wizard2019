{
 "cells": [
  {
   "cell_type": "markdown",
   "metadata": {},
   "source": [
    "### Contents\n",
    "\n",
    "#### 1) Load & Join Data\n",
    "\n",
    "#### 2) Data pre-processing\n",
    "* 2.1) Missing Data\n",
    "    * 2.1.1) Imputing Missing data (Explore Item data)\n",
    "* 2.2) Rollup data at impression_id\n",
    "    * 2.2.1) Item_Price & Counts of View Log\n",
    "    * 2.2.2) Category 1, 2 & 3 and Product Type\n",
    "    * 2.2.3) Device_Type\n",
    "    * 2.2.4) Merge rolledup view log & item data with Train+Test data\n",
    "\n",
    "#### 3) EDA (for view log & item data)\n",
    "* 3.1) Item Price\n",
    "* 3.2) Flag: # log views within last 15 days (before impression date)\n",
    "* 3.3) Device Type\n",
    "* 3.4) Product Category & Type\n",
    "* 3.5) Final Columns (from view log & item data)\n",
    "\n",
    "#### 4) EDA (for impression train data)\n",
    "* 4.1) Impression_Time\n",
    "    * 4.1.1) Get hour, weekday, day name from impression_time\n",
    "    * 4.1.2) Clicks & CTR by hour\n",
    "    * 4.1.3) Clicks & CTR by dayname\n",
    "* 4.2) Network (is_4G) & Operating system (os_version)\n",
    "* 4.3) Partner websites / Apps (app_code)\n",
    "\n",
    "#### 5) Feature engineering\n",
    "\n",
    "#### 6) Feature Importance\n",
    "\n",
    "#### 7) Simple model\n",
    "\n",
    "#### 8) Fitting Hypertuned Model\n",
    "\n",
    "* 8.1) Logistic Regression\n",
    "* 8.2) Light GBM (Gradient Boosting Machine) Classifier\n",
    "* 8.3) xgBoost\n",
    "* 8.4) Random Forest\n",
    "\n",
    "#### 9) Linear Discriminant Analysis (LDA) (with logistic regression & random forest)\n",
    "\n",
    "#### 10) Resampling techniques\n",
    "\n",
    "#### 11) Final best fitted model"
   ]
  },
  {
   "cell_type": "code",
   "execution_count": 1,
   "metadata": {
    "collapsed": false
   },
   "outputs": [
    {
     "name": "stdout",
     "output_type": "stream",
     "text": [
      "D:\\IPython Jupyter\\Analytics Vidya Datasets\\WNS Wizard 2019\n"
     ]
    }
   ],
   "source": [
    "# Loading all libraries\n",
    "import pandas as pd\n",
    "import numpy as np\n",
    "import matplotlib.pyplot as plt\n",
    "import seaborn as sns\n",
    "%matplotlib inline\n",
    "\n",
    "from statsmodels.stats.outliers_influence import variance_inflation_factor\n",
    "from sklearn.feature_selection import RFE, RFECV\n",
    "from sklearn.metrics import f1_score\n",
    "from sklearn.model_selection import train_test_split\n",
    "from sklearn.linear_model import LogisticRegression\n",
    "from sklearn.neighbors import NearestNeighbors\n",
    "from sklearn.tree import DecisionTreeClassifier\n",
    "from lightgbm import LGBMClassifier\n",
    "from xgboost import XGBClassifier\n",
    "from sklearn.svm import SVC\n",
    "from sklearn.ensemble import RandomForestClassifier,AdaBoostClassifier, ExtraTreesClassifier,GradientBoostingClassifier\n",
    "from sklearn.metrics import classification_report, confusion_matrix, roc_auc_score, roc_curve\n",
    "from sklearn.model_selection import cross_val_score, KFold\n",
    "from imblearn.over_sampling import SMOTE\n",
    "from sklearn.utils import resample\n",
    "from sklearn.model_selection import GridSearchCV, RandomizedSearchCV\n",
    "\n",
    "from sklearn.discriminant_analysis import LinearDiscriminantAnalysis\n",
    "import datetime,time\n",
    "import warnings\n",
    "warnings.filterwarnings(\"ignore\")\n",
    "\n",
    "%cd D:\\IPython Jupyter\\Analytics Vidya Datasets\\WNS Wizard 2019"
   ]
  },
  {
   "cell_type": "markdown",
   "metadata": {},
   "source": [
    "### 1) Load & Join Data"
   ]
  },
  {
   "cell_type": "code",
   "execution_count": 2,
   "metadata": {
    "collapsed": false,
    "scrolled": true
   },
   "outputs": [
    {
     "name": "stdout",
     "output_type": "stream",
     "text": [
      "Train Data: (237609, 7) Index(['impression_id', 'impression_time', 'user_id', 'app_code', 'os_version',\n",
      "       'is_4G', 'is_click'],\n",
      "      dtype='object')\n",
      "Test Data: (90675, 6) Index(['impression_id', 'impression_time', 'user_id', 'app_code', 'os_version',\n",
      "       'is_4G'],\n",
      "      dtype='object')\n",
      "View Log Data: (3118622, 5) Index(['server_time', 'device_type', 'session_id', 'user_id', 'item_id'], dtype='object')\n",
      "Item Data: (132761, 6) Index(['item_id', 'item_price', 'category_1', 'category_2', 'category_3',\n",
      "       'product_type'],\n",
      "      dtype='object')\n"
     ]
    }
   ],
   "source": [
    "# Loading data\n",
    "df_train = pd.read_csv(\"WNS_train.csv\")\n",
    "df_test = pd.read_csv(\"WNS_test.csv\")\n",
    "df_view_log = pd.read_csv(\"WNS_view_log.csv\")                    # data is not unique at any level\n",
    "df_item_data = pd.read_csv(\"WNS_item_data.csv\")\n",
    "\n",
    "print(\"Train Data:\",df_train.shape, df_train.columns)\n",
    "print(\"Test Data:\",df_test.shape, df_test.columns)\n",
    "print(\"View Log Data:\",df_view_log.shape, df_view_log.columns)\n",
    "print(\"Item Data:\",df_item_data.shape, df_item_data.columns)"
   ]
  },
  {
   "cell_type": "code",
   "execution_count": 3,
   "metadata": {
    "collapsed": false
   },
   "outputs": [
    {
     "name": "stdout",
     "output_type": "stream",
     "text": [
      "(328284, 7)\n"
     ]
    }
   ],
   "source": [
    "df_test['is_click'] = 'NA'\n",
    "df_com = df_train.append(df_test, ignore_index=True)\n",
    "print(df_com.shape)"
   ]
  },
  {
   "cell_type": "code",
   "execution_count": 4,
   "metadata": {
    "collapsed": true
   },
   "outputs": [],
   "source": [
    "# dates loaded as object, let's convert back them to date datatype & check\n",
    "df_com['impression_time'] = df_com['impression_time'].astype('datetime64[ns]')\n",
    "df_view_log['server_time'] = df_view_log['server_time'].astype('datetime64[ns]')"
   ]
  },
  {
   "cell_type": "code",
   "execution_count": 5,
   "metadata": {
    "collapsed": false
   },
   "outputs": [
    {
     "name": "stdout",
     "output_type": "stream",
     "text": [
      "Unique user_id from train+test data: (89157,)\n",
      "Unique user_id from view_log data: (89157,)\n",
      "Total shape for train+test+log data: (14924579, 11)\n",
      "# missing datapoints 0\n"
     ]
    }
   ],
   "source": [
    "# merging train+test data with view log\n",
    "print(\"Unique user_id from train+test data:\",df_com['user_id'].unique().shape)\n",
    "print(\"Unique user_id from view_log data:\", df_view_log['user_id'].unique().shape)\n",
    "\n",
    "df_com1 = df_com.merge(df_view_log,on='user_id',how='left')\n",
    "print(\"Total shape for train+test+log data:\",df_com1.shape)\n",
    "print(\"# missing datapoints\",df_com1.isnull().sum().sum())"
   ]
  },
  {
   "cell_type": "code",
   "execution_count": 6,
   "metadata": {
    "collapsed": false
   },
   "outputs": [
    {
     "name": "stdout",
     "output_type": "stream",
     "text": [
      "Unique item_id from train+test data: (126708,)\n",
      "Unique item_id from view_log data: (132761,)\n",
      "Unique items which are missing in item_data, but present in view_log_data \n",
      " view      0\n",
      "C1        0\n",
      "C2      101\n",
      "dtype: int64\n",
      "Unique items which are missing in view_log_data, but present in item_data \n",
      " view       0\n",
      "C1      6154\n",
      "C2         0\n",
      "dtype: int64\n"
     ]
    }
   ],
   "source": [
    "# Column 'item_id' from both view_log & item data\n",
    "print(\"Unique item_id from train+test data:\",df_com1['item_id'].unique().shape)\n",
    "print(\"Unique item_id from view_log data:\", df_item_data['item_id'].unique().shape)\n",
    "\n",
    "temp1 = pd.DataFrame(df_com1['item_id'].unique(),columns=['view'])\n",
    "temp1['C1'] = 1\n",
    "temp2 = pd.DataFrame(df_item_data['item_id'].unique(),columns=['view'])\n",
    "temp2['C2'] = 1\n",
    "\n",
    "temp3 = temp1.merge(temp2,how='left',on='view')\n",
    "print(\"Unique items which are missing in item_data, but present in view_log_data\",'\\n',temp3.isnull().sum())\n",
    "\n",
    "temp4 = temp1.merge(temp2,how='right',on='view')\n",
    "print(\"Unique items which are missing in view_log_data, but present in item_data\",'\\n',temp4.isnull().sum())"
   ]
  },
  {
   "cell_type": "markdown",
   "metadata": {},
   "source": [
    "* 6,154 items don't have any log files means none of the user had ever searches for these products/items. So, it's safe to ignore them\n",
    "* 101 items have log files, but we don't have any information about these products/items, which accounts as missing data (item price, it's categories type). We'll explore whole data then will impute these records accordingly"
   ]
  },
  {
   "cell_type": "code",
   "execution_count": 7,
   "metadata": {
    "collapsed": false
   },
   "outputs": [
    {
     "name": "stdout",
     "output_type": "stream",
     "text": [
      "Total shape for train+test+log+view data: (14924579, 16)\n",
      "# missing datapoints \n",
      " impression_id         0\n",
      "impression_time       0\n",
      "user_id               0\n",
      "app_code              0\n",
      "os_version            0\n",
      "is_4G                 0\n",
      "is_click              0\n",
      "server_time           0\n",
      "device_type           0\n",
      "session_id            0\n",
      "item_id               0\n",
      "item_price         9260\n",
      "category_1         9260\n",
      "category_2         9260\n",
      "category_3         9260\n",
      "product_type       9260\n",
      "dtype: int64\n"
     ]
    }
   ],
   "source": [
    "df_com2 = df_com1.merge(df_item_data,on='item_id',how='left')\n",
    "print(\"Total shape for train+test+log+view data:\",df_com2.shape)\n",
    "print(\"# missing datapoints\",'\\n',df_com2.isnull().sum())"
   ]
  },
  {
   "cell_type": "code",
   "execution_count": 8,
   "metadata": {
    "collapsed": false
   },
   "outputs": [
    {
     "data": {
      "text/plain": [
       "(101,)"
      ]
     },
     "execution_count": 8,
     "metadata": {},
     "output_type": "execute_result"
    }
   ],
   "source": [
    "# Quality check: Number of items for which there is info about it's price, category & type (should be 101) \n",
    "df_com2[df_com2['item_price'].isna()]['item_id'].unique().shape"
   ]
  },
  {
   "cell_type": "markdown",
   "metadata": {},
   "source": [
    "### 2) Data pre-processing\n",
    "* As the train+test and view log having multiple user_ids, thats why number of records looks way too high (15 million)\n",
    "* So lets roll up data at impression id (where we're supposed to fit model)"
   ]
  },
  {
   "cell_type": "code",
   "execution_count": 9,
   "metadata": {
    "collapsed": false,
    "scrolled": true
   },
   "outputs": [
    {
     "name": "stdout",
     "output_type": "stream",
     "text": [
      "(14924579, 16) \n",
      "\n",
      " impression_id              object\n",
      "impression_time    datetime64[ns]\n",
      "user_id                     int64\n",
      "app_code                    int64\n",
      "os_version                 object\n",
      "is_4G                       int64\n",
      "is_click                   object\n",
      "server_time        datetime64[ns]\n",
      "device_type                object\n",
      "session_id                  int64\n",
      "item_id                     int64\n",
      "item_price                float64\n",
      "category_1                float64\n",
      "category_2                float64\n",
      "category_3                float64\n",
      "product_type              float64\n",
      "dtype: object\n"
     ]
    }
   ],
   "source": [
    "print(df_com2.shape, '\\n\\n',df_com2.dtypes)"
   ]
  },
  {
   "cell_type": "code",
   "execution_count": 10,
   "metadata": {
    "collapsed": true
   },
   "outputs": [],
   "source": [
    "# Flag (yes or no) if impression was created within 15 days of session time (from view log file)\n",
    "from datetime import timedelta\n",
    "df_com2['flag']=(df_com2['impression_time'] >= df_com2['server_time']) & ((df_com2['impression_time']  - timedelta(days=15)) <= df_com2['server_time'])"
   ]
  },
  {
   "cell_type": "code",
   "execution_count": 11,
   "metadata": {
    "collapsed": false
   },
   "outputs": [
    {
     "name": "stdout",
     "output_type": "stream",
     "text": [
      "When flag = True, then it'll retain records(%): 27.499971690993764 4104255\n",
      "WHen flag = True, impression id retain (%): 83.91453741272801 275478\n"
     ]
    }
   ],
   "source": [
    "temp = df_com2[df_com2['flag'] == True].drop('flag',axis=1)\n",
    "print(\"When flag = True, then it'll retain records(%):\",temp.shape[0]/df_com2.shape[0]*100, temp.shape[0])\n",
    "\n",
    "temp = df_com2[df_com2['flag'] == True][['impression_id', 'is_click']].drop_duplicates()\n",
    "print(\"WHen flag = True, impression id retain (%):\",temp['impression_id'].unique().shape[0]/df_com.shape[0]*100,\n",
    "      temp['impression_id'].unique().shape[0])"
   ]
  },
  {
   "cell_type": "markdown",
   "metadata": {},
   "source": [
    "* Drop those records when this flag is false (only those information related to view log or item data will be retained which resulted in impression within last 15 days)\n",
    "    * Doing so, will result in drop of 72.5% of such records, so now we'll be left with only the data, which might have any impact of impression\n",
    "    * Also it will result in dropping 16.1% of impression ids (for which there was no log created in last 15 days), so we'll add these records later\n",
    "* So, we'll rollup data at Impression ID using flag column\n",
    "\n",
    "* Other than last 15 days assumption, I also tried 7 and 30 days, but 7 days was causing too much loss in records & 30 days was bringing too much noise in data. Following is comparision for retainng the data for all 3 cases. Impression id retain | All records retain\n",
    "    * 7 days: 65.88% | 13.16%\n",
    "    * 15days: 83.91% | 27.49%\n",
    "    * 30days: 95.69% | 52.99%"
   ]
  },
  {
   "cell_type": "markdown",
   "metadata": {},
   "source": [
    "#### 2.1) Missing Data"
   ]
  },
  {
   "cell_type": "code",
   "execution_count": 12,
   "metadata": {
    "collapsed": false
   },
   "outputs": [
    {
     "data": {
      "text/plain": [
       "((4104255, 14), (275478,), (3962547, 14))"
      ]
     },
     "execution_count": 12,
     "metadata": {},
     "output_type": "execute_result"
    }
   ],
   "source": [
    "# Dropping records when flag is false\n",
    "# Dropping columns like user id, session id, item id (no use now)\n",
    "df_com3 = df_com2[df_com2['flag'] == True].drop(['user_id','session_id','item_id'],axis=1)\n",
    "df_com3.shape, df_com3['impression_id'].unique().shape, df_com3.drop_duplicates().shape"
   ]
  },
  {
   "cell_type": "code",
   "execution_count": 13,
   "metadata": {
    "collapsed": false,
    "scrolled": false
   },
   "outputs": [
    {
     "data": {
      "text/plain": [
       "impression_id         0\n",
       "impression_time       0\n",
       "app_code              0\n",
       "os_version            0\n",
       "is_4G                 0\n",
       "is_click              0\n",
       "server_time           0\n",
       "device_type           0\n",
       "item_price         2674\n",
       "category_1         2674\n",
       "category_2         2674\n",
       "category_3         2674\n",
       "product_type       2674\n",
       "flag                  0\n",
       "dtype: int64"
      ]
     },
     "execution_count": 13,
     "metadata": {},
     "output_type": "execute_result"
    }
   ],
   "source": [
    "df_com3.isnull().sum()"
   ]
  },
  {
   "cell_type": "markdown",
   "metadata": {},
   "source": [
    "##### 2.1.1) Imputing Missing data (Explore Item data)\n",
    "* 2674 records missing in variables, from item_data\n",
    "* Let's explore this item data & then impute them\n",
    "\n",
    "* As discussed earlier, following numbers are the missing # records with the respect to their last number of days assumption;\n",
    "    * 7 days: 1273 missing\n",
    "    * 15days: 2674 missing\n",
    "    * 30days: 5085 missing"
   ]
  },
  {
   "cell_type": "code",
   "execution_count": 14,
   "metadata": {
    "collapsed": false,
    "scrolled": false
   },
   "outputs": [
    {
     "data": {
      "text/plain": [
       "(array([1.31486e+05, 1.03400e+03, 1.64000e+02, 4.50000e+01, 1.70000e+01,\n",
       "        8.00000e+00, 5.00000e+00, 1.00000e+00, 0.00000e+00, 1.00000e+00]),\n",
       " array([5.0000000e+00, 1.3408450e+05, 2.6816400e+05, 4.0224350e+05,\n",
       "        5.3632300e+05, 6.7040250e+05, 8.0448200e+05, 9.3856150e+05,\n",
       "        1.0726410e+06, 1.2067205e+06, 1.3408000e+06]),\n",
       " <a list of 10 Patch objects>)"
      ]
     },
     "execution_count": 14,
     "metadata": {},
     "output_type": "execute_result"
    },
    {
     "data": {
      "image/png": "[encoded data removed]",
      "text/plain": [
       "<matplotlib.figure.Figure at 0x1b509005d30>"
      ]
     },
     "metadata": {},
     "output_type": "display_data"
    }
   ],
   "source": [
    "plt.hist(df_item_data['item_price'])"
   ]
  },
  {
   "cell_type": "code",
   "execution_count": 15,
   "metadata": {
    "collapsed": false
   },
   "outputs": [
    {
     "data": {
      "text/plain": [
       "(<matplotlib.axes._subplots.AxesSubplot at 0x1b50011a240>,\n",
       " <matplotlib.axes._subplots.AxesSubplot at 0x1b50011a240>,\n",
       " Text(0.5,1,'Counts of Category 3'))"
      ]
     },
     "execution_count": 15,
     "metadata": {},
     "output_type": "execute_result"
    },
    {
     "data": {
      "image/png": "[encoded data removed]",
      "text/plain": [
       "<matplotlib.figure.Figure at 0x1b50b6fdbe0>"
      ]
     },
     "metadata": {},
     "output_type": "display_data"
    }
   ],
   "source": [
    "plt.figure(figsize=(18,8))\n",
    "plt.subplot(311),df_item_data['category_1'].value_counts().plot(kind = 'bar'),plt.title('Counts of Category 1')\n",
    "plt.subplot(312),df_item_data['category_2'].value_counts().plot(kind = 'bar'),plt.title('Counts of Category 2')\n",
    "plt.subplot(313),df_item_data['category_3'].value_counts().plot(kind = 'bar'),plt.title('Counts of Category 3')\n",
    "# plt.subplot(414),df_item_data['product_type'].value_counts().plot(kind = 'bar'),plt.title('Counts of product_type')"
   ]
  },
  {
   "cell_type": "code",
   "execution_count": 16,
   "metadata": {
    "collapsed": false
   },
   "outputs": [
    {
     "data": {
      "text/plain": [
       "(17, 79, 335, 7959)"
      ]
     },
     "execution_count": 16,
     "metadata": {},
     "output_type": "execute_result"
    }
   ],
   "source": [
    "df_item_data['category_1'].unique().shape[0], df_item_data['category_2'].unique().shape[0], df_item_data['category_3'].unique().shape[0],df_item_data['product_type'].unique().shape[0]"
   ]
  },
  {
   "cell_type": "code",
   "execution_count": 17,
   "metadata": {
    "collapsed": false
   },
   "outputs": [
    {
     "name": "stdout",
     "output_type": "stream",
     "text": [
      "Total items covered by top 20 category_2: 82639 i.e. 62.2464428559592\n",
      "20 [38, 39, 8, 42, 57, 51, 44, 9, 3, 74, 40, 43, 45, 62, 58, 63, 35, 26, 37, 7] \n",
      "\n",
      "Total items covered by top 40 category_3: 72620 i.e. 54.699798886721254\n",
      "40 [62, 292, 114, 151, 84, 36, 157, 159, 244, 223, 162, 252, 279, 73, 113, 263, 132, 90, 171, 233, 100, 214, 220, 20, 111, 15, 103, 27, 301, 329, 44, 199, 308, 119, 297, 134, 16, 148, 216, 271] \n",
      "\n",
      "Total items covered by top 200 product_type: 55590 i.e. 41.87223657550034\n",
      "200 [2874, 5622, 5036, 10412, 7791, 5164, 2106, 7455, 5609, 9959, 5276, 3184, 9015, 8310, 2417, 3055, 9041, 6239, 4524, 3399, 6648, 4924, 8121, 6077, 4986, 9362, 6186, 1945, 1943, 5251, 1617, 9086, 1431, 7885, 8323, 5420, 977, 7312, 1485, 7551, 7284, 8189, 1961, 1457, 9789, 1923, 176, 10099, 4309, 9839, 2835, 4371, 3642, 8506, 1713, 6295, 986, 2099, 10333, 7632, 6827, 5403, 8765, 763, 8127, 3265, 10083, 2944, 8579, 8994, 3113, 2159, 907, 9495, 2065, 4646, 5783, 6823, 9234, 1845, 5655, 493, 9498, 491, 7923, 2475, 2487, 7738, 3062, 2331, 6898, 4998, 7640, 8052, 3328, 6483, 6825, 2376, 4188, 332, 1207, 422, 6878, 6607, 8834, 6371, 231, 2076, 6751, 5972, 4057, 12, 3844, 10331, 8558, 7376, 6108, 545, 1732, 7554, 8251, 9344, 7532, 10025, 6192, 124, 4967, 3009, 5282, 8890, 6598, 8817, 7233, 4282, 5208, 6498, 3151, 3766, 2844, 6641, 9174, 10215, 4719, 60, 9227, 7238, 7071, 1694, 4064, 10097, 8915, 2457, 9713, 8411, 1427, 3635, 6673, 209, 3606, 8522, 6201, 5049, 7936, 3999, 1887, 2270, 4702, 9939, 4244, 3528, 9225, 1270, 9172, 6835, 7241, 7069, 8600, 1252, 7093, 8324, 8351, 662, 10304, 6702, 3634, 8932, 2724, 9397, 4605, 7467, 2751, 4467, 3850, 1076, 7030, 4220, 8892, 9314, 2829, 7089] \n",
      "\n"
     ]
    }
   ],
   "source": [
    "# Top Category_2\n",
    "temp = df_item_data['category_2'].value_counts().reset_index()\n",
    "print(\"Total items covered by top 20 category_2:\", temp.iloc[:20,1].sum(), \"i.e.\", temp.iloc[:20,1].sum()/df_item_data.shape[0]*100)\n",
    "category_2_top = list(temp.iloc[:20,0])\n",
    "print(len(category_2_top),category_2_top,'\\n')\n",
    "\n",
    "# Top Category_3\n",
    "temp = df_item_data['category_3'].value_counts().reset_index()\n",
    "print(\"Total items covered by top 40 category_3:\", temp.iloc[:40,1].sum(), \"i.e.\", temp.iloc[:40,1].sum()/df_item_data.shape[0]*100)\n",
    "category_3_top = list(temp.iloc[:40,0])\n",
    "print(len(category_3_top),category_3_top,'\\n')\n",
    "\n",
    "# Top Product_Type\n",
    "temp = df_item_data['product_type'].value_counts().reset_index()\n",
    "print(\"Total items covered by top 200 product_type:\", temp.iloc[:200,1].sum(), \"i.e.\", temp.iloc[:200,1].sum()/df_item_data.shape[0]*100)\n",
    "product_type_top = list(temp.iloc[:200,0])\n",
    "print(len(product_type_top),product_type_top,'\\n')"
   ]
  },
  {
   "cell_type": "markdown",
   "metadata": {},
   "source": [
    "* Most occruing categories & product type will cover item(%):\n",
    "    * Top 20 category_2 are 62%\n",
    "    * Top 40 category_3 are 55%\n",
    "    * Top 200 product_type are 42%"
   ]
  },
  {
   "cell_type": "code",
   "execution_count": 18,
   "metadata": {
    "collapsed": false,
    "scrolled": true
   },
   "outputs": [
    {
     "data": {
      "text/plain": [
       "9    17343\n",
       "Name: category_1, dtype: int64"
      ]
     },
     "execution_count": 18,
     "metadata": {},
     "output_type": "execute_result"
    }
   ],
   "source": [
    "df_item_data['category_1'].value_counts()[:1]                 # Most occured category_1"
   ]
  },
  {
   "cell_type": "markdown",
   "metadata": {},
   "source": [
    "* Item price is highly right skewed, it won't be good idea to impute missing data with median/mean value\n",
    "* However, mode of category_1 is 9 (most occurance), applying this condition, we'll repace;\n",
    "    * item price with median\n",
    "    * category_1, category_2, category_3 & product_type with mode"
   ]
  },
  {
   "cell_type": "code",
   "execution_count": 19,
   "metadata": {
    "collapsed": false
   },
   "outputs": [
    {
     "name": "stdout",
     "output_type": "stream",
     "text": [
      "4196.0 9 44 114 7791\n"
     ]
    }
   ],
   "source": [
    "item_category_1 = int(df_item_data['category_1'].mode())\n",
    "temp = df_item_data[df_item_data['category_1'] == item_category_1]\n",
    "\n",
    "item_price_impute = temp['item_price'].median()\n",
    "item_category_2 = int(temp['category_2'].mode())\n",
    "item_category_3 = int(temp['category_3'].mode())\n",
    "item_product_type = int(temp['product_type'].mode())\n",
    "\n",
    "print(item_price_impute, item_category_1, item_category_2, item_category_3, item_product_type)"
   ]
  },
  {
   "cell_type": "code",
   "execution_count": 20,
   "metadata": {
    "collapsed": false
   },
   "outputs": [
    {
     "name": "stdout",
     "output_type": "stream",
     "text": [
      "# missing data: 0\n"
     ]
    }
   ],
   "source": [
    "# as we discovered above during item_data exploration, we'll impute missing data here accordingly\n",
    "df_com3['item_price'].fillna(item_price_impute,inplace=True)\n",
    "df_com3['category_1'].fillna(item_category_1,inplace=True)\n",
    "df_com3['category_2'].fillna(item_category_2,inplace=True)\n",
    "df_com3['category_3'].fillna(item_category_3,inplace=True)\n",
    "df_com3['product_type'].fillna(item_product_type,inplace=True)\n",
    "\n",
    "print(\"# missing data:\",df_com3.isnull().sum().sum())"
   ]
  },
  {
   "cell_type": "code",
   "execution_count": 21,
   "metadata": {
    "collapsed": false
   },
   "outputs": [
    {
     "data": {
      "text/plain": [
       "((4104255, 14),\n",
       " Index(['impression_id', 'impression_time', 'app_code', 'os_version', 'is_4G',\n",
       "        'is_click', 'server_time', 'device_type', 'item_price', 'category_1',\n",
       "        'category_2', 'category_3', 'product_type', 'flag'],\n",
       "       dtype='object'))"
      ]
     },
     "execution_count": 21,
     "metadata": {},
     "output_type": "execute_result"
    }
   ],
   "source": [
    "df_com3.shape, df_com3.columns"
   ]
  },
  {
   "cell_type": "markdown",
   "metadata": {},
   "source": [
    "#### 2.2) Rollup data at impression_id"
   ]
  },
  {
   "cell_type": "markdown",
   "metadata": {},
   "source": [
    "* Data has duplicates in view log file, that only can happen when user clicked twice in a give second, so we'll treat these records as separte entity\n",
    "* Roll up at impression id;\n",
    "    * Count of log views generated in last 15 days\n",
    "    * item price: groupby at impression_id level\n",
    "    * devive_type (unique = 3); crosstab counts\n",
    "    * category_1 (unique = 18); crosstab counts\n",
    "    * category_2 & category_3;\n",
    "        * There are way too many sub-categories here, so we'll ignore them as it'll only going to increase noise in data\n",
    "        * Taking top 20 from category_2 & top 40 category_3\n",
    "    * product_type; (unique = ~6k from ~8k, which logged in last 15 days)\n",
    "        * Either we'll ignore this for now\n",
    "        * Or take top 200 product types"
   ]
  },
  {
   "cell_type": "code",
   "execution_count": 22,
   "metadata": {
    "collapsed": false,
    "scrolled": false
   },
   "outputs": [
    {
     "name": "stdout",
     "output_type": "stream",
     "text": [
      "impression_id 275478\n",
      "impression_time 44139\n",
      "app_code 495\n",
      "os_version 3\n",
      "is_4G 2\n",
      "is_click 3\n",
      "server_time 59449\n",
      "device_type 3\n",
      "item_price 10724\n",
      "category_1 16\n",
      "category_2 78\n",
      "category_3 330\n",
      "product_type 6783\n",
      "flag 1\n"
     ]
    }
   ],
   "source": [
    "# Column wise unique items \n",
    "for i in df_com3.columns.tolist():\n",
    "    print(i,len(df_com3[i].unique()))"
   ]
  },
  {
   "cell_type": "markdown",
   "metadata": {},
   "source": [
    "##### 2.2.1) Item_Price & Counts of View Log"
   ]
  },
  {
   "cell_type": "code",
   "execution_count": 23,
   "metadata": {
    "collapsed": false
   },
   "outputs": [
    {
     "data": {
      "text/plain": [
       "((275478, 3), Index(['impression_id', 'item_price', 'flag'], dtype='object'))"
      ]
     },
     "execution_count": 23,
     "metadata": {},
     "output_type": "execute_result"
    }
   ],
   "source": [
    "df_com4 = df_com3.groupby('impression_id')['item_price','flag'].agg('sum').reset_index()\n",
    "df_com4.shape, df_com4.columns"
   ]
  },
  {
   "cell_type": "markdown",
   "metadata": {},
   "source": [
    "##### 2.2.2) Category 1, 2 & 3 and Product Type"
   ]
  },
  {
   "cell_type": "code",
   "execution_count": 24,
   "metadata": {
    "collapsed": false
   },
   "outputs": [
    {
     "name": "stdout",
     "output_type": "stream",
     "text": [
      "(275478, 19) Index(['impression_id', 'item_price', 'flag', 'C1_0.0', 'C1_1.0', 'C1_2.0',\n",
      "       'C1_4.0', 'C1_6.0', 'C1_7.0', 'C1_8.0', 'C1_9.0', 'C1_10.0', 'C1_11.0',\n",
      "       'C1_12.0', 'C1_13.0', 'C1_14.0', 'C1_15.0', 'C1_16.0', 'C1_17.0'],\n",
      "      dtype='object')\n"
     ]
    }
   ],
   "source": [
    "temp = pd.crosstab(df_com3['impression_id'],df_com3['category_1']).reset_index()                # 16 unique category_1 (5th catgory dropped)\n",
    "df_com4 = df_com4.merge(temp,how='left',on='impression_id')\n",
    "df_com4.columns = ['C1'+'_'+str(i) if \"0\" in str(i) else i for i in list(df_com4.columns)]\n",
    "print(df_com4.shape, df_com4.columns)"
   ]
  },
  {
   "cell_type": "code",
   "execution_count": 25,
   "metadata": {
    "collapsed": false
   },
   "outputs": [
    {
     "data": {
      "text/plain": [
       "((21,), (41,), (201,))"
      ]
     },
     "execution_count": 25,
     "metadata": {},
     "output_type": "execute_result"
    }
   ],
   "source": [
    "# Adding new column with most occured categories\n",
    "df_com3['category_2_new'] = df_com3['category_2'].apply(lambda x: \"C2\"+\"_\"+str(x) if x in category_2_top else None)\n",
    "df_com3['category_3_new'] = df_com3['category_3'].apply(lambda x: \"C3\"+\"_\"+str(x) if x in category_3_top else None)\n",
    "df_com3['product_type_new'] = df_com3['product_type'].apply(lambda x: \"PT\"+\"_\"+str(x) if x in product_type_top else None)\n",
    "\n",
    "df_com3['category_2_new'].unique().shape, df_com3['category_3_new'].unique().shape, df_com3['product_type_new'].unique().shape"
   ]
  },
  {
   "cell_type": "code",
   "execution_count": 26,
   "metadata": {
    "collapsed": false
   },
   "outputs": [
    {
     "name": "stdout",
     "output_type": "stream",
     "text": [
      "(275478, 39)\n",
      "(275478, 79)\n"
     ]
    },
    {
     "data": {
      "text/plain": [
       "(275478, 279)"
      ]
     },
     "execution_count": 26,
     "metadata": {},
     "output_type": "execute_result"
    }
   ],
   "source": [
    "temp = pd.crosstab(df_com3['impression_id'],df_com3['category_2_new']).reset_index()\n",
    "df_com4 = df_com4.merge(temp,how='left',on='impression_id')\n",
    "print(df_com4.shape)\n",
    "\n",
    "temp = pd.crosstab(df_com3['impression_id'],df_com3['category_3_new']).reset_index()\n",
    "df_com4 = df_com4.merge(temp,how='left',on='impression_id')\n",
    "print(df_com4.shape)\n",
    "\n",
    "temp = pd.crosstab(df_com3['impression_id'],df_com3['product_type_new']).reset_index()\n",
    "df_com4 = df_com4.merge(temp,how='left',on='impression_id')\n",
    "df_com4.shape"
   ]
  },
  {
   "cell_type": "code",
   "execution_count": null,
   "metadata": {
    "collapsed": true
   },
   "outputs": [],
   "source": []
  },
  {
   "cell_type": "markdown",
   "metadata": {},
   "source": [
    "##### 2.2.3) Device_Type"
   ]
  },
  {
   "cell_type": "code",
   "execution_count": 27,
   "metadata": {
    "collapsed": false
   },
   "outputs": [
    {
     "name": "stdout",
     "output_type": "stream",
     "text": [
      "(275478, 282) Index(['impression_id', 'item_price', 'flag', 'C1_0.0', 'C1_1.0', 'C1_2.0',\n",
      "       'C1_4.0', 'C1_6.0', 'C1_7.0', 'C1_8.0',\n",
      "       ...\n",
      "       'PT_9713.0', 'PT_977.0', 'PT_9789.0', 'PT_9839.0', 'PT_986.0',\n",
      "       'PT_9939.0', 'PT_9959.0', 'android', 'iphone', 'web'],\n",
      "      dtype='object', length=282)\n"
     ]
    }
   ],
   "source": [
    "temp = pd.crosstab(df_com3['impression_id'],df_com3['device_type']).reset_index()                # 3 unique category_1 (5th catgory dropped)\n",
    "df_com4 = df_com4.merge(temp,how='left',on='impression_id')\n",
    "print(df_com4.shape, df_com4.columns)"
   ]
  },
  {
   "cell_type": "markdown",
   "metadata": {},
   "source": [
    "##### 2.2.4) Merge rolledup view log & item data with Train+Test data"
   ]
  },
  {
   "cell_type": "code",
   "execution_count": 28,
   "metadata": {
    "collapsed": false,
    "scrolled": true
   },
   "outputs": [
    {
     "name": "stdout",
     "output_type": "stream",
     "text": [
      "(328284, 288) Index(['impression_id', 'impression_time', 'user_id', 'app_code', 'os_version',\n",
      "       'is_4G', 'is_click', 'item_price', 'flag', 'C1_0.0',\n",
      "       ...\n",
      "       'PT_9713.0', 'PT_977.0', 'PT_9789.0', 'PT_9839.0', 'PT_986.0',\n",
      "       'PT_9939.0', 'PT_9959.0', 'android', 'iphone', 'web'],\n",
      "      dtype='object', length=288)\n"
     ]
    },
    {
     "data": {
      "text/html": [
       "<div>\n",
       "<style scoped>\n",
       "    .dataframe tbody tr th:only-of-type {\n",
       "        vertical-align: middle;\n",
       "    }\n",
       "\n",
       "    .dataframe tbody tr th {\n",
       "        vertical-align: top;\n",
       "    }\n",
       "\n",
       "    .dataframe thead th {\n",
       "        text-align: right;\n",
       "    }\n",
       "</style>\n",
       "<table border=\"1\" class=\"dataframe\">\n",
       "  <thead>\n",
       "    <tr style=\"text-align: right;\">\n",
       "      <th></th>\n",
       "      <th>impression_id</th>\n",
       "      <th>impression_time</th>\n",
       "      <th>user_id</th>\n",
       "      <th>app_code</th>\n",
       "      <th>os_version</th>\n",
       "      <th>is_4G</th>\n",
       "      <th>is_click</th>\n",
       "      <th>item_price</th>\n",
       "      <th>flag</th>\n",
       "      <th>C1_0.0</th>\n",
       "      <th>...</th>\n",
       "      <th>PT_9713.0</th>\n",
       "      <th>PT_977.0</th>\n",
       "      <th>PT_9789.0</th>\n",
       "      <th>PT_9839.0</th>\n",
       "      <th>PT_986.0</th>\n",
       "      <th>PT_9939.0</th>\n",
       "      <th>PT_9959.0</th>\n",
       "      <th>android</th>\n",
       "      <th>iphone</th>\n",
       "      <th>web</th>\n",
       "    </tr>\n",
       "  </thead>\n",
       "  <tbody>\n",
       "    <tr>\n",
       "      <th>0</th>\n",
       "      <td>c4ca4238a0b923820dcc509a6f75849b</td>\n",
       "      <td>2018-11-15 00:00:00</td>\n",
       "      <td>87862</td>\n",
       "      <td>422</td>\n",
       "      <td>old</td>\n",
       "      <td>0</td>\n",
       "      <td>0</td>\n",
       "      <td>NaN</td>\n",
       "      <td>NaN</td>\n",
       "      <td>NaN</td>\n",
       "      <td>...</td>\n",
       "      <td>NaN</td>\n",
       "      <td>NaN</td>\n",
       "      <td>NaN</td>\n",
       "      <td>NaN</td>\n",
       "      <td>NaN</td>\n",
       "      <td>NaN</td>\n",
       "      <td>NaN</td>\n",
       "      <td>NaN</td>\n",
       "      <td>NaN</td>\n",
       "      <td>NaN</td>\n",
       "    </tr>\n",
       "    <tr>\n",
       "      <th>1</th>\n",
       "      <td>45c48cce2e2d7fbdea1afc51c7c6ad26</td>\n",
       "      <td>2018-11-15 00:01:00</td>\n",
       "      <td>63410</td>\n",
       "      <td>467</td>\n",
       "      <td>latest</td>\n",
       "      <td>1</td>\n",
       "      <td>1</td>\n",
       "      <td>NaN</td>\n",
       "      <td>NaN</td>\n",
       "      <td>NaN</td>\n",
       "      <td>...</td>\n",
       "      <td>NaN</td>\n",
       "      <td>NaN</td>\n",
       "      <td>NaN</td>\n",
       "      <td>NaN</td>\n",
       "      <td>NaN</td>\n",
       "      <td>NaN</td>\n",
       "      <td>NaN</td>\n",
       "      <td>NaN</td>\n",
       "      <td>NaN</td>\n",
       "      <td>NaN</td>\n",
       "    </tr>\n",
       "    <tr>\n",
       "      <th>2</th>\n",
       "      <td>70efdf2ec9b086079795c442636b55fb</td>\n",
       "      <td>2018-11-15 00:02:00</td>\n",
       "      <td>71748</td>\n",
       "      <td>259</td>\n",
       "      <td>intermediate</td>\n",
       "      <td>1</td>\n",
       "      <td>0</td>\n",
       "      <td>NaN</td>\n",
       "      <td>NaN</td>\n",
       "      <td>NaN</td>\n",
       "      <td>...</td>\n",
       "      <td>NaN</td>\n",
       "      <td>NaN</td>\n",
       "      <td>NaN</td>\n",
       "      <td>NaN</td>\n",
       "      <td>NaN</td>\n",
       "      <td>NaN</td>\n",
       "      <td>NaN</td>\n",
       "      <td>NaN</td>\n",
       "      <td>NaN</td>\n",
       "      <td>NaN</td>\n",
       "    </tr>\n",
       "    <tr>\n",
       "      <th>3</th>\n",
       "      <td>8e296a067a37563370ded05f5a3bf3ec</td>\n",
       "      <td>2018-11-15 00:02:00</td>\n",
       "      <td>69209</td>\n",
       "      <td>244</td>\n",
       "      <td>latest</td>\n",
       "      <td>1</td>\n",
       "      <td>0</td>\n",
       "      <td>37528.0</td>\n",
       "      <td>11.0</td>\n",
       "      <td>2.0</td>\n",
       "      <td>...</td>\n",
       "      <td>0.0</td>\n",
       "      <td>0.0</td>\n",
       "      <td>0.0</td>\n",
       "      <td>0.0</td>\n",
       "      <td>0.0</td>\n",
       "      <td>0.0</td>\n",
       "      <td>0.0</td>\n",
       "      <td>11.0</td>\n",
       "      <td>0.0</td>\n",
       "      <td>0.0</td>\n",
       "    </tr>\n",
       "    <tr>\n",
       "      <th>4</th>\n",
       "      <td>182be0c5cdcd5072bb1864cdee4d3d6e</td>\n",
       "      <td>2018-11-15 00:02:00</td>\n",
       "      <td>62873</td>\n",
       "      <td>473</td>\n",
       "      <td>latest</td>\n",
       "      <td>0</td>\n",
       "      <td>0</td>\n",
       "      <td>53210.0</td>\n",
       "      <td>7.0</td>\n",
       "      <td>0.0</td>\n",
       "      <td>...</td>\n",
       "      <td>0.0</td>\n",
       "      <td>0.0</td>\n",
       "      <td>0.0</td>\n",
       "      <td>0.0</td>\n",
       "      <td>0.0</td>\n",
       "      <td>0.0</td>\n",
       "      <td>0.0</td>\n",
       "      <td>7.0</td>\n",
       "      <td>0.0</td>\n",
       "      <td>0.0</td>\n",
       "    </tr>\n",
       "  </tbody>\n",
       "</table>\n",
       "<p>5 rows × 288 columns</p>\n",
       "</div>"
      ],
      "text/plain": [
       "                      impression_id     impression_time  user_id  app_code  \\\n",
       "0  c4ca4238a0b923820dcc509a6f75849b 2018-11-15 00:00:00    87862       422   \n",
       "1  45c48cce2e2d7fbdea1afc51c7c6ad26 2018-11-15 00:01:00    63410       467   \n",
       "2  70efdf2ec9b086079795c442636b55fb 2018-11-15 00:02:00    71748       259   \n",
       "3  8e296a067a37563370ded05f5a3bf3ec 2018-11-15 00:02:00    69209       244   \n",
       "4  182be0c5cdcd5072bb1864cdee4d3d6e 2018-11-15 00:02:00    62873       473   \n",
       "\n",
       "     os_version  is_4G is_click  item_price  flag  C1_0.0  ...  PT_9713.0  \\\n",
       "0           old      0        0         NaN   NaN     NaN  ...        NaN   \n",
       "1        latest      1        1         NaN   NaN     NaN  ...        NaN   \n",
       "2  intermediate      1        0         NaN   NaN     NaN  ...        NaN   \n",
       "3        latest      1        0     37528.0  11.0     2.0  ...        0.0   \n",
       "4        latest      0        0     53210.0   7.0     0.0  ...        0.0   \n",
       "\n",
       "   PT_977.0  PT_9789.0  PT_9839.0  PT_986.0  PT_9939.0  PT_9959.0  android  \\\n",
       "0       NaN        NaN        NaN       NaN        NaN        NaN      NaN   \n",
       "1       NaN        NaN        NaN       NaN        NaN        NaN      NaN   \n",
       "2       NaN        NaN        NaN       NaN        NaN        NaN      NaN   \n",
       "3       0.0        0.0        0.0       0.0        0.0        0.0     11.0   \n",
       "4       0.0        0.0        0.0       0.0        0.0        0.0      7.0   \n",
       "\n",
       "   iphone  web  \n",
       "0     NaN  NaN  \n",
       "1     NaN  NaN  \n",
       "2     NaN  NaN  \n",
       "3     0.0  0.0  \n",
       "4     0.0  0.0  \n",
       "\n",
       "[5 rows x 288 columns]"
      ]
     },
     "execution_count": 28,
     "metadata": {},
     "output_type": "execute_result"
    }
   ],
   "source": [
    "df_com5 = df_com.merge(df_com4,how='left',on='impression_id')\n",
    "print(df_com5.shape,df_com5.columns)\n",
    "df_com5.head()"
   ]
  },
  {
   "cell_type": "code",
   "execution_count": 29,
   "metadata": {
    "collapsed": false,
    "scrolled": false
   },
   "outputs": [
    {
     "name": "stdout",
     "output_type": "stream",
     "text": [
      "(52806, 288)\n"
     ]
    },
    {
     "data": {
      "text/plain": [
       "0     27283\n",
       "NA    24945\n",
       "1       578\n",
       "Name: is_click, dtype: int64"
      ]
     },
     "execution_count": 29,
     "metadata": {},
     "output_type": "execute_result"
    }
   ],
   "source": [
    "df_nodata = df_com5[df_com5['flag'].isna()]\n",
    "print(df_nodata.shape)\n",
    "df_nodata['is_click'].value_counts()"
   ]
  },
  {
   "cell_type": "markdown",
   "metadata": {},
   "source": [
    "* As said earlier, for 16.1% of impression_id, there is no log view generated in last 15 days. So, the biggest challenge with this data now is;\n",
    "    * we can't drop these records\n",
    "    * we can't impute them\n",
    "* Looks like, half of this missing impressions belongs to test data and only 1% (578 cases) of train data says user clicked on these impressions (where we don't have any record of log view in last 15 days) \n",
    "* Let's explore this set of data, to answere this question that how to deal with these missing part"
   ]
  },
  {
   "cell_type": "code",
   "execution_count": 30,
   "metadata": {
    "collapsed": false,
    "scrolled": true
   },
   "outputs": [
    {
     "data": {
      "text/plain": [
       "0     199464\n",
       "NA     65730\n",
       "1      10284\n",
       "Name: is_click, dtype: int64"
      ]
     },
     "execution_count": 30,
     "metadata": {},
     "output_type": "execute_result"
    }
   ],
   "source": [
    "df_com5[df_com5['flag'].isna()==False]['is_click'].value_counts()"
   ]
  },
  {
   "cell_type": "markdown",
   "metadata": {},
   "source": [
    "* Good part is we have view_log data for 10284 cases (out of 10862 clicks), where user clicked on impression\n",
    "* So, we simply replace missing data with 0, because thats what it will count here. i.e. No view_log generated in last 15 days\n",
    "* And if there is any pattern for this missing data, will be covered with 'app_code', 'os_version' & 'is_4G'. So, next we'll see how to deal with these 3 variables"
   ]
  },
  {
   "cell_type": "code",
   "execution_count": null,
   "metadata": {
    "collapsed": true
   },
   "outputs": [],
   "source": []
  },
  {
   "cell_type": "markdown",
   "metadata": {},
   "source": [
    "### 3.) EDA (for view log & item data)"
   ]
  },
  {
   "cell_type": "code",
   "execution_count": 31,
   "metadata": {
    "collapsed": false
   },
   "outputs": [
    {
     "data": {
      "text/plain": [
       "0"
      ]
     },
     "execution_count": 31,
     "metadata": {},
     "output_type": "execute_result"
    }
   ],
   "source": [
    "# replaceing missing data with 0 (for 34% of impressions; to log file in last 7 days)\n",
    "df_com5.fillna(0,inplace=True)\n",
    "df_com5.isnull().sum().sum()"
   ]
  },
  {
   "cell_type": "code",
   "execution_count": 32,
   "metadata": {
    "collapsed": false,
    "scrolled": true
   },
   "outputs": [
    {
     "data": {
      "text/plain": [
       "((328284, 288),\n",
       " Index(['impression_id', 'impression_time', 'user_id', 'app_code', 'os_version',\n",
       "        'is_4G', 'is_click', 'item_price', 'flag', 'C1_0.0',\n",
       "        ...\n",
       "        'PT_9713.0', 'PT_977.0', 'PT_9789.0', 'PT_9839.0', 'PT_986.0',\n",
       "        'PT_9939.0', 'PT_9959.0', 'android', 'iphone', 'web'],\n",
       "       dtype='object', length=288))"
      ]
     },
     "execution_count": 32,
     "metadata": {},
     "output_type": "execute_result"
    }
   ],
   "source": [
    "df_com5.shape, df_com5.columns"
   ]
  },
  {
   "cell_type": "markdown",
   "metadata": {},
   "source": [
    "#### 3.1) Item Price"
   ]
  },
  {
   "cell_type": "code",
   "execution_count": 33,
   "metadata": {
    "collapsed": false
   },
   "outputs": [
    {
     "data": {
      "text/plain": [
       "(<matplotlib.axes._subplots.AxesSubplot at 0x1b501737c50>,\n",
       " <matplotlib.axes._subplots.AxesSubplot at 0x1b501737c50>,\n",
       " Text(0.5,1,'Log transformation'))"
      ]
     },
     "execution_count": 33,
     "metadata": {},
     "output_type": "execute_result"
    },
    {
     "data": {
      "image/png": "[encoded data removed]",
      "text/plain": [
       "<matplotlib.figure.Figure at 0x1b55106d828>"
      ]
     },
     "metadata": {},
     "output_type": "display_data"
    }
   ],
   "source": [
    "# Treating outliers with robust scaling vs log transformation\n",
    "from sklearn.preprocessing import RobustScaler\n",
    "scaler = RobustScaler()\n",
    "df_com5['item_price1'] = scaler.fit_transform(df_com5[['item_price']])                      # Robust transformation\n",
    "\n",
    "df_com5['item_price2'] = np.log(df_com5['item_price'])                                      # Log transformation\n",
    "df_com5['item_price2'].replace([np.inf, -np.inf], 0, inplace = True)                        # replacing inf with 0 (n/a cases)\n",
    "\n",
    "plt.figure(figsize=(15,4))\n",
    "plt.subplot(131),sns.distplot(df_com5[df_com5['item_price']>0]['item_price']), plt.title('Without transformation')\n",
    "plt.subplot(132),sns.distplot(df_com5[df_com5['item_price1']>0]['item_price1']), plt.title('Robust transformation')\n",
    "plt.subplot(133),sns.distplot(df_com5[df_com5['item_price2']>0]['item_price2']), plt.title('Log transformation')"
   ]
  },
  {
   "cell_type": "code",
   "execution_count": 34,
   "metadata": {
    "collapsed": false
   },
   "outputs": [
    {
     "data": {
      "text/plain": [
       "<matplotlib.axes._subplots.AxesSubplot at 0x1b5599957b8>"
      ]
     },
     "execution_count": 34,
     "metadata": {},
     "output_type": "execute_result"
    },
    {
     "data": {
      "image/png": "[encoded data removed]",
      "text/plain": [
       "<matplotlib.figure.Figure at 0x1b50164c9b0>"
      ]
     },
     "metadata": {},
     "output_type": "display_data"
    }
   ],
   "source": [
    "sns.boxplot(x=df_com5['is_click'],y=df_com5['item_price2'])"
   ]
  },
  {
   "cell_type": "markdown",
   "metadata": {},
   "source": [
    "* High product price seems to have a good relationship with clicking on impression"
   ]
  },
  {
   "cell_type": "markdown",
   "metadata": {},
   "source": [
    "#### 3.2) Flag: # log views within last 15 days (before impression date)"
   ]
  },
  {
   "cell_type": "code",
   "execution_count": 35,
   "metadata": {
    "collapsed": false
   },
   "outputs": [
    {
     "data": {
      "text/plain": [
       "(<matplotlib.axes._subplots.AxesSubplot at 0x1b5017f9e48>,\n",
       " <matplotlib.axes._subplots.AxesSubplot at 0x1b5017f9e48>,\n",
       " Text(0.5,1,'Log transformation'))"
      ]
     },
     "execution_count": 35,
     "metadata": {},
     "output_type": "execute_result"
    },
    {
     "data": {
      "image/png": "[encoded data removed]",
      "text/plain": [
       "<matplotlib.figure.Figure at 0x1b5017ddc50>"
      ]
     },
     "metadata": {},
     "output_type": "display_data"
    }
   ],
   "source": [
    "# Treating outliers with robust scaling vs log transformation\n",
    "from sklearn.preprocessing import RobustScaler\n",
    "scaler = RobustScaler()\n",
    "df_com5['flag1'] = scaler.fit_transform(df_com5[['flag']])                      # Robust transformation\n",
    "\n",
    "df_com5['flag2'] = np.log(df_com5['flag'])                                      # Log transformation\n",
    "df_com5['flag2'].replace([np.inf, -np.inf], 0, inplace = True)                        # replacing inf with 0 (n/a cases)\n",
    "\n",
    "plt.figure(figsize=(15,4))\n",
    "plt.subplot(131),sns.distplot(df_com5[df_com5['flag']>0]['flag']), plt.title('Without transformation')\n",
    "plt.subplot(132),sns.distplot(df_com5[df_com5['flag1']>0]['flag1']), plt.title('Robust transformation')\n",
    "plt.subplot(133),sns.distplot(df_com5[df_com5['flag2']>0]['flag2']), plt.title('Log transformation')"
   ]
  },
  {
   "cell_type": "code",
   "execution_count": 36,
   "metadata": {
    "collapsed": false,
    "scrolled": true
   },
   "outputs": [
    {
     "data": {
      "text/plain": [
       "<matplotlib.axes._subplots.AxesSubplot at 0x1b502e20390>"
      ]
     },
     "execution_count": 36,
     "metadata": {},
     "output_type": "execute_result"
    },
    {
     "data": {
      "image/png": "[encoded data removed]",
      "text/plain": [
       "<matplotlib.figure.Figure at 0x1b546b47208>"
      ]
     },
     "metadata": {},
     "output_type": "display_data"
    }
   ],
   "source": [
    "sns.boxplot(x=df_com5['is_click'],y=df_com5['flag2'])"
   ]
  },
  {
   "cell_type": "markdown",
   "metadata": {},
   "source": [
    "* Higher log counts seems to have a good relationship with clicking on impression"
   ]
  },
  {
   "cell_type": "markdown",
   "metadata": {},
   "source": [
    "#### 3.3) Device Type"
   ]
  },
  {
   "cell_type": "code",
   "execution_count": 37,
   "metadata": {
    "collapsed": false
   },
   "outputs": [
    {
     "data": {
      "text/plain": [
       "android    3117737\n",
       "iphone         861\n",
       "web             24\n",
       "Name: device_type, dtype: int64"
      ]
     },
     "execution_count": 37,
     "metadata": {},
     "output_type": "execute_result"
    }
   ],
   "source": [
    "df_view_log['device_type'].value_counts()"
   ]
  },
  {
   "cell_type": "code",
   "execution_count": 38,
   "metadata": {
    "collapsed": false
   },
   "outputs": [
    {
     "data": {
      "text/html": [
       "<div>\n",
       "<style scoped>\n",
       "    .dataframe tbody tr th:only-of-type {\n",
       "        vertical-align: middle;\n",
       "    }\n",
       "\n",
       "    .dataframe tbody tr th {\n",
       "        vertical-align: top;\n",
       "    }\n",
       "\n",
       "    .dataframe thead tr th {\n",
       "        text-align: left;\n",
       "    }\n",
       "\n",
       "    .dataframe thead tr:last-of-type th {\n",
       "        text-align: right;\n",
       "    }\n",
       "</style>\n",
       "<table border=\"1\" class=\"dataframe\">\n",
       "  <thead>\n",
       "    <tr>\n",
       "      <th></th>\n",
       "      <th colspan=\"2\" halign=\"left\">android</th>\n",
       "      <th colspan=\"2\" halign=\"left\">iphone</th>\n",
       "      <th colspan=\"2\" halign=\"left\">web</th>\n",
       "    </tr>\n",
       "    <tr>\n",
       "      <th></th>\n",
       "      <th>sum</th>\n",
       "      <th>mean</th>\n",
       "      <th>sum</th>\n",
       "      <th>mean</th>\n",
       "      <th>sum</th>\n",
       "      <th>mean</th>\n",
       "    </tr>\n",
       "    <tr>\n",
       "      <th>is_click</th>\n",
       "      <th></th>\n",
       "      <th></th>\n",
       "      <th></th>\n",
       "      <th></th>\n",
       "      <th></th>\n",
       "      <th></th>\n",
       "    </tr>\n",
       "  </thead>\n",
       "  <tbody>\n",
       "    <tr>\n",
       "      <th>0</th>\n",
       "      <td>3044044.0</td>\n",
       "      <td>13.424848</td>\n",
       "      <td>611.0</td>\n",
       "      <td>0.002695</td>\n",
       "      <td>16.0</td>\n",
       "      <td>0.000071</td>\n",
       "    </tr>\n",
       "    <tr>\n",
       "      <th>1</th>\n",
       "      <td>202980.0</td>\n",
       "      <td>18.687166</td>\n",
       "      <td>32.0</td>\n",
       "      <td>0.002946</td>\n",
       "      <td>0.0</td>\n",
       "      <td>0.000000</td>\n",
       "    </tr>\n",
       "    <tr>\n",
       "      <th>NA</th>\n",
       "      <td>856196.0</td>\n",
       "      <td>9.442470</td>\n",
       "      <td>362.0</td>\n",
       "      <td>0.003992</td>\n",
       "      <td>14.0</td>\n",
       "      <td>0.000154</td>\n",
       "    </tr>\n",
       "  </tbody>\n",
       "</table>\n",
       "</div>"
      ],
      "text/plain": [
       "            android            iphone             web          \n",
       "                sum       mean    sum      mean   sum      mean\n",
       "is_click                                                       \n",
       "0         3044044.0  13.424848  611.0  0.002695  16.0  0.000071\n",
       "1          202980.0  18.687166   32.0  0.002946   0.0  0.000000\n",
       "NA         856196.0   9.442470  362.0  0.003992  14.0  0.000154"
      ]
     },
     "execution_count": 38,
     "metadata": {},
     "output_type": "execute_result"
    }
   ],
   "source": [
    "df_com5.groupby('is_click')[['android','iphone','web']].agg(['sum','mean'])"
   ]
  },
  {
   "cell_type": "markdown",
   "metadata": {},
   "source": [
    "* In view_log file, 99.97% of device types are android\n",
    "* After rolling up at impression_id, only android class seems to have some relation with is_click. As avg counts in log file is high when clicked\n",
    "* So, we'll drop iphone & web variables"
   ]
  },
  {
   "cell_type": "markdown",
   "metadata": {},
   "source": [
    "#### 3.4) Product Category & Type"
   ]
  },
  {
   "cell_type": "code",
   "execution_count": 39,
   "metadata": {
    "collapsed": false,
    "scrolled": true
   },
   "outputs": [
    {
     "data": {
      "text/html": [
       "<div>\n",
       "<style scoped>\n",
       "    .dataframe tbody tr th:only-of-type {\n",
       "        vertical-align: middle;\n",
       "    }\n",
       "\n",
       "    .dataframe tbody tr th {\n",
       "        vertical-align: top;\n",
       "    }\n",
       "\n",
       "    .dataframe thead th {\n",
       "        text-align: right;\n",
       "    }\n",
       "</style>\n",
       "<table border=\"1\" class=\"dataframe\">\n",
       "  <thead>\n",
       "    <tr style=\"text-align: right;\">\n",
       "      <th></th>\n",
       "      <th>is_click</th>\n",
       "      <th>0</th>\n",
       "      <th>1</th>\n",
       "      <th>NA</th>\n",
       "    </tr>\n",
       "  </thead>\n",
       "  <tbody>\n",
       "    <tr>\n",
       "      <th rowspan=\"2\" valign=\"top\">C1_0.0</th>\n",
       "      <th>sum</th>\n",
       "      <td>114654.000000</td>\n",
       "      <td>7756.000000</td>\n",
       "      <td>32831.000000</td>\n",
       "    </tr>\n",
       "    <tr>\n",
       "      <th>mean</th>\n",
       "      <td>0.505647</td>\n",
       "      <td>0.714049</td>\n",
       "      <td>0.362073</td>\n",
       "    </tr>\n",
       "    <tr>\n",
       "      <th rowspan=\"2\" valign=\"top\">C1_1.0</th>\n",
       "      <th>sum</th>\n",
       "      <td>373838.000000</td>\n",
       "      <td>24634.000000</td>\n",
       "      <td>104919.000000</td>\n",
       "    </tr>\n",
       "    <tr>\n",
       "      <th>mean</th>\n",
       "      <td>1.648701</td>\n",
       "      <td>2.267906</td>\n",
       "      <td>1.157089</td>\n",
       "    </tr>\n",
       "    <tr>\n",
       "      <th rowspan=\"2\" valign=\"top\">C1_2.0</th>\n",
       "      <th>sum</th>\n",
       "      <td>1.000000</td>\n",
       "      <td>1.000000</td>\n",
       "      <td>2.000000</td>\n",
       "    </tr>\n",
       "    <tr>\n",
       "      <th>mean</th>\n",
       "      <td>0.000004</td>\n",
       "      <td>0.000092</td>\n",
       "      <td>0.000022</td>\n",
       "    </tr>\n",
       "    <tr>\n",
       "      <th rowspan=\"2\" valign=\"top\">C1_4.0</th>\n",
       "      <th>sum</th>\n",
       "      <td>268537.000000</td>\n",
       "      <td>18250.000000</td>\n",
       "      <td>82549.000000</td>\n",
       "    </tr>\n",
       "    <tr>\n",
       "      <th>mean</th>\n",
       "      <td>1.184302</td>\n",
       "      <td>1.680169</td>\n",
       "      <td>0.910383</td>\n",
       "    </tr>\n",
       "    <tr>\n",
       "      <th rowspan=\"2\" valign=\"top\">C1_6.0</th>\n",
       "      <th>sum</th>\n",
       "      <td>43180.000000</td>\n",
       "      <td>2419.000000</td>\n",
       "      <td>9773.000000</td>\n",
       "    </tr>\n",
       "    <tr>\n",
       "      <th>mean</th>\n",
       "      <td>0.190433</td>\n",
       "      <td>0.222703</td>\n",
       "      <td>0.107781</td>\n",
       "    </tr>\n",
       "    <tr>\n",
       "      <th rowspan=\"2\" valign=\"top\">C1_7.0</th>\n",
       "      <th>sum</th>\n",
       "      <td>163818.000000</td>\n",
       "      <td>11065.000000</td>\n",
       "      <td>47224.000000</td>\n",
       "    </tr>\n",
       "    <tr>\n",
       "      <th>mean</th>\n",
       "      <td>0.722470</td>\n",
       "      <td>1.018689</td>\n",
       "      <td>0.520805</td>\n",
       "    </tr>\n",
       "    <tr>\n",
       "      <th rowspan=\"2\" valign=\"top\">C1_8.0</th>\n",
       "      <th>sum</th>\n",
       "      <td>162193.000000</td>\n",
       "      <td>10957.000000</td>\n",
       "      <td>41417.000000</td>\n",
       "    </tr>\n",
       "    <tr>\n",
       "      <th>mean</th>\n",
       "      <td>0.715304</td>\n",
       "      <td>1.008746</td>\n",
       "      <td>0.456763</td>\n",
       "    </tr>\n",
       "    <tr>\n",
       "      <th rowspan=\"2\" valign=\"top\">C1_9.0</th>\n",
       "      <th>sum</th>\n",
       "      <td>406154.000000</td>\n",
       "      <td>26908.000000</td>\n",
       "      <td>111652.000000</td>\n",
       "    </tr>\n",
       "    <tr>\n",
       "      <th>mean</th>\n",
       "      <td>1.791221</td>\n",
       "      <td>2.477260</td>\n",
       "      <td>1.231343</td>\n",
       "    </tr>\n",
       "    <tr>\n",
       "      <th rowspan=\"2\" valign=\"top\">C1_10.0</th>\n",
       "      <th>sum</th>\n",
       "      <td>160242.000000</td>\n",
       "      <td>10326.000000</td>\n",
       "      <td>41323.000000</td>\n",
       "    </tr>\n",
       "    <tr>\n",
       "      <th>mean</th>\n",
       "      <td>0.706700</td>\n",
       "      <td>0.950654</td>\n",
       "      <td>0.455726</td>\n",
       "    </tr>\n",
       "    <tr>\n",
       "      <th rowspan=\"2\" valign=\"top\">C1_11.0</th>\n",
       "      <th>sum</th>\n",
       "      <td>236386.000000</td>\n",
       "      <td>15855.000000</td>\n",
       "      <td>62993.000000</td>\n",
       "    </tr>\n",
       "    <tr>\n",
       "      <th>mean</th>\n",
       "      <td>1.042510</td>\n",
       "      <td>1.459676</td>\n",
       "      <td>0.694712</td>\n",
       "    </tr>\n",
       "    <tr>\n",
       "      <th rowspan=\"2\" valign=\"top\">C1_12.0</th>\n",
       "      <th>sum</th>\n",
       "      <td>135650.000000</td>\n",
       "      <td>9003.000000</td>\n",
       "      <td>38560.000000</td>\n",
       "    </tr>\n",
       "    <tr>\n",
       "      <th>mean</th>\n",
       "      <td>0.598244</td>\n",
       "      <td>0.828853</td>\n",
       "      <td>0.425255</td>\n",
       "    </tr>\n",
       "    <tr>\n",
       "      <th rowspan=\"2\" valign=\"top\">C1_13.0</th>\n",
       "      <th>sum</th>\n",
       "      <td>246699.000000</td>\n",
       "      <td>16432.000000</td>\n",
       "      <td>69805.000000</td>\n",
       "    </tr>\n",
       "    <tr>\n",
       "      <th>mean</th>\n",
       "      <td>1.087992</td>\n",
       "      <td>1.512797</td>\n",
       "      <td>0.769837</td>\n",
       "    </tr>\n",
       "    <tr>\n",
       "      <th rowspan=\"2\" valign=\"top\">C1_14.0</th>\n",
       "      <th>sum</th>\n",
       "      <td>166402.000000</td>\n",
       "      <td>10938.000000</td>\n",
       "      <td>46981.000000</td>\n",
       "    </tr>\n",
       "    <tr>\n",
       "      <th>mean</th>\n",
       "      <td>0.733866</td>\n",
       "      <td>1.006997</td>\n",
       "      <td>0.518125</td>\n",
       "    </tr>\n",
       "    <tr>\n",
       "      <th rowspan=\"2\" valign=\"top\">C1_15.0</th>\n",
       "      <th>sum</th>\n",
       "      <td>69863.000000</td>\n",
       "      <td>4754.000000</td>\n",
       "      <td>19623.000000</td>\n",
       "    </tr>\n",
       "    <tr>\n",
       "      <th>mean</th>\n",
       "      <td>0.308110</td>\n",
       "      <td>0.437673</td>\n",
       "      <td>0.216410</td>\n",
       "    </tr>\n",
       "    <tr>\n",
       "      <th rowspan=\"2\" valign=\"top\">C1_16.0</th>\n",
       "      <th>sum</th>\n",
       "      <td>123131.000000</td>\n",
       "      <td>8155.000000</td>\n",
       "      <td>37960.000000</td>\n",
       "    </tr>\n",
       "    <tr>\n",
       "      <th>mean</th>\n",
       "      <td>0.543033</td>\n",
       "      <td>0.750783</td>\n",
       "      <td>0.418638</td>\n",
       "    </tr>\n",
       "    <tr>\n",
       "      <th rowspan=\"2\" valign=\"top\">C1_17.0</th>\n",
       "      <th>sum</th>\n",
       "      <td>373923.000000</td>\n",
       "      <td>25559.000000</td>\n",
       "      <td>108960.000000</td>\n",
       "    </tr>\n",
       "    <tr>\n",
       "      <th>mean</th>\n",
       "      <td>1.649076</td>\n",
       "      <td>2.353066</td>\n",
       "      <td>1.201654</td>\n",
       "    </tr>\n",
       "  </tbody>\n",
       "</table>\n",
       "</div>"
      ],
      "text/plain": [
       "is_click                  0             1             NA\n",
       "C1_0.0  sum   114654.000000   7756.000000   32831.000000\n",
       "        mean       0.505647      0.714049       0.362073\n",
       "C1_1.0  sum   373838.000000  24634.000000  104919.000000\n",
       "        mean       1.648701      2.267906       1.157089\n",
       "C1_2.0  sum        1.000000      1.000000       2.000000\n",
       "        mean       0.000004      0.000092       0.000022\n",
       "C1_4.0  sum   268537.000000  18250.000000   82549.000000\n",
       "        mean       1.184302      1.680169       0.910383\n",
       "C1_6.0  sum    43180.000000   2419.000000    9773.000000\n",
       "        mean       0.190433      0.222703       0.107781\n",
       "C1_7.0  sum   163818.000000  11065.000000   47224.000000\n",
       "        mean       0.722470      1.018689       0.520805\n",
       "C1_8.0  sum   162193.000000  10957.000000   41417.000000\n",
       "        mean       0.715304      1.008746       0.456763\n",
       "C1_9.0  sum   406154.000000  26908.000000  111652.000000\n",
       "        mean       1.791221      2.477260       1.231343\n",
       "C1_10.0 sum   160242.000000  10326.000000   41323.000000\n",
       "        mean       0.706700      0.950654       0.455726\n",
       "C1_11.0 sum   236386.000000  15855.000000   62993.000000\n",
       "        mean       1.042510      1.459676       0.694712\n",
       "C1_12.0 sum   135650.000000   9003.000000   38560.000000\n",
       "        mean       0.598244      0.828853       0.425255\n",
       "C1_13.0 sum   246699.000000  16432.000000   69805.000000\n",
       "        mean       1.087992      1.512797       0.769837\n",
       "C1_14.0 sum   166402.000000  10938.000000   46981.000000\n",
       "        mean       0.733866      1.006997       0.518125\n",
       "C1_15.0 sum    69863.000000   4754.000000   19623.000000\n",
       "        mean       0.308110      0.437673       0.216410\n",
       "C1_16.0 sum   123131.000000   8155.000000   37960.000000\n",
       "        mean       0.543033      0.750783       0.418638\n",
       "C1_17.0 sum   373923.000000  25559.000000  108960.000000\n",
       "        mean       1.649076      2.353066       1.201654"
      ]
     },
     "execution_count": 39,
     "metadata": {},
     "output_type": "execute_result"
    }
   ],
   "source": [
    "df_com5.groupby('is_click')[list(filter(None,[i if 'C1' in i else None for i in list(df_com5.columns)]))].agg(['sum','mean']).T"
   ]
  },
  {
   "cell_type": "markdown",
   "metadata": {},
   "source": [
    "* From this groupby table, it's category id 2 can be dropped, and all others category seems to have some relationship with clicking, as mean value is higher in all categories compare to non-click cases\n",
    "* But not dropping it beacause 25% CTR"
   ]
  },
  {
   "cell_type": "code",
   "execution_count": 40,
   "metadata": {
    "collapsed": false
   },
   "outputs": [
    {
     "data": {
      "text/html": [
       "<div>\n",
       "<style scoped>\n",
       "    .dataframe tbody tr th:only-of-type {\n",
       "        vertical-align: middle;\n",
       "    }\n",
       "\n",
       "    .dataframe tbody tr th {\n",
       "        vertical-align: top;\n",
       "    }\n",
       "\n",
       "    .dataframe thead th {\n",
       "        text-align: right;\n",
       "    }\n",
       "</style>\n",
       "<table border=\"1\" class=\"dataframe\">\n",
       "  <thead>\n",
       "    <tr style=\"text-align: right;\">\n",
       "      <th></th>\n",
       "      <th>is_click</th>\n",
       "      <th>0</th>\n",
       "      <th>1</th>\n",
       "      <th>NA</th>\n",
       "    </tr>\n",
       "  </thead>\n",
       "  <tbody>\n",
       "    <tr>\n",
       "      <th rowspan=\"2\" valign=\"top\">C2_26.0</th>\n",
       "      <th>sum</th>\n",
       "      <td>64776.000000</td>\n",
       "      <td>4298.000000</td>\n",
       "      <td>20217.000000</td>\n",
       "    </tr>\n",
       "    <tr>\n",
       "      <th>mean</th>\n",
       "      <td>0.285675</td>\n",
       "      <td>0.395691</td>\n",
       "      <td>0.222961</td>\n",
       "    </tr>\n",
       "    <tr>\n",
       "      <th rowspan=\"2\" valign=\"top\">C2_3.0</th>\n",
       "      <th>sum</th>\n",
       "      <td>128556.000000</td>\n",
       "      <td>8409.000000</td>\n",
       "      <td>37355.000000</td>\n",
       "    </tr>\n",
       "    <tr>\n",
       "      <th>mean</th>\n",
       "      <td>0.566958</td>\n",
       "      <td>0.774167</td>\n",
       "      <td>0.411966</td>\n",
       "    </tr>\n",
       "    <tr>\n",
       "      <th rowspan=\"2\" valign=\"top\">C2_35.0</th>\n",
       "      <th>sum</th>\n",
       "      <td>55627.000000</td>\n",
       "      <td>4110.000000</td>\n",
       "      <td>15866.000000</td>\n",
       "    </tr>\n",
       "    <tr>\n",
       "      <th>mean</th>\n",
       "      <td>0.245326</td>\n",
       "      <td>0.378383</td>\n",
       "      <td>0.174977</td>\n",
       "    </tr>\n",
       "    <tr>\n",
       "      <th rowspan=\"2\" valign=\"top\">C2_37.0</th>\n",
       "      <th>sum</th>\n",
       "      <td>49606.000000</td>\n",
       "      <td>3330.000000</td>\n",
       "      <td>15036.000000</td>\n",
       "    </tr>\n",
       "    <tr>\n",
       "      <th>mean</th>\n",
       "      <td>0.218772</td>\n",
       "      <td>0.306573</td>\n",
       "      <td>0.165823</td>\n",
       "    </tr>\n",
       "    <tr>\n",
       "      <th rowspan=\"2\" valign=\"top\">C2_38.0</th>\n",
       "      <th>sum</th>\n",
       "      <td>136855.000000</td>\n",
       "      <td>8759.000000</td>\n",
       "      <td>40592.000000</td>\n",
       "    </tr>\n",
       "    <tr>\n",
       "      <th>mean</th>\n",
       "      <td>0.603558</td>\n",
       "      <td>0.806389</td>\n",
       "      <td>0.447665</td>\n",
       "    </tr>\n",
       "  </tbody>\n",
       "</table>\n",
       "</div>"
      ],
      "text/plain": [
       "is_click                  0            1            NA\n",
       "C2_26.0 sum    64776.000000  4298.000000  20217.000000\n",
       "        mean       0.285675     0.395691      0.222961\n",
       "C2_3.0  sum   128556.000000  8409.000000  37355.000000\n",
       "        mean       0.566958     0.774167      0.411966\n",
       "C2_35.0 sum    55627.000000  4110.000000  15866.000000\n",
       "        mean       0.245326     0.378383      0.174977\n",
       "C2_37.0 sum    49606.000000  3330.000000  15036.000000\n",
       "        mean       0.218772     0.306573      0.165823\n",
       "C2_38.0 sum   136855.000000  8759.000000  40592.000000\n",
       "        mean       0.603558     0.806389      0.447665"
      ]
     },
     "execution_count": 40,
     "metadata": {},
     "output_type": "execute_result"
    }
   ],
   "source": [
    "# For first 5 category_2 only\n",
    "df_com5.groupby('is_click')[list(filter(None,[i if 'C2' in i else None for i in list(df_com5.columns)]))].agg(['sum','mean']).T.head(10)"
   ]
  },
  {
   "cell_type": "code",
   "execution_count": 41,
   "metadata": {
    "collapsed": false
   },
   "outputs": [
    {
     "data": {
      "text/html": [
       "<div>\n",
       "<style scoped>\n",
       "    .dataframe tbody tr th:only-of-type {\n",
       "        vertical-align: middle;\n",
       "    }\n",
       "\n",
       "    .dataframe tbody tr th {\n",
       "        vertical-align: top;\n",
       "    }\n",
       "\n",
       "    .dataframe thead th {\n",
       "        text-align: right;\n",
       "    }\n",
       "</style>\n",
       "<table border=\"1\" class=\"dataframe\">\n",
       "  <thead>\n",
       "    <tr style=\"text-align: right;\">\n",
       "      <th></th>\n",
       "      <th>is_click</th>\n",
       "      <th>0</th>\n",
       "      <th>1</th>\n",
       "      <th>NA</th>\n",
       "    </tr>\n",
       "  </thead>\n",
       "  <tbody>\n",
       "    <tr>\n",
       "      <th rowspan=\"2\" valign=\"top\">C3_100.0</th>\n",
       "      <th>sum</th>\n",
       "      <td>26849.000000</td>\n",
       "      <td>1910.000000</td>\n",
       "      <td>8196.000000</td>\n",
       "    </tr>\n",
       "    <tr>\n",
       "      <th>mean</th>\n",
       "      <td>0.118410</td>\n",
       "      <td>0.175842</td>\n",
       "      <td>0.090389</td>\n",
       "    </tr>\n",
       "    <tr>\n",
       "      <th rowspan=\"2\" valign=\"top\">C3_103.0</th>\n",
       "      <th>sum</th>\n",
       "      <td>23915.000000</td>\n",
       "      <td>1717.000000</td>\n",
       "      <td>6363.000000</td>\n",
       "    </tr>\n",
       "    <tr>\n",
       "      <th>mean</th>\n",
       "      <td>0.105470</td>\n",
       "      <td>0.158074</td>\n",
       "      <td>0.070174</td>\n",
       "    </tr>\n",
       "    <tr>\n",
       "      <th rowspan=\"2\" valign=\"top\">C3_111.0</th>\n",
       "      <th>sum</th>\n",
       "      <td>35889.000000</td>\n",
       "      <td>2551.000000</td>\n",
       "      <td>10060.000000</td>\n",
       "    </tr>\n",
       "    <tr>\n",
       "      <th>mean</th>\n",
       "      <td>0.158278</td>\n",
       "      <td>0.234855</td>\n",
       "      <td>0.110946</td>\n",
       "    </tr>\n",
       "    <tr>\n",
       "      <th rowspan=\"2\" valign=\"top\">C3_113.0</th>\n",
       "      <th>sum</th>\n",
       "      <td>47191.000000</td>\n",
       "      <td>3027.000000</td>\n",
       "      <td>14199.000000</td>\n",
       "    </tr>\n",
       "    <tr>\n",
       "      <th>mean</th>\n",
       "      <td>0.208122</td>\n",
       "      <td>0.278678</td>\n",
       "      <td>0.156592</td>\n",
       "    </tr>\n",
       "    <tr>\n",
       "      <th rowspan=\"2\" valign=\"top\">C3_114.0</th>\n",
       "      <th>sum</th>\n",
       "      <td>80333.000000</td>\n",
       "      <td>5050.000000</td>\n",
       "      <td>18407.000000</td>\n",
       "    </tr>\n",
       "    <tr>\n",
       "      <th>mean</th>\n",
       "      <td>0.354285</td>\n",
       "      <td>0.464924</td>\n",
       "      <td>0.203000</td>\n",
       "    </tr>\n",
       "  </tbody>\n",
       "</table>\n",
       "</div>"
      ],
      "text/plain": [
       "is_click                  0            1            NA\n",
       "C3_100.0 sum   26849.000000  1910.000000   8196.000000\n",
       "         mean      0.118410     0.175842      0.090389\n",
       "C3_103.0 sum   23915.000000  1717.000000   6363.000000\n",
       "         mean      0.105470     0.158074      0.070174\n",
       "C3_111.0 sum   35889.000000  2551.000000  10060.000000\n",
       "         mean      0.158278     0.234855      0.110946\n",
       "C3_113.0 sum   47191.000000  3027.000000  14199.000000\n",
       "         mean      0.208122     0.278678      0.156592\n",
       "C3_114.0 sum   80333.000000  5050.000000  18407.000000\n",
       "         mean      0.354285     0.464924      0.203000"
      ]
     },
     "execution_count": 41,
     "metadata": {},
     "output_type": "execute_result"
    }
   ],
   "source": [
    "# For first 5 category_3 only\n",
    "df_com5.groupby('is_click')[list(filter(None,[i if 'C3' in i else None for i in list(df_com5.columns)]))].agg(['sum','mean']).T.head(10)"
   ]
  },
  {
   "cell_type": "code",
   "execution_count": 42,
   "metadata": {
    "collapsed": false
   },
   "outputs": [
    {
     "data": {
      "text/html": [
       "<div>\n",
       "<style scoped>\n",
       "    .dataframe tbody tr th:only-of-type {\n",
       "        vertical-align: middle;\n",
       "    }\n",
       "\n",
       "    .dataframe tbody tr th {\n",
       "        vertical-align: top;\n",
       "    }\n",
       "\n",
       "    .dataframe thead th {\n",
       "        text-align: right;\n",
       "    }\n",
       "</style>\n",
       "<table border=\"1\" class=\"dataframe\">\n",
       "  <thead>\n",
       "    <tr style=\"text-align: right;\">\n",
       "      <th></th>\n",
       "      <th>is_click</th>\n",
       "      <th>0</th>\n",
       "      <th>1</th>\n",
       "      <th>NA</th>\n",
       "    </tr>\n",
       "  </thead>\n",
       "  <tbody>\n",
       "    <tr>\n",
       "      <th rowspan=\"2\" valign=\"top\">PT_10025.0</th>\n",
       "      <th>sum</th>\n",
       "      <td>19269.000000</td>\n",
       "      <td>1036.000000</td>\n",
       "      <td>4688.000000</td>\n",
       "    </tr>\n",
       "    <tr>\n",
       "      <th>mean</th>\n",
       "      <td>0.084980</td>\n",
       "      <td>0.095378</td>\n",
       "      <td>0.051701</td>\n",
       "    </tr>\n",
       "    <tr>\n",
       "      <th rowspan=\"2\" valign=\"top\">PT_10083.0</th>\n",
       "      <th>sum</th>\n",
       "      <td>5525.000000</td>\n",
       "      <td>311.000000</td>\n",
       "      <td>925.000000</td>\n",
       "    </tr>\n",
       "    <tr>\n",
       "      <th>mean</th>\n",
       "      <td>0.024366</td>\n",
       "      <td>0.028632</td>\n",
       "      <td>0.010201</td>\n",
       "    </tr>\n",
       "    <tr>\n",
       "      <th rowspan=\"2\" valign=\"top\">PT_10097.0</th>\n",
       "      <th>sum</th>\n",
       "      <td>3975.000000</td>\n",
       "      <td>224.000000</td>\n",
       "      <td>1327.000000</td>\n",
       "    </tr>\n",
       "    <tr>\n",
       "      <th>mean</th>\n",
       "      <td>0.017531</td>\n",
       "      <td>0.020622</td>\n",
       "      <td>0.014635</td>\n",
       "    </tr>\n",
       "    <tr>\n",
       "      <th rowspan=\"2\" valign=\"top\">PT_10099.0</th>\n",
       "      <th>sum</th>\n",
       "      <td>7136.000000</td>\n",
       "      <td>486.000000</td>\n",
       "      <td>1039.000000</td>\n",
       "    </tr>\n",
       "    <tr>\n",
       "      <th>mean</th>\n",
       "      <td>0.031471</td>\n",
       "      <td>0.044743</td>\n",
       "      <td>0.011459</td>\n",
       "    </tr>\n",
       "    <tr>\n",
       "      <th rowspan=\"2\" valign=\"top\">PT_10215.0</th>\n",
       "      <th>sum</th>\n",
       "      <td>2044.000000</td>\n",
       "      <td>158.000000</td>\n",
       "      <td>392.000000</td>\n",
       "    </tr>\n",
       "    <tr>\n",
       "      <th>mean</th>\n",
       "      <td>0.009014</td>\n",
       "      <td>0.014546</td>\n",
       "      <td>0.004323</td>\n",
       "    </tr>\n",
       "  </tbody>\n",
       "</table>\n",
       "</div>"
      ],
      "text/plain": [
       "is_click                    0            1           NA\n",
       "PT_10025.0 sum   19269.000000  1036.000000  4688.000000\n",
       "           mean      0.084980     0.095378     0.051701\n",
       "PT_10083.0 sum    5525.000000   311.000000   925.000000\n",
       "           mean      0.024366     0.028632     0.010201\n",
       "PT_10097.0 sum    3975.000000   224.000000  1327.000000\n",
       "           mean      0.017531     0.020622     0.014635\n",
       "PT_10099.0 sum    7136.000000   486.000000  1039.000000\n",
       "           mean      0.031471     0.044743     0.011459\n",
       "PT_10215.0 sum    2044.000000   158.000000   392.000000\n",
       "           mean      0.009014     0.014546     0.004323"
      ]
     },
     "execution_count": 42,
     "metadata": {},
     "output_type": "execute_result"
    }
   ],
   "source": [
    "# For first 5 product_type only\n",
    "df_com5.groupby('is_click')[list(filter(None,[i if 'PT' in i else None for i in list(df_com5.columns)]))].agg(['sum','mean']).T.head(10)"
   ]
  },
  {
   "cell_type": "markdown",
   "metadata": {},
   "source": [
    "* Similar trends is shown by other 2 categories (2&3) and product type, that average value is little on higher side for click. Though the magnitude is quite low because of high unique counts"
   ]
  },
  {
   "cell_type": "code",
   "execution_count": null,
   "metadata": {
    "collapsed": true
   },
   "outputs": [],
   "source": []
  },
  {
   "cell_type": "markdown",
   "metadata": {},
   "source": [
    "#### 3.5) Final Columns (from view log & item data)"
   ]
  },
  {
   "cell_type": "code",
   "execution_count": 46,
   "metadata": {
    "collapsed": false
   },
   "outputs": [
    {
     "data": {
      "text/plain": [
       "((328284, 292),\n",
       " (328284, 282),\n",
       " Index(['impression_id', 'C1_0.0', 'C1_1.0', 'C1_2.0', 'C1_4.0', 'C1_6.0',\n",
       "        'C1_7.0', 'C1_8.0', 'C1_9.0', 'C1_10.0',\n",
       "        ...\n",
       "        'PT_9789.0', 'PT_9839.0', 'PT_986.0', 'PT_9939.0', 'PT_9959.0',\n",
       "        'android', 'iphone', 'web', 'item_price2', 'flag2'],\n",
       "       dtype='object', length=282))"
      ]
     },
     "execution_count": 46,
     "metadata": {},
     "output_type": "execute_result"
    }
   ],
   "source": [
    "cols_dropped = ['impression_time','user_id','app_code','os_version','is_4G','is_click','item_price','flag', 'item_price1', 'flag1']\n",
    "df_com6 = df_com5.drop(cols_dropped,axis=1)\n",
    "df_com5.shape, df_com6.shape, df_com6.columns"
   ]
  },
  {
   "cell_type": "code",
   "execution_count": 47,
   "metadata": {
    "collapsed": false,
    "scrolled": true
   },
   "outputs": [
    {
     "data": {
      "text/plain": [
       "Index(['impression_id'], dtype='object')"
      ]
     },
     "execution_count": 47,
     "metadata": {},
     "output_type": "execute_result"
    }
   ],
   "source": [
    "# Check if we still have any categorical variable other than impression id\n",
    "df_com6.select_dtypes(include=np.object).columns"
   ]
  },
  {
   "cell_type": "code",
   "execution_count": null,
   "metadata": {
    "collapsed": true
   },
   "outputs": [],
   "source": []
  },
  {
   "cell_type": "markdown",
   "metadata": {},
   "source": [
    "### 4.) EDA (for impression train data)"
   ]
  },
  {
   "cell_type": "code",
   "execution_count": 48,
   "metadata": {
    "collapsed": false,
    "scrolled": false
   },
   "outputs": [
    {
     "data": {
      "text/plain": [
       "<matplotlib.axes._subplots.AxesSubplot at 0x1b503b8f550>"
      ]
     },
     "execution_count": 48,
     "metadata": {},
     "output_type": "execute_result"
    },
    {
     "data": {
      "image/png": "[encoded data removed]",
      "text/plain": [
       "<matplotlib.figure.Figure at 0x1b503b8ffd0>"
      ]
     },
     "metadata": {},
     "output_type": "display_data"
    }
   ],
   "source": [
    "df_train.groupby('is_click').size().plot(kind = 'bar')                       # 4.5% click throgh rate (data imbalanced problem)"
   ]
  },
  {
   "cell_type": "markdown",
   "metadata": {},
   "source": [
    "#### 4.1) Impression_Time"
   ]
  },
  {
   "cell_type": "code",
   "execution_count": 49,
   "metadata": {
    "collapsed": true
   },
   "outputs": [],
   "source": [
    "# converting time from date_hour_min_sec to date_hour (we don't need so much granularity)\n",
    "\n",
    "df_train['impression_time'] = df_train['impression_time'].astype('datetime64[ns]')            # date time conversion\n",
    "df_train['impression_time'] = df_train['impression_time'].astype('str')                       # back to string (remove minute first)\n",
    "df_train['impression_time'] = df_train['impression_time'].str[:13]                            # first 13: yyyy-mm-dd hh\n",
    "df_train['impression_time'] = df_train['impression_time'].apply(lambda x: datetime.datetime.strptime(x, '%Y-%m-%d %H'))   # back to date"
   ]
  },
  {
   "cell_type": "code",
   "execution_count": 50,
   "metadata": {
    "collapsed": false
   },
   "outputs": [
    {
     "data": {
      "text/plain": [
       "(0, 0)"
      ]
     },
     "execution_count": 50,
     "metadata": {},
     "output_type": "execute_result"
    }
   ],
   "source": [
    "# Check if impression time still has seconds, minutes\n",
    "sum(df_train['impression_time'].dt.minute), sum(df_train['impression_time'].dt.second)"
   ]
  },
  {
   "cell_type": "code",
   "execution_count": 51,
   "metadata": {
    "collapsed": false
   },
   "outputs": [
    {
     "data": {
      "text/plain": [
       "<matplotlib.axes._subplots.AxesSubplot at 0x1b506fd9048>"
      ]
     },
     "execution_count": 51,
     "metadata": {},
     "output_type": "execute_result"
    },
    {
     "data": {
      "image/png": "[encoded data removed]",
      "text/plain": [
       "<matplotlib.figure.Figure at 0x1b503b8fe80>"
      ]
     },
     "metadata": {},
     "output_type": "display_data"
    }
   ],
   "source": [
    "df_train_click = df_train[df_train['is_click']==1]\n",
    "temp_click = df_train_click.groupby('impression_time').agg({'is_click' : 'sum'})\n",
    "plt.figure(figsize=(20,6))\n",
    "temp_click.unstack().plot()"
   ]
  },
  {
   "cell_type": "markdown",
   "metadata": {},
   "source": [
    "##### 4.1.1) Get hour, weekday, day name from impression_time"
   ]
  },
  {
   "cell_type": "code",
   "execution_count": 52,
   "metadata": {
    "collapsed": false
   },
   "outputs": [
    {
     "data": {
      "text/plain": [
       "Index(['impression_id', 'impression_time', 'user_id', 'app_code', 'os_version',\n",
       "       'is_4G', 'is_click', 'hour_in_day', 'weekday', 'day_name'],\n",
       "      dtype='object')"
      ]
     },
     "execution_count": 52,
     "metadata": {},
     "output_type": "execute_result"
    }
   ],
   "source": [
    "df_train['hour_in_day'] = df_train['impression_time'].apply(lambda val : val.hour)\n",
    "df_train['weekday'] = df_train['impression_time'].apply(lambda val: val.dayofweek)\n",
    "df_train['day_name'] = df_train['impression_time'].apply(lambda x: x.strftime('%A'))\n",
    "\n",
    "df_train_click['hour_in_day'] = df_train_click['impression_time'].apply(lambda val : val.hour)\n",
    "df_train_click['weekday'] = df_train_click['impression_time'].apply(lambda val: val.dayofweek)\n",
    "df_train_click['day_name'] = df_train_click['impression_time'].apply(lambda x: x.strftime('%A'))\n",
    "\n",
    "df_train.columns"
   ]
  },
  {
   "cell_type": "code",
   "execution_count": 53,
   "metadata": {
    "collapsed": false
   },
   "outputs": [
    {
     "data": {
      "text/html": [
       "<div>\n",
       "<style scoped>\n",
       "    .dataframe tbody tr th:only-of-type {\n",
       "        vertical-align: middle;\n",
       "    }\n",
       "\n",
       "    .dataframe tbody tr th {\n",
       "        vertical-align: top;\n",
       "    }\n",
       "\n",
       "    .dataframe thead th {\n",
       "        text-align: right;\n",
       "    }\n",
       "</style>\n",
       "<table border=\"1\" class=\"dataframe\">\n",
       "  <thead>\n",
       "    <tr style=\"text-align: right;\">\n",
       "      <th></th>\n",
       "      <th>is_click</th>\n",
       "    </tr>\n",
       "    <tr>\n",
       "      <th>impression_time</th>\n",
       "      <th></th>\n",
       "    </tr>\n",
       "  </thead>\n",
       "  <tbody>\n",
       "    <tr>\n",
       "      <th>2018-12-04 00:00:00</th>\n",
       "      <td>60</td>\n",
       "    </tr>\n",
       "    <tr>\n",
       "      <th>2018-12-03 00:00:00</th>\n",
       "      <td>53</td>\n",
       "    </tr>\n",
       "    <tr>\n",
       "      <th>2018-11-27 00:00:00</th>\n",
       "      <td>53</td>\n",
       "    </tr>\n",
       "    <tr>\n",
       "      <th>2018-12-02 00:00:00</th>\n",
       "      <td>50</td>\n",
       "    </tr>\n",
       "    <tr>\n",
       "      <th>2018-11-20 21:00:00</th>\n",
       "      <td>49</td>\n",
       "    </tr>\n",
       "  </tbody>\n",
       "</table>\n",
       "</div>"
      ],
      "text/plain": [
       "                     is_click\n",
       "impression_time              \n",
       "2018-12-04 00:00:00        60\n",
       "2018-12-03 00:00:00        53\n",
       "2018-11-27 00:00:00        53\n",
       "2018-12-02 00:00:00        50\n",
       "2018-11-20 21:00:00        49"
      ]
     },
     "execution_count": 53,
     "metadata": {},
     "output_type": "execute_result"
    }
   ],
   "source": [
    "df_train[['impression_time','is_click']].groupby(['impression_time']).sum().sort_values('is_click',ascending=False).head()"
   ]
  },
  {
   "cell_type": "markdown",
   "metadata": {},
   "source": [
    "##### 4.1.2) Clicks & CTR by hour"
   ]
  },
  {
   "cell_type": "code",
   "execution_count": 54,
   "metadata": {
    "collapsed": false
   },
   "outputs": [
    {
     "data": {
      "text/plain": [
       "<matplotlib.axes._subplots.AxesSubplot at 0x1b503b020f0>"
      ]
     },
     "execution_count": 54,
     "metadata": {},
     "output_type": "execute_result"
    },
    {
     "data": {
      "image/png": "[encoded data removed]",
      "text/plain": [
       "<matplotlib.figure.Figure at 0x1b57e1f4710>"
      ]
     },
     "metadata": {},
     "output_type": "display_data"
    }
   ],
   "source": [
    "# uniuqe 'hour_in_day' ~ 0 TO 23 \n",
    "df_train.groupby(['hour_in_day', 'is_click']).size().unstack().plot(kind='bar', stacked=True, title=\"Hour in Day\")"
   ]
  },
  {
   "cell_type": "code",
   "execution_count": 55,
   "metadata": {
    "collapsed": false,
    "scrolled": true
   },
   "outputs": [
    {
     "name": "stdout",
     "output_type": "stream",
     "text": [
      "(24, 4)\n"
     ]
    },
    {
     "data": {
      "text/html": [
       "<div>\n",
       "<style scoped>\n",
       "    .dataframe tbody tr th:only-of-type {\n",
       "        vertical-align: middle;\n",
       "    }\n",
       "\n",
       "    .dataframe tbody tr th {\n",
       "        vertical-align: top;\n",
       "    }\n",
       "\n",
       "    .dataframe thead th {\n",
       "        text-align: right;\n",
       "    }\n",
       "</style>\n",
       "<table border=\"1\" class=\"dataframe\">\n",
       "  <thead>\n",
       "    <tr style=\"text-align: right;\">\n",
       "      <th></th>\n",
       "      <th>hour_in_day</th>\n",
       "      <th>is_click</th>\n",
       "      <th>impression</th>\n",
       "      <th>CTR</th>\n",
       "    </tr>\n",
       "  </thead>\n",
       "  <tbody>\n",
       "    <tr>\n",
       "      <th>0</th>\n",
       "      <td>0</td>\n",
       "      <td>970</td>\n",
       "      <td>21211</td>\n",
       "      <td>4.573099</td>\n",
       "    </tr>\n",
       "    <tr>\n",
       "      <th>21</th>\n",
       "      <td>21</td>\n",
       "      <td>785</td>\n",
       "      <td>15297</td>\n",
       "      <td>5.131725</td>\n",
       "    </tr>\n",
       "    <tr>\n",
       "      <th>20</th>\n",
       "      <td>20</td>\n",
       "      <td>740</td>\n",
       "      <td>15386</td>\n",
       "      <td>4.809567</td>\n",
       "    </tr>\n",
       "    <tr>\n",
       "      <th>19</th>\n",
       "      <td>19</td>\n",
       "      <td>686</td>\n",
       "      <td>13992</td>\n",
       "      <td>4.902802</td>\n",
       "    </tr>\n",
       "    <tr>\n",
       "      <th>17</th>\n",
       "      <td>17</td>\n",
       "      <td>683</td>\n",
       "      <td>13794</td>\n",
       "      <td>4.951428</td>\n",
       "    </tr>\n",
       "    <tr>\n",
       "      <th>22</th>\n",
       "      <td>22</td>\n",
       "      <td>669</td>\n",
       "      <td>14526</td>\n",
       "      <td>4.605535</td>\n",
       "    </tr>\n",
       "    <tr>\n",
       "      <th>18</th>\n",
       "      <td>18</td>\n",
       "      <td>612</td>\n",
       "      <td>13749</td>\n",
       "      <td>4.451233</td>\n",
       "    </tr>\n",
       "    <tr>\n",
       "      <th>23</th>\n",
       "      <td>23</td>\n",
       "      <td>610</td>\n",
       "      <td>12978</td>\n",
       "      <td>4.700262</td>\n",
       "    </tr>\n",
       "    <tr>\n",
       "      <th>16</th>\n",
       "      <td>16</td>\n",
       "      <td>556</td>\n",
       "      <td>12932</td>\n",
       "      <td>4.299412</td>\n",
       "    </tr>\n",
       "    <tr>\n",
       "      <th>15</th>\n",
       "      <td>15</td>\n",
       "      <td>530</td>\n",
       "      <td>11945</td>\n",
       "      <td>4.437003</td>\n",
       "    </tr>\n",
       "    <tr>\n",
       "      <th>1</th>\n",
       "      <td>1</td>\n",
       "      <td>518</td>\n",
       "      <td>10769</td>\n",
       "      <td>4.810103</td>\n",
       "    </tr>\n",
       "    <tr>\n",
       "      <th>14</th>\n",
       "      <td>14</td>\n",
       "      <td>488</td>\n",
       "      <td>11077</td>\n",
       "      <td>4.405525</td>\n",
       "    </tr>\n",
       "    <tr>\n",
       "      <th>11</th>\n",
       "      <td>11</td>\n",
       "      <td>467</td>\n",
       "      <td>9553</td>\n",
       "      <td>4.888517</td>\n",
       "    </tr>\n",
       "    <tr>\n",
       "      <th>12</th>\n",
       "      <td>12</td>\n",
       "      <td>441</td>\n",
       "      <td>9776</td>\n",
       "      <td>4.511047</td>\n",
       "    </tr>\n",
       "    <tr>\n",
       "      <th>13</th>\n",
       "      <td>13</td>\n",
       "      <td>389</td>\n",
       "      <td>10263</td>\n",
       "      <td>3.790315</td>\n",
       "    </tr>\n",
       "    <tr>\n",
       "      <th>10</th>\n",
       "      <td>10</td>\n",
       "      <td>361</td>\n",
       "      <td>8975</td>\n",
       "      <td>4.022284</td>\n",
       "    </tr>\n",
       "    <tr>\n",
       "      <th>9</th>\n",
       "      <td>9</td>\n",
       "      <td>337</td>\n",
       "      <td>8328</td>\n",
       "      <td>4.046590</td>\n",
       "    </tr>\n",
       "    <tr>\n",
       "      <th>8</th>\n",
       "      <td>8</td>\n",
       "      <td>263</td>\n",
       "      <td>6088</td>\n",
       "      <td>4.319974</td>\n",
       "    </tr>\n",
       "    <tr>\n",
       "      <th>2</th>\n",
       "      <td>2</td>\n",
       "      <td>217</td>\n",
       "      <td>4703</td>\n",
       "      <td>4.614076</td>\n",
       "    </tr>\n",
       "    <tr>\n",
       "      <th>7</th>\n",
       "      <td>7</td>\n",
       "      <td>200</td>\n",
       "      <td>5075</td>\n",
       "      <td>3.940887</td>\n",
       "    </tr>\n",
       "    <tr>\n",
       "      <th>6</th>\n",
       "      <td>6</td>\n",
       "      <td>123</td>\n",
       "      <td>3098</td>\n",
       "      <td>3.970303</td>\n",
       "    </tr>\n",
       "    <tr>\n",
       "      <th>3</th>\n",
       "      <td>3</td>\n",
       "      <td>79</td>\n",
       "      <td>1346</td>\n",
       "      <td>5.869242</td>\n",
       "    </tr>\n",
       "    <tr>\n",
       "      <th>5</th>\n",
       "      <td>5</td>\n",
       "      <td>74</td>\n",
       "      <td>1589</td>\n",
       "      <td>4.657017</td>\n",
       "    </tr>\n",
       "    <tr>\n",
       "      <th>4</th>\n",
       "      <td>4</td>\n",
       "      <td>64</td>\n",
       "      <td>1159</td>\n",
       "      <td>5.522002</td>\n",
       "    </tr>\n",
       "  </tbody>\n",
       "</table>\n",
       "</div>"
      ],
      "text/plain": [
       "    hour_in_day  is_click  impression       CTR\n",
       "0             0       970       21211  4.573099\n",
       "21           21       785       15297  5.131725\n",
       "20           20       740       15386  4.809567\n",
       "19           19       686       13992  4.902802\n",
       "17           17       683       13794  4.951428\n",
       "22           22       669       14526  4.605535\n",
       "18           18       612       13749  4.451233\n",
       "23           23       610       12978  4.700262\n",
       "16           16       556       12932  4.299412\n",
       "15           15       530       11945  4.437003\n",
       "1             1       518       10769  4.810103\n",
       "14           14       488       11077  4.405525\n",
       "11           11       467        9553  4.888517\n",
       "12           12       441        9776  4.511047\n",
       "13           13       389       10263  3.790315\n",
       "10           10       361        8975  4.022284\n",
       "9             9       337        8328  4.046590\n",
       "8             8       263        6088  4.319974\n",
       "2             2       217        4703  4.614076\n",
       "7             7       200        5075  3.940887\n",
       "6             6       123        3098  3.970303\n",
       "3             3        79        1346  5.869242\n",
       "5             5        74        1589  4.657017\n",
       "4             4        64        1159  5.522002"
      ]
     },
     "execution_count": 55,
     "metadata": {},
     "output_type": "execute_result"
    },
    {
     "data": {
      "image/png": "[encoded data removed]",
      "text/plain": [
       "<matplotlib.figure.Figure at 0x1b50eedd908>"
      ]
     },
     "metadata": {},
     "output_type": "display_data"
    }
   ],
   "source": [
    "# clicks by hour\n",
    "df_hour = pd.DataFrame(df_train.groupby('hour_in_day')['is_click'].agg('sum')).reset_index() .sort_values('is_click',ascending=False)\n",
    "df_hour['impression'] = df_train['hour_in_day'].value_counts()\n",
    "df_hour['CTR'] = df_hour['is_click']/df_hour['impression']*100\n",
    "print(df_hour.shape)\n",
    "\n",
    "plt.figure(figsize=(15,5))\n",
    "plt.subplot(121), sns.barplot(x=df_hour['hour_in_day'],y=df_hour['is_click']),plt.title('is_click_by_hour')\n",
    "plt.subplot(122), sns.barplot(x=df_hour['hour_in_day'],y=df_hour['CTR']),plt.title('CTR_by_hour')\n",
    "df_hour"
   ]
  },
  {
   "cell_type": "markdown",
   "metadata": {},
   "source": [
    "* Most of the clicks happened at mid-night (00) & after 20 hour)\n",
    "* Least of clicks happend after 01 hour & before 07 hour\n",
    "\n",
    "* CTR (by hour) is distributed in a range of 3.8% to 5.8%\n",
    "* Maximum CTR happend at 04 hour, but impressions are least here as well"
   ]
  },
  {
   "cell_type": "markdown",
   "metadata": {},
   "source": [
    "##### 4.1.3) Clicks & CTR by dayname"
   ]
  },
  {
   "cell_type": "code",
   "execution_count": 56,
   "metadata": {
    "collapsed": false
   },
   "outputs": [
    {
     "data": {
      "text/plain": [
       "<matplotlib.axes._subplots.AxesSubplot at 0x1b50eee88d0>"
      ]
     },
     "execution_count": 56,
     "metadata": {},
     "output_type": "execute_result"
    },
    {
     "data": {
      "image/png": "[encoded data removed]",
      "text/plain": [
       "<matplotlib.figure.Figure at 0x1b57d72c630>"
      ]
     },
     "metadata": {},
     "output_type": "display_data"
    }
   ],
   "source": [
    "# uniuqe 'day_name' Sun to Mon \n",
    "df_train.groupby(['day_name', 'is_click']).size().unstack().plot(kind='bar', stacked=True, title=\"Hour in Day\")"
   ]
  },
  {
   "cell_type": "code",
   "execution_count": 57,
   "metadata": {
    "collapsed": false
   },
   "outputs": [
    {
     "name": "stdout",
     "output_type": "stream",
     "text": [
      "(7, 4)\n"
     ]
    },
    {
     "data": {
      "text/html": [
       "<div>\n",
       "<style scoped>\n",
       "    .dataframe tbody tr th:only-of-type {\n",
       "        vertical-align: middle;\n",
       "    }\n",
       "\n",
       "    .dataframe tbody tr th {\n",
       "        vertical-align: top;\n",
       "    }\n",
       "\n",
       "    .dataframe thead th {\n",
       "        text-align: right;\n",
       "    }\n",
       "</style>\n",
       "<table border=\"1\" class=\"dataframe\">\n",
       "  <thead>\n",
       "    <tr style=\"text-align: right;\">\n",
       "      <th></th>\n",
       "      <th>day_name</th>\n",
       "      <th>is_click</th>\n",
       "      <th>impression</th>\n",
       "      <th>CTR</th>\n",
       "    </tr>\n",
       "  </thead>\n",
       "  <tbody>\n",
       "    <tr>\n",
       "      <th>5</th>\n",
       "      <td>Tuesday</td>\n",
       "      <td>1890</td>\n",
       "      <td>43946</td>\n",
       "      <td>4.300733</td>\n",
       "    </tr>\n",
       "    <tr>\n",
       "      <th>1</th>\n",
       "      <td>Monday</td>\n",
       "      <td>1632</td>\n",
       "      <td>34948</td>\n",
       "      <td>4.669795</td>\n",
       "    </tr>\n",
       "    <tr>\n",
       "      <th>4</th>\n",
       "      <td>Thursday</td>\n",
       "      <td>1559</td>\n",
       "      <td>33989</td>\n",
       "      <td>4.586778</td>\n",
       "    </tr>\n",
       "    <tr>\n",
       "      <th>3</th>\n",
       "      <td>Sunday</td>\n",
       "      <td>1520</td>\n",
       "      <td>31682</td>\n",
       "      <td>4.797677</td>\n",
       "    </tr>\n",
       "    <tr>\n",
       "      <th>2</th>\n",
       "      <td>Saturday</td>\n",
       "      <td>1506</td>\n",
       "      <td>31306</td>\n",
       "      <td>4.810579</td>\n",
       "    </tr>\n",
       "    <tr>\n",
       "      <th>0</th>\n",
       "      <td>Friday</td>\n",
       "      <td>1384</td>\n",
       "      <td>30941</td>\n",
       "      <td>4.473029</td>\n",
       "    </tr>\n",
       "    <tr>\n",
       "      <th>6</th>\n",
       "      <td>Wednesday</td>\n",
       "      <td>1371</td>\n",
       "      <td>30797</td>\n",
       "      <td>4.451732</td>\n",
       "    </tr>\n",
       "  </tbody>\n",
       "</table>\n",
       "</div>"
      ],
      "text/plain": [
       "    day_name  is_click  impression       CTR\n",
       "5    Tuesday      1890       43946  4.300733\n",
       "1     Monday      1632       34948  4.669795\n",
       "4   Thursday      1559       33989  4.586778\n",
       "3     Sunday      1520       31682  4.797677\n",
       "2   Saturday      1506       31306  4.810579\n",
       "0     Friday      1384       30941  4.473029\n",
       "6  Wednesday      1371       30797  4.451732"
      ]
     },
     "execution_count": 57,
     "metadata": {},
     "output_type": "execute_result"
    },
    {
     "data": {
      "image/png": "[encoded data removed]",
      "text/plain": [
       "<matplotlib.figure.Figure at 0x1b50a257128>"
      ]
     },
     "metadata": {},
     "output_type": "display_data"
    }
   ],
   "source": [
    "# clicks by day_name\n",
    "df_dayname = pd.DataFrame(df_train.groupby('day_name')['is_click'].agg('sum')).reset_index() .sort_values('is_click',ascending=False)\n",
    "df_dayname['impression'] = list(df_train['day_name'].value_counts())\n",
    "df_dayname['CTR'] = df_dayname['is_click']/df_dayname['impression']*100\n",
    "print(df_dayname.shape)\n",
    "\n",
    "plt.figure(figsize=(15,5))\n",
    "plt.subplot(121), sns.barplot(x=df_dayname['day_name'],y=df_dayname['is_click']),plt.title('is_click_by_dayname')\n",
    "plt.subplot(122), sns.barplot(x=df_dayname['day_name'],y=df_dayname['CTR']),plt.title('CTR_by_dayname')\n",
    "df_dayname"
   ]
  },
  {
   "cell_type": "markdown",
   "metadata": {},
   "source": [
    "* Mostly clicks happend on Tuesday, though CTR is high in weekends"
   ]
  },
  {
   "cell_type": "markdown",
   "metadata": {},
   "source": [
    "#### 4.2) Network (is_4G) & Operating system (os_version)"
   ]
  },
  {
   "cell_type": "code",
   "execution_count": 58,
   "metadata": {
    "collapsed": false
   },
   "outputs": [
    {
     "data": {
      "text/html": [
       "<div>\n",
       "<style scoped>\n",
       "    .dataframe tbody tr th:only-of-type {\n",
       "        vertical-align: middle;\n",
       "    }\n",
       "\n",
       "    .dataframe tbody tr th {\n",
       "        vertical-align: top;\n",
       "    }\n",
       "\n",
       "    .dataframe thead th {\n",
       "        text-align: right;\n",
       "    }\n",
       "</style>\n",
       "<table border=\"1\" class=\"dataframe\">\n",
       "  <thead>\n",
       "    <tr style=\"text-align: right;\">\n",
       "      <th>is_click</th>\n",
       "      <th>os_version</th>\n",
       "      <th>0</th>\n",
       "      <th>1</th>\n",
       "      <th>impression</th>\n",
       "    </tr>\n",
       "  </thead>\n",
       "  <tbody>\n",
       "    <tr>\n",
       "      <th>0</th>\n",
       "      <td>intermediate</td>\n",
       "      <td>52668</td>\n",
       "      <td>2875</td>\n",
       "      <td>5.176170</td>\n",
       "    </tr>\n",
       "    <tr>\n",
       "      <th>1</th>\n",
       "      <td>latest</td>\n",
       "      <td>123834</td>\n",
       "      <td>5382</td>\n",
       "      <td>4.165119</td>\n",
       "    </tr>\n",
       "    <tr>\n",
       "      <th>2</th>\n",
       "      <td>old</td>\n",
       "      <td>50245</td>\n",
       "      <td>2605</td>\n",
       "      <td>4.929044</td>\n",
       "    </tr>\n",
       "  </tbody>\n",
       "</table>\n",
       "</div>"
      ],
      "text/plain": [
       "is_click    os_version       0     1  impression\n",
       "0         intermediate   52668  2875    5.176170\n",
       "1               latest  123834  5382    4.165119\n",
       "2                  old   50245  2605    4.929044"
      ]
     },
     "execution_count": 58,
     "metadata": {},
     "output_type": "execute_result"
    }
   ],
   "source": [
    "df_os_version = pd.crosstab(df_train['os_version'], df_train['is_click']).reset_index()\n",
    "df_os_version['impression'] = df_os_version[1]/(df_os_version[0]+df_os_version[1])*100\n",
    "df_os_version"
   ]
  },
  {
   "cell_type": "code",
   "execution_count": 59,
   "metadata": {
    "collapsed": false
   },
   "outputs": [
    {
     "data": {
      "text/html": [
       "<div>\n",
       "<style scoped>\n",
       "    .dataframe tbody tr th:only-of-type {\n",
       "        vertical-align: middle;\n",
       "    }\n",
       "\n",
       "    .dataframe tbody tr th {\n",
       "        vertical-align: top;\n",
       "    }\n",
       "\n",
       "    .dataframe thead th {\n",
       "        text-align: right;\n",
       "    }\n",
       "</style>\n",
       "<table border=\"1\" class=\"dataframe\">\n",
       "  <thead>\n",
       "    <tr style=\"text-align: right;\">\n",
       "      <th>is_click</th>\n",
       "      <th>is_4G</th>\n",
       "      <th>0</th>\n",
       "      <th>1</th>\n",
       "      <th>impression</th>\n",
       "    </tr>\n",
       "  </thead>\n",
       "  <tbody>\n",
       "    <tr>\n",
       "      <th>0</th>\n",
       "      <td>0</td>\n",
       "      <td>144738</td>\n",
       "      <td>7020</td>\n",
       "      <td>4.625786</td>\n",
       "    </tr>\n",
       "    <tr>\n",
       "      <th>1</th>\n",
       "      <td>1</td>\n",
       "      <td>82009</td>\n",
       "      <td>3842</td>\n",
       "      <td>4.475195</td>\n",
       "    </tr>\n",
       "  </tbody>\n",
       "</table>\n",
       "</div>"
      ],
      "text/plain": [
       "is_click  is_4G       0     1  impression\n",
       "0             0  144738  7020    4.625786\n",
       "1             1   82009  3842    4.475195"
      ]
     },
     "execution_count": 59,
     "metadata": {},
     "output_type": "execute_result"
    }
   ],
   "source": [
    "# pd.crosstab(df_train['is_4G'], df_train['is_click'])\n",
    "\n",
    "df_is_4G = pd.crosstab(df_train['is_4G'], df_train['is_click']).reset_index()\n",
    "df_is_4G['impression'] = df_is_4G[1]/(df_is_4G[0]+df_is_4G[1])*100\n",
    "df_is_4G"
   ]
  },
  {
   "cell_type": "markdown",
   "metadata": {},
   "source": [
    "* os_version:\n",
    "    * latest version is the most prominent (~50%)\n",
    "    * CTR is highest when operating system is intermediate, & least in latest version\n",
    "* is_4G:\n",
    "    * mostly impressions & clicks are generating when 4G is network is not there (that's odd, but okay)\n",
    "    * CTR is almost same, doesn't depend if network is 4G or not"
   ]
  },
  {
   "cell_type": "markdown",
   "metadata": {},
   "source": [
    "#### 4.3) Partner websites / Apps (app_code)"
   ]
  },
  {
   "cell_type": "code",
   "execution_count": 60,
   "metadata": {
    "collapsed": false
   },
   "outputs": [
    {
     "data": {
      "text/plain": [
       "(490,)"
      ]
     },
     "execution_count": 60,
     "metadata": {},
     "output_type": "execute_result"
    }
   ],
   "source": [
    "# total uniuqe app_codes in train data\n",
    "df_train['app_code'].unique().shape"
   ]
  },
  {
   "cell_type": "code",
   "execution_count": 61,
   "metadata": {
    "collapsed": false
   },
   "outputs": [
    {
     "name": "stdout",
     "output_type": "stream",
     "text": [
      "App code data shape: (490, 4)\n",
      "App code data shape, when more than 10 clicks happend: (35, 4)\n"
     ]
    },
    {
     "data": {
      "text/plain": [
       "(<matplotlib.axes._subplots.AxesSubplot at 0x1b502078c88>,\n",
       " <matplotlib.axes._subplots.AxesSubplot at 0x1b502078c88>,\n",
       " Text(0.5,1,'CTR_by_appcode'),\n",
       " (array([ 0,  1,  2,  3,  4,  5,  6,  7,  8,  9, 10, 11, 12, 13, 14, 15, 16,\n",
       "         17, 18, 19, 20, 21, 22, 23, 24, 25, 26, 27, 28, 29, 30, 31, 32, 33,\n",
       "         34]), <a list of 35 Text xticklabel objects>))"
      ]
     },
     "execution_count": 61,
     "metadata": {},
     "output_type": "execute_result"
    },
    {
     "data": {
      "image/png": "[encoded data removed]",
      "text/plain": [
       "<matplotlib.figure.Figure at 0x1b501f1d668>"
      ]
     },
     "metadata": {},
     "output_type": "display_data"
    }
   ],
   "source": [
    "# clicks by app_code\n",
    "df_appcode = pd.DataFrame(df_train.groupby('app_code')['is_click'].agg('sum')).reset_index() .sort_values('is_click',ascending=False)\n",
    "df_appcode['impression'] = list(df_train['app_code'].value_counts())\n",
    "df_appcode['CTR'] = df_appcode['is_click']/df_appcode['impression']*100\n",
    "print(\"App code data shape:\",df_appcode.shape)\n",
    "\n",
    "df_appcode1 = df_appcode[df_appcode['is_click'] > 50].sort_values('is_click')                         # to get visibility of graph\n",
    "print(\"App code data shape, when more than 10 clicks happend:\",df_appcode1.shape)\n",
    "\n",
    "plt.figure(figsize=(15,4))\n",
    "plt.subplot(121), sns.barplot(x=df_appcode1['app_code'],y=df_appcode1['is_click']),plt.title('is_click_by_appcode'),plt.xticks(rotation=90)\n",
    "plt.subplot(122), sns.barplot(x=df_appcode1['app_code'],y=df_appcode1['CTR']),plt.title('CTR_by_appcode'),plt.xticks(rotation=90)\n",
    "# df_appcode1\n"
   ]
  },
  {
   "cell_type": "markdown",
   "metadata": {},
   "source": [
    "* maximum clicks happend for app code: 190, followed by 371, and then by 127\n",
    "* maximum CTR is for 145 followed by 386, and then by 231\n",
    "* Range for CTR for these top app_codes is 2.2 to 7.9%"
   ]
  },
  {
   "cell_type": "code",
   "execution_count": null,
   "metadata": {
    "collapsed": true
   },
   "outputs": [],
   "source": []
  },
  {
   "cell_type": "code",
   "execution_count": null,
   "metadata": {
    "collapsed": true
   },
   "outputs": [],
   "source": []
  },
  {
   "cell_type": "markdown",
   "metadata": {},
   "source": [
    "### 5.) Feature engineering\n",
    "* At combined Tain & Test data from impression"
   ]
  },
  {
   "cell_type": "code",
   "execution_count": 62,
   "metadata": {
    "collapsed": false,
    "scrolled": true
   },
   "outputs": [
    {
     "name": "stdout",
     "output_type": "stream",
     "text": [
      "Train Data: (237609, 7) Index(['impression_id', 'impression_time', 'user_id', 'app_code', 'os_version',\n",
      "       'is_4G', 'is_click'],\n",
      "      dtype='object')\n",
      "Test Data: (90675, 6) Index(['impression_id', 'impression_time', 'user_id', 'app_code', 'os_version',\n",
      "       'is_4G'],\n",
      "      dtype='object')\n"
     ]
    }
   ],
   "source": [
    "# Loading data\n",
    "df_train = pd.read_csv(\"WNS_train.csv\")\n",
    "df_test = pd.read_csv(\"WNS_test.csv\")\n",
    "\n",
    "print(\"Train Data:\",df_train.shape, df_train.columns)\n",
    "print(\"Test Data:\",df_test.shape, df_test.columns)"
   ]
  },
  {
   "cell_type": "code",
   "execution_count": 63,
   "metadata": {
    "collapsed": false
   },
   "outputs": [
    {
     "name": "stdout",
     "output_type": "stream",
     "text": [
      "(328284, 7)\n",
      "Index(['impression_id', 'impression_time', 'user_id', 'app_code', 'os_version',\n",
      "       'is_4G', 'is_click'],\n",
      "      dtype='object')\n"
     ]
    },
    {
     "data": {
      "text/plain": [
       "(None, None)"
      ]
     },
     "execution_count": 63,
     "metadata": {},
     "output_type": "execute_result"
    }
   ],
   "source": [
    "# defining y variable: to use in final model\n",
    "ytrain = df_train['is_click'].values.ravel()\n",
    "\n",
    "df_test['is_click'] = 0\n",
    "df_com = df_train.append(df_test, ignore_index=True)\n",
    "print(df_com.shape), print(df_com.columns)"
   ]
  },
  {
   "cell_type": "markdown",
   "metadata": {},
   "source": [
    "* Based on above EDA,\n",
    "    * app_code: choose only those where is_click's counts > 5\n",
    "    * os_version: all 3 values (old, latest, intermediate)\n",
    "    * hour_in_day: all 24 hours\n",
    "    * day_name: all 7 days"
   ]
  },
  {
   "cell_type": "code",
   "execution_count": 64,
   "metadata": {
    "collapsed": true
   },
   "outputs": [],
   "source": [
    "# converting time from date_hour_min_sec to date_hour (we don't need so much granularity)\n",
    "\n",
    "df_com['impression_time'] = df_com['impression_time'].astype('datetime64[ns]')            # date time conversion\n",
    "df_com['impression_time'] = df_com['impression_time'].astype('str')                       # back to string (remove minute first)\n",
    "df_com['impression_time'] = df_com['impression_time'].str[:13]                            # first 13: yyyy-mm-dd hh\n",
    "df_com['impression_time'] = df_com['impression_time'].apply(lambda x: datetime.datetime.strptime(x, '%Y-%m-%d %H'))   # back to date"
   ]
  },
  {
   "cell_type": "code",
   "execution_count": 65,
   "metadata": {
    "collapsed": false
   },
   "outputs": [],
   "source": [
    "df_com['hour_in_day'] = df_com['impression_time'].apply(lambda val : val.hour)\n",
    "df_com['weekday'] = df_com['impression_time'].apply(lambda val: val.dayofweek)\n",
    "df_com['day_name'] = df_com['impression_time'].apply(lambda x: x.strftime('%A'))"
   ]
  },
  {
   "cell_type": "code",
   "execution_count": 66,
   "metadata": {
    "collapsed": false
   },
   "outputs": [
    {
     "name": "stdout",
     "output_type": "stream",
     "text": [
      "unique app_codes: 118\n"
     ]
    },
    {
     "data": {
      "text/plain": [
       "(118,)"
      ]
     },
     "execution_count": 66,
     "metadata": {},
     "output_type": "execute_result"
    }
   ],
   "source": [
    "temp = pd.DataFrame(df_com.groupby('app_code')['is_click'].agg('sum')).reset_index()\n",
    "lst_app_codes = list(temp[temp['is_click'] > 5]['app_code'])\n",
    "print('unique app_codes:',len(lst_app_codes))\n",
    "df_com['app_code1'] = df_com['app_code'].apply(lambda x: x if x in lst_app_codes else 0)\n",
    "df_com['app_code1'].unique().shape"
   ]
  },
  {
   "cell_type": "code",
   "execution_count": 67,
   "metadata": {
    "collapsed": false,
    "scrolled": false
   },
   "outputs": [
    {
     "name": "stdout",
     "output_type": "stream",
     "text": [
      "(328284, 129)\n",
      "(328284, 132)\n",
      "(328284, 156)\n",
      "(328284, 163)\n"
     ]
    }
   ],
   "source": [
    "# One hot encoding for most occurance values\n",
    "cols_one_hot_encoding = ['app_code1', 'os_version', 'hour_in_day', 'day_name']\n",
    "for c in cols_one_hot_encoding:\n",
    "    temp = pd.get_dummies(df_com[c],prefix=c)\n",
    "    df_com = df_com.join(temp)\n",
    "    print(df_com.shape)"
   ]
  },
  {
   "cell_type": "code",
   "execution_count": 68,
   "metadata": {
    "collapsed": false
   },
   "outputs": [
    {
     "data": {
      "text/plain": [
       "((328284, 155),\n",
       " Index(['impression_id', 'is_4G', 'is_click', 'app_code1_0', 'app_code1_2',\n",
       "        'app_code1_3', 'app_code1_5', 'app_code1_7', 'app_code1_9',\n",
       "        'app_code1_14',\n",
       "        ...\n",
       "        'hour_in_day_21', 'hour_in_day_22', 'hour_in_day_23', 'day_name_Friday',\n",
       "        'day_name_Monday', 'day_name_Saturday', 'day_name_Sunday',\n",
       "        'day_name_Thursday', 'day_name_Tuesday', 'day_name_Wednesday'],\n",
       "       dtype='object', length=155))"
      ]
     },
     "execution_count": 68,
     "metadata": {},
     "output_type": "execute_result"
    }
   ],
   "source": [
    "# Drop columns (as discovered through impression data's exploration)\n",
    "cols_drop = ['impression_time','user_id', 'app_code','app_code1', 'os_version','hour_in_day', 'weekday', 'day_name']\n",
    "df_com1 = df_com.drop(cols_drop,axis=1)\n",
    "df_com1.shape, df_com1.columns"
   ]
  },
  {
   "cell_type": "code",
   "execution_count": null,
   "metadata": {
    "collapsed": true
   },
   "outputs": [],
   "source": []
  },
  {
   "cell_type": "markdown",
   "metadata": {
    "collapsed": true
   },
   "source": [
    "### 6) Feature Importance"
   ]
  },
  {
   "cell_type": "code",
   "execution_count": 69,
   "metadata": {
    "collapsed": false
   },
   "outputs": [
    {
     "data": {
      "text/plain": [
       "(328284, 436)"
      ]
     },
     "execution_count": 69,
     "metadata": {},
     "output_type": "execute_result"
    }
   ],
   "source": [
    "# Merging final columns from impression's & view_log, item's data\n",
    "df_final_com = df_com1.merge(df_com6,how='left',on='impression_id')\n",
    "df_final_com.shape"
   ]
  },
  {
   "cell_type": "code",
   "execution_count": 74,
   "metadata": {
    "collapsed": false
   },
   "outputs": [
    {
     "data": {
      "text/plain": [
       "66.9306526184082"
      ]
     },
     "execution_count": 74,
     "metadata": {},
     "output_type": "execute_result"
    }
   ],
   "source": [
    "# RandomForestClassifier\n",
    "train = df_final_com.iloc[:237609,:]\n",
    "xtrain, xtest, ytrain, ytest = train_test_split(train, df_train['is_click'].values.ravel(), random_state=42, test_size=0.1)\n",
    "s = time.time()\n",
    "rnd_clf = RandomForestClassifier(n_estimators=100, n_jobs=-1, random_state=42)\n",
    "rnd_clf.fit(xtrain, ytrain)\n",
    "e = time.time()\n",
    "e-s"
   ]
  },
  {
   "cell_type": "code",
   "execution_count": 76,
   "metadata": {
    "collapsed": false
   },
   "outputs": [],
   "source": [
    "features = list(train.columns)\n",
    "importances = rnd_clf.feature_importances_\n",
    "indices = np.argsort(importances)\n",
    "# plt.figure(figsize=(10,35))\n",
    "# plt.title('Feature Importances')\n",
    "# plt.barh(range(len(indices)), importances[indices], color='b', align='center')\n",
    "# plt.yticks(range(len(indices)), [features[i] for i in indices])\n",
    "# plt.xlabel('Relative Importance')\n",
    "# plt.show()"
   ]
  },
  {
   "cell_type": "code",
   "execution_count": 77,
   "metadata": {
    "collapsed": false,
    "scrolled": true
   },
   "outputs": [
    {
     "data": {
      "text/html": [
       "<div>\n",
       "<style scoped>\n",
       "    .dataframe tbody tr th:only-of-type {\n",
       "        vertical-align: middle;\n",
       "    }\n",
       "\n",
       "    .dataframe tbody tr th {\n",
       "        vertical-align: top;\n",
       "    }\n",
       "\n",
       "    .dataframe thead th {\n",
       "        text-align: right;\n",
       "    }\n",
       "</style>\n",
       "<table border=\"1\" class=\"dataframe\">\n",
       "  <thead>\n",
       "    <tr style=\"text-align: right;\">\n",
       "      <th></th>\n",
       "      <th>Feature</th>\n",
       "      <th>imp</th>\n",
       "      <th>%age_Imp</th>\n",
       "    </tr>\n",
       "  </thead>\n",
       "  <tbody>\n",
       "    <tr>\n",
       "      <th>173</th>\n",
       "      <td>item_price2</td>\n",
       "      <td>0.096809</td>\n",
       "      <td>9.680929</td>\n",
       "    </tr>\n",
       "    <tr>\n",
       "      <th>172</th>\n",
       "      <td>android</td>\n",
       "      <td>0.049724</td>\n",
       "      <td>14.653324</td>\n",
       "    </tr>\n",
       "    <tr>\n",
       "      <th>171</th>\n",
       "      <td>flag2</td>\n",
       "      <td>0.049146</td>\n",
       "      <td>19.567958</td>\n",
       "    </tr>\n",
       "    <tr>\n",
       "      <th>170</th>\n",
       "      <td>C1_9.0</td>\n",
       "      <td>0.032834</td>\n",
       "      <td>22.851384</td>\n",
       "    </tr>\n",
       "    <tr>\n",
       "      <th>169</th>\n",
       "      <td>C1_1.0</td>\n",
       "      <td>0.032205</td>\n",
       "      <td>26.071883</td>\n",
       "    </tr>\n",
       "    <tr>\n",
       "      <th>168</th>\n",
       "      <td>C1_17.0</td>\n",
       "      <td>0.030832</td>\n",
       "      <td>29.155064</td>\n",
       "    </tr>\n",
       "    <tr>\n",
       "      <th>167</th>\n",
       "      <td>C1_4.0</td>\n",
       "      <td>0.028608</td>\n",
       "      <td>32.015843</td>\n",
       "    </tr>\n",
       "    <tr>\n",
       "      <th>166</th>\n",
       "      <td>C1_13.0</td>\n",
       "      <td>0.027666</td>\n",
       "      <td>34.782484</td>\n",
       "    </tr>\n",
       "    <tr>\n",
       "      <th>165</th>\n",
       "      <td>C1_11.0</td>\n",
       "      <td>0.027074</td>\n",
       "      <td>37.489848</td>\n",
       "    </tr>\n",
       "    <tr>\n",
       "      <th>164</th>\n",
       "      <td>C1_14.0</td>\n",
       "      <td>0.023774</td>\n",
       "      <td>39.867228</td>\n",
       "    </tr>\n",
       "  </tbody>\n",
       "</table>\n",
       "</div>"
      ],
      "text/plain": [
       "         Feature       imp   %age_Imp\n",
       "173  item_price2  0.096809   9.680929\n",
       "172      android  0.049724  14.653324\n",
       "171        flag2  0.049146  19.567958\n",
       "170       C1_9.0  0.032834  22.851384\n",
       "169       C1_1.0  0.032205  26.071883\n",
       "168      C1_17.0  0.030832  29.155064\n",
       "167       C1_4.0  0.028608  32.015843\n",
       "166      C1_13.0  0.027666  34.782484\n",
       "165      C1_11.0  0.027074  37.489848\n",
       "164      C1_14.0  0.023774  39.867228"
      ]
     },
     "execution_count": 77,
     "metadata": {},
     "output_type": "execute_result"
    }
   ],
   "source": [
    "df_RF_Imp = pd.DataFrame({'imp':importances[indices],'Feature':[features[i] for i in indices]})\n",
    "df_RF_Imp = df_RF_Imp.sort_values('imp',ascending=False)\n",
    "df_RF_Imp['%age_Imp'] = df_RF_Imp['imp'].apply(lambda x: x/df_RF_Imp['imp'].sum()*100).cumsum()\n",
    "df_RF_Imp.head(10)"
   ]
  },
  {
   "cell_type": "code",
   "execution_count": 78,
   "metadata": {
    "collapsed": false
   },
   "outputs": [
    {
     "name": "stdout",
     "output_type": "stream",
     "text": [
      "Number of feature to cover 95% of importance: 82\n"
     ]
    }
   ],
   "source": [
    "print(\"Number of feature to cover 95% of importance:\",df_RF_Imp[df_RF_Imp['%age_Imp'] < 95].shape[0])"
   ]
  },
  {
   "cell_type": "markdown",
   "metadata": {},
   "source": [
    "* Importance of variables are in the following order (in explaining if user'll click or not)\n",
    "    * Item price, count of view logs in last 15 days, device type, product's category1 type\n",
    "    * Weekday & Hour\n",
    "    * Websites / App codes\n",
    "    * Least important variables are category2,category3 & product type"
   ]
  },
  {
   "cell_type": "code",
   "execution_count": 81,
   "metadata": {
    "collapsed": true
   },
   "outputs": [],
   "source": [
    "# Dropping least important variables\n",
    "cols_dropped = ['impression_id','is_click','iphone','web']\n",
    "cols_dropped.extend(list(filter(None,[i if ('C2' in i)|('C3' in i)|('PT' in i) else None for i in list(df_com5.columns)])))\n",
    "df_final_com = df_com1.merge(df_com6,how='left',on='impression_id').drop(cols_dropped,axis=1)"
   ]
  },
  {
   "cell_type": "code",
   "execution_count": null,
   "metadata": {
    "collapsed": true
   },
   "outputs": [],
   "source": []
  },
  {
   "cell_type": "markdown",
   "metadata": {},
   "source": [
    "### 7.) SImple model"
   ]
  },
  {
   "cell_type": "code",
   "execution_count": 84,
   "metadata": {
    "collapsed": false
   },
   "outputs": [],
   "source": [
    "# splitting data into training and validation set\n",
    "xtrain, xtest, ytrain, ytest = train_test_split(train, df_train['is_click'].values.ravel(), random_state=42, test_size=0.2)\n",
    "\n",
    "def simple_model(alg):\n",
    "    model = alg\n",
    "    model.fit(xtrain, ytrain) # training the model\n",
    "    ypred = model.predict_proba(xtest)[::,1]                 # predicting on the validation set\n",
    "    auc = roc_auc_score(ytest, ypred)                        # AUC\n",
    "    print(\"Area Under the Curve:\",auc)"
   ]
  },
  {
   "cell_type": "code",
   "execution_count": 85,
   "metadata": {
    "collapsed": false
   },
   "outputs": [
    {
     "name": "stdout",
     "output_type": "stream",
     "text": [
      "LR\n",
      "Area Under the Curve: 0.7157254663540902\n",
      "DTC\n",
      "Area Under the Curve: 0.5301420086481233\n",
      "RFC\n",
      "Area Under the Curve: 0.6040926490785542\n",
      "ABC\n",
      "Area Under the Curve: 0.716160332566733\n",
      "LGBMC\n",
      "Area Under the Curve: 0.7084732113220074\n",
      "XGBC\n",
      "Area Under the Curve: 0.7065186760122992\n"
     ]
    }
   ],
   "source": [
    "algs = [LogisticRegression(),DecisionTreeClassifier(),RandomForestClassifier(),LGBMClassifier(),AdaBoostClassifier(),XGBClassifier()]\n",
    "algs_lst = ['LR','DTC','RFC','ABC','LGBMC','XGBC']\n",
    "for alg,l in zip(algs,algs_lst):\n",
    "    print(l)\n",
    "    simple_model(alg=alg)"
   ]
  },
  {
   "cell_type": "markdown",
   "metadata": {},
   "source": [
    "* Logistic regression, light GBM, adaptive boosting & xgboost are doing good, with approximately 0.71 area under the curve\n",
    "* Further we'll hypertune the parameters of these classifiers"
   ]
  },
  {
   "cell_type": "code",
   "execution_count": null,
   "metadata": {
    "collapsed": true
   },
   "outputs": [],
   "source": []
  },
  {
   "cell_type": "markdown",
   "metadata": {},
   "source": [
    "### 8.) Fitting Hypertuned Model"
   ]
  },
  {
   "cell_type": "markdown",
   "metadata": {},
   "source": [
    "#### 8.1) Logistic Regression"
   ]
  },
  {
   "cell_type": "code",
   "execution_count": 86,
   "metadata": {
    "collapsed": false
   },
   "outputs": [
    {
     "name": "stdout",
     "output_type": "stream",
     "text": [
      "(190087, 174)\n",
      "220.63389205932617\n"
     ]
    }
   ],
   "source": [
    "s = time.time()\n",
    "\n",
    "train = df_final_com.iloc[:237609,:]\n",
    "xtrain, xtest, ytrain, ytest = train_test_split(train, df_train['is_click'].values.ravel(), random_state=42, test_size=0.2)\n",
    "print(xtrain.shape)\n",
    "\n",
    "model = LogisticRegression(penalty='l2',class_weight='balanced')\n",
    "grid = {'C':[0.1,0.5,0.8]\n",
    "#         'penalty':['l2'],\n",
    "#         'class_weight':['balanced']\n",
    "       }\n",
    "# cv = KFold(n_splits = 10, shuffle=True, random_state = 7)\n",
    "clf = RandomizedSearchCV(model, grid, n_jobs=8, cv=None,scoring='roc_auc')\n",
    "clf.fit(xtrain, ytrain)\n",
    "\n",
    "e = time.time()\n",
    "print(e-s)"
   ]
  },
  {
   "cell_type": "code",
   "execution_count": 87,
   "metadata": {
    "collapsed": false
   },
   "outputs": [
    {
     "data": {
      "text/plain": [
       "(0.7099246279639512, {'C': 0.1})"
      ]
     },
     "execution_count": 87,
     "metadata": {},
     "output_type": "execute_result"
    }
   ],
   "source": [
    "clf.best_score_, clf.best_params_"
   ]
  },
  {
   "cell_type": "code",
   "execution_count": 88,
   "metadata": {
    "collapsed": false
   },
   "outputs": [
    {
     "name": "stdout",
     "output_type": "stream",
     "text": [
      "0.7099246279639512 0.0032062168070945743 {'C': 0.1}\n",
      "0.7098776847997504 0.0031231729467149686 {'C': 0.5}\n",
      "0.7098391791810359 0.003083526141791481 {'C': 0.8}\n"
     ]
    }
   ],
   "source": [
    "means = clf.cv_results_['mean_test_score']\n",
    "stds = clf.cv_results_['std_test_score']\n",
    "params = clf.cv_results_['params']\n",
    "for m,s,p in zip(means,stds,params):\n",
    "    print(m,s,p)"
   ]
  },
  {
   "cell_type": "markdown",
   "metadata": {},
   "source": [
    "* Paramter C: I've tried its value ranging from 0.0001 to 10. f1-score score goes up very slightly from 0.12 to 0.14, though, AUC is same 0.72 for all values. Increasing C value more may result into overfitting & also it is taking ~10 minutes for fitting model at C = 10 \n",
    "* Paramter penalty: 'l1' or 'l2' both working equally good. l2 is faster\n",
    "* class: 'balanced', since data is imbalanced"
   ]
  },
  {
   "cell_type": "code",
   "execution_count": 89,
   "metadata": {
    "collapsed": false,
    "scrolled": false
   },
   "outputs": [
    {
     "name": "stdout",
     "output_type": "stream",
     "text": [
      "f1_score: 0.14025444390265526\n",
      "Accuracy on train data: 0.5877150988757779\n",
      "Accuracy on test data: 0.5918732376583478\n",
      "              precision    recall  f1-score   support\n",
      "\n",
      "           0       0.98      0.58      0.73     45384\n",
      "           1       0.08      0.74      0.14      2138\n",
      "\n",
      "    accuracy                           0.59     47522\n",
      "   macro avg       0.53      0.66      0.44     47522\n",
      "weighted avg       0.94      0.59      0.71     47522\n",
      "\n",
      "col_0      0     1\n",
      "row_0             \n",
      "0      26545   556\n",
      "1      18839  1582\n",
      "Area Under the Curve: 0.7154158642426329\n"
     ]
    },
    {
     "data": {
      "image/png": "[encoded data removed]",
      "text/plain": [
       "<matplotlib.figure.Figure at 0x1b503123fd0>"
      ]
     },
     "metadata": {},
     "output_type": "display_data"
    }
   ],
   "source": [
    "train = df_final_com.iloc[:237609,:]\n",
    "xtrain, xtest, ytrain, ytest = train_test_split(train, df_train['is_click'].values.ravel(), random_state=42, test_size=0.2)\n",
    "model = LogisticRegression(C=0.9,penalty='l2', class_weight='balanced',random_state=29)\n",
    "model.fit(xtrain, ytrain)\n",
    "\n",
    "# PREDICTION\n",
    "ypred = model.predict(xtest)\n",
    "\n",
    "# F1-SCORE, ACCURACY\n",
    "print(\"f1_score:\",f1_score(ytest, ypred))                       # calculating f1 score\n",
    "print(\"Accuracy on train data:\",model.score(xtrain,ytrain))\n",
    "print(\"Accuracy on test data:\",model.score(xtest,ytest))\n",
    "\n",
    "# CLASSIFICATION REPORT\n",
    "print(classification_report(ytest,ypred))\n",
    "\n",
    "# CONFUSION MATRIX\n",
    "print(pd.crosstab(ypred,ytest))\n",
    "\n",
    "# AUC & ROC\n",
    "ypred = model.predict_proba(xtest)[::,1]                 # predicting on the validation set\n",
    "auc = roc_auc_score(ytest, ypred)\n",
    "print(\"Area Under the Curve:\",auc)\n",
    "fpr, tpr, thresholds = roc_curve(ytest, ypred)\n",
    "plt.figure()\n",
    "plt.plot(fpr, tpr, label='Logistic Regression (area = %0.2f)' % auc)\n",
    "plt.plot([0, 1], [0, 1],'r--')\n",
    "plt.xlim([0.0, 1.0])\n",
    "plt.ylim([0.0, 1.05])\n",
    "plt.xlabel('False Positive Rate'), plt.ylabel('True Positive Rate'), plt.title('Receiver operating characteristic')\n",
    "plt.legend(loc=\"lower right\")\n",
    "# plt.savefig('Log_ROC')\n",
    "plt.show()"
   ]
  },
  {
   "cell_type": "code",
   "execution_count": null,
   "metadata": {
    "collapsed": true
   },
   "outputs": [],
   "source": []
  },
  {
   "cell_type": "code",
   "execution_count": null,
   "metadata": {
    "collapsed": true
   },
   "outputs": [],
   "source": []
  },
  {
   "cell_type": "markdown",
   "metadata": {},
   "source": [
    "#### 8.2) Light GBM (Gradient Boosting Machine) Classifier\n",
    "* It Build tree leaf wise (vertically)"
   ]
  },
  {
   "cell_type": "code",
   "execution_count": 90,
   "metadata": {
    "collapsed": false
   },
   "outputs": [
    {
     "name": "stdout",
     "output_type": "stream",
     "text": [
      "[1]\ttraining's auc: 0.682764\ttraining's binary_logloss: 0.184386\tvalid_1's auc: 0.678636\tvalid_1's binary_logloss: 0.18179\n",
      "Training until validation scores don't improve for 100 rounds.\n",
      "[2]\ttraining's auc: 0.687714\ttraining's binary_logloss: 0.182932\tvalid_1's auc: 0.683211\tvalid_1's binary_logloss: 0.180454\n",
      "[3]\ttraining's auc: 0.690161\ttraining's binary_logloss: 0.181664\tvalid_1's auc: 0.685508\tvalid_1's binary_logloss: 0.179296\n",
      "[4]\ttraining's auc: 0.690915\ttraining's binary_logloss: 0.180899\tvalid_1's auc: 0.684797\tvalid_1's binary_logloss: 0.178647\n",
      "[5]\ttraining's auc: 0.693345\ttraining's binary_logloss: 0.179976\tvalid_1's auc: 0.686374\tvalid_1's binary_logloss: 0.177807\n",
      "[6]\ttraining's auc: 0.69575\ttraining's binary_logloss: 0.179186\tvalid_1's auc: 0.688691\tvalid_1's binary_logloss: 0.177086\n",
      "[7]\ttraining's auc: 0.698201\ttraining's binary_logloss: 0.178489\tvalid_1's auc: 0.69093\tvalid_1's binary_logloss: 0.176457\n",
      "[8]\ttraining's auc: 0.698961\ttraining's binary_logloss: 0.177901\tvalid_1's auc: 0.691783\tvalid_1's binary_logloss: 0.17595\n",
      "[9]\ttraining's auc: 0.699554\ttraining's binary_logloss: 0.177363\tvalid_1's auc: 0.692854\tvalid_1's binary_logloss: 0.175442\n",
      "[10]\ttraining's auc: 0.701046\ttraining's binary_logloss: 0.176993\tvalid_1's auc: 0.694615\tvalid_1's binary_logloss: 0.17515\n",
      "[11]\ttraining's auc: 0.703303\ttraining's binary_logloss: 0.176587\tvalid_1's auc: 0.697058\tvalid_1's binary_logloss: 0.174791\n",
      "[12]\ttraining's auc: 0.704733\ttraining's binary_logloss: 0.176187\tvalid_1's auc: 0.698308\tvalid_1's binary_logloss: 0.174426\n",
      "[13]\ttraining's auc: 0.705827\ttraining's binary_logloss: 0.175839\tvalid_1's auc: 0.69877\tvalid_1's binary_logloss: 0.174137\n",
      "[14]\ttraining's auc: 0.707452\ttraining's binary_logloss: 0.17549\tvalid_1's auc: 0.700466\tvalid_1's binary_logloss: 0.173812\n",
      "[15]\ttraining's auc: 0.708125\ttraining's binary_logloss: 0.175216\tvalid_1's auc: 0.700996\tvalid_1's binary_logloss: 0.173568\n",
      "[16]\ttraining's auc: 0.709388\ttraining's binary_logloss: 0.174924\tvalid_1's auc: 0.702012\tvalid_1's binary_logloss: 0.173322\n",
      "[17]\ttraining's auc: 0.709798\ttraining's binary_logloss: 0.174701\tvalid_1's auc: 0.702139\tvalid_1's binary_logloss: 0.17315\n",
      "[18]\ttraining's auc: 0.710489\ttraining's binary_logloss: 0.174491\tvalid_1's auc: 0.702819\tvalid_1's binary_logloss: 0.172974\n",
      "[19]\ttraining's auc: 0.711559\ttraining's binary_logloss: 0.174299\tvalid_1's auc: 0.703618\tvalid_1's binary_logloss: 0.172864\n",
      "[20]\ttraining's auc: 0.712351\ttraining's binary_logloss: 0.174112\tvalid_1's auc: 0.704327\tvalid_1's binary_logloss: 0.172708\n",
      "[21]\ttraining's auc: 0.713166\ttraining's binary_logloss: 0.173927\tvalid_1's auc: 0.70508\tvalid_1's binary_logloss: 0.172574\n",
      "[22]\ttraining's auc: 0.71427\ttraining's binary_logloss: 0.173749\tvalid_1's auc: 0.705606\tvalid_1's binary_logloss: 0.172454\n",
      "[23]\ttraining's auc: 0.71502\ttraining's binary_logloss: 0.173582\tvalid_1's auc: 0.705891\tvalid_1's binary_logloss: 0.172347\n",
      "[24]\ttraining's auc: 0.715833\ttraining's binary_logloss: 0.17342\tvalid_1's auc: 0.706756\tvalid_1's binary_logloss: 0.172211\n",
      "[25]\ttraining's auc: 0.716323\ttraining's binary_logloss: 0.173273\tvalid_1's auc: 0.706876\tvalid_1's binary_logloss: 0.172128\n",
      "[26]\ttraining's auc: 0.717127\ttraining's binary_logloss: 0.173127\tvalid_1's auc: 0.707172\tvalid_1's binary_logloss: 0.172041\n",
      "[27]\ttraining's auc: 0.717812\ttraining's binary_logloss: 0.17301\tvalid_1's auc: 0.707482\tvalid_1's binary_logloss: 0.171959\n",
      "[28]\ttraining's auc: 0.718349\ttraining's binary_logloss: 0.172885\tvalid_1's auc: 0.707569\tvalid_1's binary_logloss: 0.171911\n",
      "[29]\ttraining's auc: 0.719133\ttraining's binary_logloss: 0.172781\tvalid_1's auc: 0.707948\tvalid_1's binary_logloss: 0.171837\n",
      "[30]\ttraining's auc: 0.720078\ttraining's binary_logloss: 0.172654\tvalid_1's auc: 0.708349\tvalid_1's binary_logloss: 0.171809\n",
      "[31]\ttraining's auc: 0.720695\ttraining's binary_logloss: 0.172536\tvalid_1's auc: 0.708528\tvalid_1's binary_logloss: 0.171778\n",
      "[32]\ttraining's auc: 0.721205\ttraining's binary_logloss: 0.172436\tvalid_1's auc: 0.708877\tvalid_1's binary_logloss: 0.171699\n",
      "[33]\ttraining's auc: 0.721801\ttraining's binary_logloss: 0.172342\tvalid_1's auc: 0.709041\tvalid_1's binary_logloss: 0.171655\n",
      "[34]\ttraining's auc: 0.723025\ttraining's binary_logloss: 0.172216\tvalid_1's auc: 0.709751\tvalid_1's binary_logloss: 0.171599\n",
      "[35]\ttraining's auc: 0.723581\ttraining's binary_logloss: 0.172128\tvalid_1's auc: 0.710093\tvalid_1's binary_logloss: 0.17155\n",
      "[36]\ttraining's auc: 0.724257\ttraining's binary_logloss: 0.172026\tvalid_1's auc: 0.710238\tvalid_1's binary_logloss: 0.171514\n",
      "[37]\ttraining's auc: 0.724943\ttraining's binary_logloss: 0.171924\tvalid_1's auc: 0.710515\tvalid_1's binary_logloss: 0.171475\n",
      "[38]\ttraining's auc: 0.725404\ttraining's binary_logloss: 0.171854\tvalid_1's auc: 0.710576\tvalid_1's binary_logloss: 0.171451\n",
      "[39]\ttraining's auc: 0.725597\ttraining's binary_logloss: 0.171769\tvalid_1's auc: 0.71045\tvalid_1's binary_logloss: 0.171429\n",
      "[40]\ttraining's auc: 0.726001\ttraining's binary_logloss: 0.171663\tvalid_1's auc: 0.710332\tvalid_1's binary_logloss: 0.171413\n",
      "[41]\ttraining's auc: 0.726389\ttraining's binary_logloss: 0.171594\tvalid_1's auc: 0.710616\tvalid_1's binary_logloss: 0.17138\n",
      "[42]\ttraining's auc: 0.726695\ttraining's binary_logloss: 0.171523\tvalid_1's auc: 0.710834\tvalid_1's binary_logloss: 0.171353\n",
      "[43]\ttraining's auc: 0.727041\ttraining's binary_logloss: 0.171454\tvalid_1's auc: 0.710747\tvalid_1's binary_logloss: 0.171363\n",
      "[44]\ttraining's auc: 0.727482\ttraining's binary_logloss: 0.171387\tvalid_1's auc: 0.71108\tvalid_1's binary_logloss: 0.171314\n",
      "[45]\ttraining's auc: 0.727822\ttraining's binary_logloss: 0.17131\tvalid_1's auc: 0.711108\tvalid_1's binary_logloss: 0.17129\n",
      "[46]\ttraining's auc: 0.728323\ttraining's binary_logloss: 0.171231\tvalid_1's auc: 0.711372\tvalid_1's binary_logloss: 0.171264\n",
      "[47]\ttraining's auc: 0.728953\ttraining's binary_logloss: 0.171149\tvalid_1's auc: 0.711501\tvalid_1's binary_logloss: 0.171234\n",
      "[48]\ttraining's auc: 0.729461\ttraining's binary_logloss: 0.17107\tvalid_1's auc: 0.711631\tvalid_1's binary_logloss: 0.171217\n",
      "[49]\ttraining's auc: 0.730024\ttraining's binary_logloss: 0.170994\tvalid_1's auc: 0.711827\tvalid_1's binary_logloss: 0.1712\n",
      "[50]\ttraining's auc: 0.730413\ttraining's binary_logloss: 0.170935\tvalid_1's auc: 0.712076\tvalid_1's binary_logloss: 0.171176\n",
      "[51]\ttraining's auc: 0.731064\ttraining's binary_logloss: 0.170858\tvalid_1's auc: 0.712382\tvalid_1's binary_logloss: 0.171161\n",
      "[52]\ttraining's auc: 0.731373\ttraining's binary_logloss: 0.17078\tvalid_1's auc: 0.712534\tvalid_1's binary_logloss: 0.171125\n",
      "[53]\ttraining's auc: 0.731726\ttraining's binary_logloss: 0.170726\tvalid_1's auc: 0.712752\tvalid_1's binary_logloss: 0.171101\n",
      "[54]\ttraining's auc: 0.732427\ttraining's binary_logloss: 0.17065\tvalid_1's auc: 0.712978\tvalid_1's binary_logloss: 0.17107\n",
      "[55]\ttraining's auc: 0.732738\ttraining's binary_logloss: 0.170589\tvalid_1's auc: 0.712951\tvalid_1's binary_logloss: 0.171057\n",
      "[56]\ttraining's auc: 0.733079\ttraining's binary_logloss: 0.170531\tvalid_1's auc: 0.713118\tvalid_1's binary_logloss: 0.171042\n",
      "[57]\ttraining's auc: 0.733304\ttraining's binary_logloss: 0.170471\tvalid_1's auc: 0.713086\tvalid_1's binary_logloss: 0.171031\n",
      "[58]\ttraining's auc: 0.733757\ttraining's binary_logloss: 0.170385\tvalid_1's auc: 0.713249\tvalid_1's binary_logloss: 0.171021\n",
      "[59]\ttraining's auc: 0.73429\ttraining's binary_logloss: 0.170314\tvalid_1's auc: 0.713486\tvalid_1's binary_logloss: 0.171007\n",
      "[60]\ttraining's auc: 0.734503\ttraining's binary_logloss: 0.17026\tvalid_1's auc: 0.713763\tvalid_1's binary_logloss: 0.170965\n",
      "[61]\ttraining's auc: 0.734837\ttraining's binary_logloss: 0.170195\tvalid_1's auc: 0.713951\tvalid_1's binary_logloss: 0.170944\n",
      "[62]\ttraining's auc: 0.735313\ttraining's binary_logloss: 0.170115\tvalid_1's auc: 0.714108\tvalid_1's binary_logloss: 0.17092\n",
      "[63]\ttraining's auc: 0.735767\ttraining's binary_logloss: 0.170044\tvalid_1's auc: 0.714419\tvalid_1's binary_logloss: 0.170896\n",
      "[64]\ttraining's auc: 0.736163\ttraining's binary_logloss: 0.169968\tvalid_1's auc: 0.714365\tvalid_1's binary_logloss: 0.170904\n",
      "[65]\ttraining's auc: 0.736539\ttraining's binary_logloss: 0.169917\tvalid_1's auc: 0.714463\tvalid_1's binary_logloss: 0.170898\n",
      "[66]\ttraining's auc: 0.736994\ttraining's binary_logloss: 0.169834\tvalid_1's auc: 0.714475\tvalid_1's binary_logloss: 0.170888\n",
      "[67]\ttraining's auc: 0.737159\ttraining's binary_logloss: 0.169804\tvalid_1's auc: 0.714455\tvalid_1's binary_logloss: 0.170882\n",
      "[68]\ttraining's auc: 0.737547\ttraining's binary_logloss: 0.169747\tvalid_1's auc: 0.714495\tvalid_1's binary_logloss: 0.170877\n",
      "[69]\ttraining's auc: 0.737872\ttraining's binary_logloss: 0.169692\tvalid_1's auc: 0.714623\tvalid_1's binary_logloss: 0.170858\n",
      "[70]\ttraining's auc: 0.738158\ttraining's binary_logloss: 0.169634\tvalid_1's auc: 0.71457\tvalid_1's binary_logloss: 0.170856\n",
      "[71]\ttraining's auc: 0.738425\ttraining's binary_logloss: 0.169571\tvalid_1's auc: 0.71469\tvalid_1's binary_logloss: 0.17084\n",
      "[72]\ttraining's auc: 0.739139\ttraining's binary_logloss: 0.169493\tvalid_1's auc: 0.714893\tvalid_1's binary_logloss: 0.17082\n",
      "[73]\ttraining's auc: 0.739311\ttraining's binary_logloss: 0.169459\tvalid_1's auc: 0.714854\tvalid_1's binary_logloss: 0.170827\n",
      "[74]\ttraining's auc: 0.739602\ttraining's binary_logloss: 0.16942\tvalid_1's auc: 0.714839\tvalid_1's binary_logloss: 0.170823\n",
      "[75]\ttraining's auc: 0.739787\ttraining's binary_logloss: 0.169378\tvalid_1's auc: 0.714819\tvalid_1's binary_logloss: 0.170821\n",
      "[76]\ttraining's auc: 0.740327\ttraining's binary_logloss: 0.169305\tvalid_1's auc: 0.714924\tvalid_1's binary_logloss: 0.170802\n",
      "[77]\ttraining's auc: 0.740958\ttraining's binary_logloss: 0.169231\tvalid_1's auc: 0.715056\tvalid_1's binary_logloss: 0.170777\n",
      "[78]\ttraining's auc: 0.74154\ttraining's binary_logloss: 0.169166\tvalid_1's auc: 0.715245\tvalid_1's binary_logloss: 0.170761\n",
      "[79]\ttraining's auc: 0.741878\ttraining's binary_logloss: 0.169131\tvalid_1's auc: 0.71543\tvalid_1's binary_logloss: 0.170756\n",
      "[80]\ttraining's auc: 0.742148\ttraining's binary_logloss: 0.169086\tvalid_1's auc: 0.715555\tvalid_1's binary_logloss: 0.170731\n",
      "[81]\ttraining's auc: 0.74247\ttraining's binary_logloss: 0.16904\tvalid_1's auc: 0.715483\tvalid_1's binary_logloss: 0.170737\n",
      "[82]\ttraining's auc: 0.742702\ttraining's binary_logloss: 0.168991\tvalid_1's auc: 0.715468\tvalid_1's binary_logloss: 0.170727\n",
      "[83]\ttraining's auc: 0.742817\ttraining's binary_logloss: 0.168948\tvalid_1's auc: 0.715475\tvalid_1's binary_logloss: 0.170725\n",
      "[84]\ttraining's auc: 0.743063\ttraining's binary_logloss: 0.168885\tvalid_1's auc: 0.715634\tvalid_1's binary_logloss: 0.170715\n",
      "[85]\ttraining's auc: 0.743495\ttraining's binary_logloss: 0.168811\tvalid_1's auc: 0.715574\tvalid_1's binary_logloss: 0.170724\n",
      "[86]\ttraining's auc: 0.743671\ttraining's binary_logloss: 0.168767\tvalid_1's auc: 0.715583\tvalid_1's binary_logloss: 0.170716\n",
      "[87]\ttraining's auc: 0.74388\ttraining's binary_logloss: 0.168719\tvalid_1's auc: 0.715693\tvalid_1's binary_logloss: 0.170717\n",
      "[88]\ttraining's auc: 0.744176\ttraining's binary_logloss: 0.168674\tvalid_1's auc: 0.715714\tvalid_1's binary_logloss: 0.170707\n",
      "[89]\ttraining's auc: 0.744409\ttraining's binary_logloss: 0.168633\tvalid_1's auc: 0.715759\tvalid_1's binary_logloss: 0.170698\n",
      "[90]\ttraining's auc: 0.74458\ttraining's binary_logloss: 0.168598\tvalid_1's auc: 0.715839\tvalid_1's binary_logloss: 0.170684\n",
      "[91]\ttraining's auc: 0.744898\ttraining's binary_logloss: 0.168546\tvalid_1's auc: 0.715855\tvalid_1's binary_logloss: 0.170679\n",
      "[92]\ttraining's auc: 0.745105\ttraining's binary_logloss: 0.168517\tvalid_1's auc: 0.715895\tvalid_1's binary_logloss: 0.170673\n",
      "[93]\ttraining's auc: 0.745444\ttraining's binary_logloss: 0.168466\tvalid_1's auc: 0.716009\tvalid_1's binary_logloss: 0.17065\n",
      "[94]\ttraining's auc: 0.74568\ttraining's binary_logloss: 0.168425\tvalid_1's auc: 0.71619\tvalid_1's binary_logloss: 0.170635\n",
      "[95]\ttraining's auc: 0.745972\ttraining's binary_logloss: 0.168377\tvalid_1's auc: 0.716085\tvalid_1's binary_logloss: 0.170624\n",
      "[96]\ttraining's auc: 0.746233\ttraining's binary_logloss: 0.168318\tvalid_1's auc: 0.716245\tvalid_1's binary_logloss: 0.170602\n",
      "[97]\ttraining's auc: 0.746501\ttraining's binary_logloss: 0.168269\tvalid_1's auc: 0.716282\tvalid_1's binary_logloss: 0.170592\n",
      "[98]\ttraining's auc: 0.746795\ttraining's binary_logloss: 0.168233\tvalid_1's auc: 0.716312\tvalid_1's binary_logloss: 0.170586\n",
      "[99]\ttraining's auc: 0.747272\ttraining's binary_logloss: 0.168184\tvalid_1's auc: 0.716346\tvalid_1's binary_logloss: 0.170583\n",
      "[100]\ttraining's auc: 0.747567\ttraining's binary_logloss: 0.168125\tvalid_1's auc: 0.716418\tvalid_1's binary_logloss: 0.170581\n",
      "[101]\ttraining's auc: 0.747727\ttraining's binary_logloss: 0.168079\tvalid_1's auc: 0.716521\tvalid_1's binary_logloss: 0.170566\n",
      "[102]\ttraining's auc: 0.747926\ttraining's binary_logloss: 0.168041\tvalid_1's auc: 0.71658\tvalid_1's binary_logloss: 0.170567\n",
      "[103]\ttraining's auc: 0.748241\ttraining's binary_logloss: 0.167981\tvalid_1's auc: 0.716629\tvalid_1's binary_logloss: 0.17057\n",
      "[104]\ttraining's auc: 0.748571\ttraining's binary_logloss: 0.167942\tvalid_1's auc: 0.716721\tvalid_1's binary_logloss: 0.170558\n",
      "[105]\ttraining's auc: 0.748791\ttraining's binary_logloss: 0.167896\tvalid_1's auc: 0.716693\tvalid_1's binary_logloss: 0.170549\n",
      "[106]\ttraining's auc: 0.749139\ttraining's binary_logloss: 0.167855\tvalid_1's auc: 0.716642\tvalid_1's binary_logloss: 0.17055\n",
      "[107]\ttraining's auc: 0.749405\ttraining's binary_logloss: 0.167794\tvalid_1's auc: 0.71649\tvalid_1's binary_logloss: 0.17056\n",
      "[108]\ttraining's auc: 0.749708\ttraining's binary_logloss: 0.167742\tvalid_1's auc: 0.716551\tvalid_1's binary_logloss: 0.170556\n",
      "[109]\ttraining's auc: 0.749864\ttraining's binary_logloss: 0.167706\tvalid_1's auc: 0.71657\tvalid_1's binary_logloss: 0.170545\n",
      "[110]\ttraining's auc: 0.749963\ttraining's binary_logloss: 0.167667\tvalid_1's auc: 0.716594\tvalid_1's binary_logloss: 0.170533\n",
      "[111]\ttraining's auc: 0.750258\ttraining's binary_logloss: 0.167612\tvalid_1's auc: 0.716869\tvalid_1's binary_logloss: 0.170507\n",
      "[112]\ttraining's auc: 0.750359\ttraining's binary_logloss: 0.167569\tvalid_1's auc: 0.716799\tvalid_1's binary_logloss: 0.170518\n",
      "[113]\ttraining's auc: 0.750554\ttraining's binary_logloss: 0.167531\tvalid_1's auc: 0.716851\tvalid_1's binary_logloss: 0.170495\n",
      "[114]\ttraining's auc: 0.750931\ttraining's binary_logloss: 0.167483\tvalid_1's auc: 0.716878\tvalid_1's binary_logloss: 0.17049\n",
      "[115]\ttraining's auc: 0.751282\ttraining's binary_logloss: 0.167422\tvalid_1's auc: 0.71693\tvalid_1's binary_logloss: 0.170479\n",
      "[116]\ttraining's auc: 0.751471\ttraining's binary_logloss: 0.167377\tvalid_1's auc: 0.716824\tvalid_1's binary_logloss: 0.170477\n",
      "[117]\ttraining's auc: 0.751864\ttraining's binary_logloss: 0.167331\tvalid_1's auc: 0.716869\tvalid_1's binary_logloss: 0.170465\n",
      "[118]\ttraining's auc: 0.752097\ttraining's binary_logloss: 0.167299\tvalid_1's auc: 0.716782\tvalid_1's binary_logloss: 0.170466\n",
      "[119]\ttraining's auc: 0.752321\ttraining's binary_logloss: 0.167255\tvalid_1's auc: 0.716692\tvalid_1's binary_logloss: 0.170477\n",
      "[120]\ttraining's auc: 0.7528\ttraining's binary_logloss: 0.167193\tvalid_1's auc: 0.716541\tvalid_1's binary_logloss: 0.170484\n",
      "[121]\ttraining's auc: 0.753295\ttraining's binary_logloss: 0.167115\tvalid_1's auc: 0.716348\tvalid_1's binary_logloss: 0.170498\n",
      "[122]\ttraining's auc: 0.753704\ttraining's binary_logloss: 0.167063\tvalid_1's auc: 0.71634\tvalid_1's binary_logloss: 0.170497\n",
      "[123]\ttraining's auc: 0.753845\ttraining's binary_logloss: 0.167035\tvalid_1's auc: 0.716289\tvalid_1's binary_logloss: 0.170488\n",
      "[124]\ttraining's auc: 0.754134\ttraining's binary_logloss: 0.16699\tvalid_1's auc: 0.716284\tvalid_1's binary_logloss: 0.170485\n",
      "[125]\ttraining's auc: 0.754291\ttraining's binary_logloss: 0.16695\tvalid_1's auc: 0.716353\tvalid_1's binary_logloss: 0.170478\n",
      "[126]\ttraining's auc: 0.754442\ttraining's binary_logloss: 0.166913\tvalid_1's auc: 0.716302\tvalid_1's binary_logloss: 0.170481\n",
      "[127]\ttraining's auc: 0.755034\ttraining's binary_logloss: 0.166858\tvalid_1's auc: 0.716459\tvalid_1's binary_logloss: 0.170472\n",
      "[128]\ttraining's auc: 0.755177\ttraining's binary_logloss: 0.166821\tvalid_1's auc: 0.716432\tvalid_1's binary_logloss: 0.17048\n",
      "[129]\ttraining's auc: 0.755679\ttraining's binary_logloss: 0.166763\tvalid_1's auc: 0.716451\tvalid_1's binary_logloss: 0.170478\n",
      "[130]\ttraining's auc: 0.755872\ttraining's binary_logloss: 0.166722\tvalid_1's auc: 0.716589\tvalid_1's binary_logloss: 0.17048\n",
      "[131]\ttraining's auc: 0.756203\ttraining's binary_logloss: 0.166681\tvalid_1's auc: 0.716661\tvalid_1's binary_logloss: 0.17047\n",
      "[132]\ttraining's auc: 0.756652\ttraining's binary_logloss: 0.166637\tvalid_1's auc: 0.716567\tvalid_1's binary_logloss: 0.170474\n",
      "[133]\ttraining's auc: 0.756854\ttraining's binary_logloss: 0.166603\tvalid_1's auc: 0.716621\tvalid_1's binary_logloss: 0.170467\n",
      "[134]\ttraining's auc: 0.756998\ttraining's binary_logloss: 0.166567\tvalid_1's auc: 0.716596\tvalid_1's binary_logloss: 0.170468\n",
      "[135]\ttraining's auc: 0.757231\ttraining's binary_logloss: 0.166521\tvalid_1's auc: 0.716561\tvalid_1's binary_logloss: 0.170463\n",
      "[136]\ttraining's auc: 0.757548\ttraining's binary_logloss: 0.166469\tvalid_1's auc: 0.716512\tvalid_1's binary_logloss: 0.170462\n",
      "[137]\ttraining's auc: 0.757802\ttraining's binary_logloss: 0.166426\tvalid_1's auc: 0.716568\tvalid_1's binary_logloss: 0.170455\n",
      "[138]\ttraining's auc: 0.757992\ttraining's binary_logloss: 0.166378\tvalid_1's auc: 0.716541\tvalid_1's binary_logloss: 0.170452\n",
      "[139]\ttraining's auc: 0.758248\ttraining's binary_logloss: 0.166334\tvalid_1's auc: 0.716545\tvalid_1's binary_logloss: 0.170449\n",
      "[140]\ttraining's auc: 0.758481\ttraining's binary_logloss: 0.166295\tvalid_1's auc: 0.716594\tvalid_1's binary_logloss: 0.170445\n",
      "[141]\ttraining's auc: 0.758713\ttraining's binary_logloss: 0.166258\tvalid_1's auc: 0.716735\tvalid_1's binary_logloss: 0.170435\n",
      "[142]\ttraining's auc: 0.759146\ttraining's binary_logloss: 0.166202\tvalid_1's auc: 0.716716\tvalid_1's binary_logloss: 0.170432\n",
      "[143]\ttraining's auc: 0.75939\ttraining's binary_logloss: 0.166149\tvalid_1's auc: 0.716793\tvalid_1's binary_logloss: 0.170417\n",
      "[144]\ttraining's auc: 0.759585\ttraining's binary_logloss: 0.166107\tvalid_1's auc: 0.716869\tvalid_1's binary_logloss: 0.170408\n",
      "[145]\ttraining's auc: 0.759786\ttraining's binary_logloss: 0.166068\tvalid_1's auc: 0.716883\tvalid_1's binary_logloss: 0.170404\n",
      "[146]\ttraining's auc: 0.760318\ttraining's binary_logloss: 0.165995\tvalid_1's auc: 0.717252\tvalid_1's binary_logloss: 0.170366\n",
      "[147]\ttraining's auc: 0.76082\ttraining's binary_logloss: 0.165934\tvalid_1's auc: 0.717319\tvalid_1's binary_logloss: 0.17036\n",
      "[148]\ttraining's auc: 0.761074\ttraining's binary_logloss: 0.165888\tvalid_1's auc: 0.717222\tvalid_1's binary_logloss: 0.170376\n",
      "[149]\ttraining's auc: 0.761384\ttraining's binary_logloss: 0.165842\tvalid_1's auc: 0.717311\tvalid_1's binary_logloss: 0.170366\n",
      "[150]\ttraining's auc: 0.761541\ttraining's binary_logloss: 0.16581\tvalid_1's auc: 0.717441\tvalid_1's binary_logloss: 0.170354\n",
      "[151]\ttraining's auc: 0.761683\ttraining's binary_logloss: 0.165775\tvalid_1's auc: 0.717401\tvalid_1's binary_logloss: 0.170362\n",
      "[152]\ttraining's auc: 0.761897\ttraining's binary_logloss: 0.165744\tvalid_1's auc: 0.71744\tvalid_1's binary_logloss: 0.170358\n",
      "[153]\ttraining's auc: 0.762186\ttraining's binary_logloss: 0.165681\tvalid_1's auc: 0.717616\tvalid_1's binary_logloss: 0.170344\n",
      "[154]\ttraining's auc: 0.762337\ttraining's binary_logloss: 0.165647\tvalid_1's auc: 0.717723\tvalid_1's binary_logloss: 0.170344\n",
      "[155]\ttraining's auc: 0.762592\ttraining's binary_logloss: 0.165599\tvalid_1's auc: 0.717863\tvalid_1's binary_logloss: 0.170333\n",
      "[156]\ttraining's auc: 0.76303\ttraining's binary_logloss: 0.16554\tvalid_1's auc: 0.717724\tvalid_1's binary_logloss: 0.170338\n",
      "[157]\ttraining's auc: 0.763239\ttraining's binary_logloss: 0.165501\tvalid_1's auc: 0.717588\tvalid_1's binary_logloss: 0.170348\n",
      "[158]\ttraining's auc: 0.76352\ttraining's binary_logloss: 0.165448\tvalid_1's auc: 0.717812\tvalid_1's binary_logloss: 0.170334\n",
      "[159]\ttraining's auc: 0.763777\ttraining's binary_logloss: 0.165403\tvalid_1's auc: 0.717776\tvalid_1's binary_logloss: 0.170334\n",
      "[160]\ttraining's auc: 0.763998\ttraining's binary_logloss: 0.165362\tvalid_1's auc: 0.71772\tvalid_1's binary_logloss: 0.170334\n",
      "[161]\ttraining's auc: 0.764363\ttraining's binary_logloss: 0.165296\tvalid_1's auc: 0.717738\tvalid_1's binary_logloss: 0.170312\n",
      "[162]\ttraining's auc: 0.764652\ttraining's binary_logloss: 0.165258\tvalid_1's auc: 0.717589\tvalid_1's binary_logloss: 0.170321\n",
      "[163]\ttraining's auc: 0.764904\ttraining's binary_logloss: 0.165219\tvalid_1's auc: 0.717649\tvalid_1's binary_logloss: 0.170309\n",
      "[164]\ttraining's auc: 0.765378\ttraining's binary_logloss: 0.165152\tvalid_1's auc: 0.717468\tvalid_1's binary_logloss: 0.170319\n",
      "[165]\ttraining's auc: 0.765661\ttraining's binary_logloss: 0.165111\tvalid_1's auc: 0.717472\tvalid_1's binary_logloss: 0.170316\n",
      "[166]\ttraining's auc: 0.765793\ttraining's binary_logloss: 0.165072\tvalid_1's auc: 0.717524\tvalid_1's binary_logloss: 0.17031\n",
      "[167]\ttraining's auc: 0.766024\ttraining's binary_logloss: 0.165019\tvalid_1's auc: 0.71744\tvalid_1's binary_logloss: 0.170316\n",
      "[168]\ttraining's auc: 0.766121\ttraining's binary_logloss: 0.164979\tvalid_1's auc: 0.717398\tvalid_1's binary_logloss: 0.170319\n",
      "[169]\ttraining's auc: 0.76649\ttraining's binary_logloss: 0.164921\tvalid_1's auc: 0.717684\tvalid_1's binary_logloss: 0.170294\n",
      "[170]\ttraining's auc: 0.766847\ttraining's binary_logloss: 0.164873\tvalid_1's auc: 0.717619\tvalid_1's binary_logloss: 0.170303\n",
      "[171]\ttraining's auc: 0.767145\ttraining's binary_logloss: 0.164825\tvalid_1's auc: 0.71769\tvalid_1's binary_logloss: 0.17029\n",
      "[172]\ttraining's auc: 0.767275\ttraining's binary_logloss: 0.164789\tvalid_1's auc: 0.717762\tvalid_1's binary_logloss: 0.170285\n",
      "[173]\ttraining's auc: 0.76753\ttraining's binary_logloss: 0.164732\tvalid_1's auc: 0.717834\tvalid_1's binary_logloss: 0.170278\n",
      "[174]\ttraining's auc: 0.767738\ttraining's binary_logloss: 0.164701\tvalid_1's auc: 0.717913\tvalid_1's binary_logloss: 0.17027\n",
      "[175]\ttraining's auc: 0.768023\ttraining's binary_logloss: 0.164658\tvalid_1's auc: 0.718056\tvalid_1's binary_logloss: 0.170246\n",
      "[176]\ttraining's auc: 0.768223\ttraining's binary_logloss: 0.164607\tvalid_1's auc: 0.71807\tvalid_1's binary_logloss: 0.170247\n",
      "[177]\ttraining's auc: 0.768477\ttraining's binary_logloss: 0.164571\tvalid_1's auc: 0.718133\tvalid_1's binary_logloss: 0.170242\n",
      "[178]\ttraining's auc: 0.768623\ttraining's binary_logloss: 0.164524\tvalid_1's auc: 0.718174\tvalid_1's binary_logloss: 0.170239\n",
      "[179]\ttraining's auc: 0.768715\ttraining's binary_logloss: 0.164498\tvalid_1's auc: 0.718217\tvalid_1's binary_logloss: 0.17023\n",
      "[180]\ttraining's auc: 0.769056\ttraining's binary_logloss: 0.164435\tvalid_1's auc: 0.71835\tvalid_1's binary_logloss: 0.170216\n",
      "[181]\ttraining's auc: 0.7693\ttraining's binary_logloss: 0.164401\tvalid_1's auc: 0.718311\tvalid_1's binary_logloss: 0.170212\n",
      "[182]\ttraining's auc: 0.769642\ttraining's binary_logloss: 0.164345\tvalid_1's auc: 0.718454\tvalid_1's binary_logloss: 0.170199\n",
      "[183]\ttraining's auc: 0.769797\ttraining's binary_logloss: 0.164303\tvalid_1's auc: 0.718387\tvalid_1's binary_logloss: 0.170218\n",
      "[184]\ttraining's auc: 0.77006\ttraining's binary_logloss: 0.164262\tvalid_1's auc: 0.718284\tvalid_1's binary_logloss: 0.17023\n",
      "[185]\ttraining's auc: 0.770291\ttraining's binary_logloss: 0.16423\tvalid_1's auc: 0.718191\tvalid_1's binary_logloss: 0.170247\n",
      "[186]\ttraining's auc: 0.770582\ttraining's binary_logloss: 0.164186\tvalid_1's auc: 0.718135\tvalid_1's binary_logloss: 0.170244\n",
      "[187]\ttraining's auc: 0.770871\ttraining's binary_logloss: 0.164145\tvalid_1's auc: 0.718153\tvalid_1's binary_logloss: 0.170245\n",
      "[188]\ttraining's auc: 0.771183\ttraining's binary_logloss: 0.164089\tvalid_1's auc: 0.718233\tvalid_1's binary_logloss: 0.170239\n",
      "[189]\ttraining's auc: 0.771392\ttraining's binary_logloss: 0.164046\tvalid_1's auc: 0.718197\tvalid_1's binary_logloss: 0.170236\n",
      "[190]\ttraining's auc: 0.771534\ttraining's binary_logloss: 0.164006\tvalid_1's auc: 0.718181\tvalid_1's binary_logloss: 0.170241\n",
      "[191]\ttraining's auc: 0.771889\ttraining's binary_logloss: 0.163959\tvalid_1's auc: 0.71819\tvalid_1's binary_logloss: 0.170232\n",
      "[192]\ttraining's auc: 0.772022\ttraining's binary_logloss: 0.163932\tvalid_1's auc: 0.718223\tvalid_1's binary_logloss: 0.170221\n",
      "[193]\ttraining's auc: 0.772411\ttraining's binary_logloss: 0.163888\tvalid_1's auc: 0.718216\tvalid_1's binary_logloss: 0.170225\n",
      "[194]\ttraining's auc: 0.773\ttraining's binary_logloss: 0.163825\tvalid_1's auc: 0.718462\tvalid_1's binary_logloss: 0.170201\n",
      "[195]\ttraining's auc: 0.773167\ttraining's binary_logloss: 0.16379\tvalid_1's auc: 0.718511\tvalid_1's binary_logloss: 0.1702\n",
      "[196]\ttraining's auc: 0.773311\ttraining's binary_logloss: 0.163755\tvalid_1's auc: 0.718507\tvalid_1's binary_logloss: 0.170203\n",
      "[197]\ttraining's auc: 0.773434\ttraining's binary_logloss: 0.163722\tvalid_1's auc: 0.718526\tvalid_1's binary_logloss: 0.170199\n",
      "[198]\ttraining's auc: 0.773582\ttraining's binary_logloss: 0.163682\tvalid_1's auc: 0.718532\tvalid_1's binary_logloss: 0.170187\n",
      "[199]\ttraining's auc: 0.773792\ttraining's binary_logloss: 0.163642\tvalid_1's auc: 0.718526\tvalid_1's binary_logloss: 0.170192\n",
      "[200]\ttraining's auc: 0.774094\ttraining's binary_logloss: 0.163607\tvalid_1's auc: 0.718475\tvalid_1's binary_logloss: 0.170197\n",
      "[201]\ttraining's auc: 0.774281\ttraining's binary_logloss: 0.163559\tvalid_1's auc: 0.718416\tvalid_1's binary_logloss: 0.1702\n",
      "[202]\ttraining's auc: 0.774411\ttraining's binary_logloss: 0.16352\tvalid_1's auc: 0.718425\tvalid_1's binary_logloss: 0.17019\n",
      "[203]\ttraining's auc: 0.774615\ttraining's binary_logloss: 0.163487\tvalid_1's auc: 0.718501\tvalid_1's binary_logloss: 0.170179\n",
      "[204]\ttraining's auc: 0.774815\ttraining's binary_logloss: 0.163456\tvalid_1's auc: 0.718622\tvalid_1's binary_logloss: 0.170166\n",
      "[205]\ttraining's auc: 0.774934\ttraining's binary_logloss: 0.163425\tvalid_1's auc: 0.71864\tvalid_1's binary_logloss: 0.170165\n",
      "[206]\ttraining's auc: 0.775164\ttraining's binary_logloss: 0.163388\tvalid_1's auc: 0.718751\tvalid_1's binary_logloss: 0.170134\n",
      "[207]\ttraining's auc: 0.7754\ttraining's binary_logloss: 0.163353\tvalid_1's auc: 0.718857\tvalid_1's binary_logloss: 0.170123\n",
      "[208]\ttraining's auc: 0.775545\ttraining's binary_logloss: 0.163308\tvalid_1's auc: 0.718946\tvalid_1's binary_logloss: 0.170112\n",
      "[209]\ttraining's auc: 0.775582\ttraining's binary_logloss: 0.163274\tvalid_1's auc: 0.718978\tvalid_1's binary_logloss: 0.170111\n",
      "[210]\ttraining's auc: 0.775839\ttraining's binary_logloss: 0.163236\tvalid_1's auc: 0.719036\tvalid_1's binary_logloss: 0.170104\n",
      "[211]\ttraining's auc: 0.776124\ttraining's binary_logloss: 0.163195\tvalid_1's auc: 0.719065\tvalid_1's binary_logloss: 0.170103\n",
      "[212]\ttraining's auc: 0.776584\ttraining's binary_logloss: 0.16315\tvalid_1's auc: 0.71929\tvalid_1's binary_logloss: 0.170087\n",
      "[213]\ttraining's auc: 0.776857\ttraining's binary_logloss: 0.16311\tvalid_1's auc: 0.719279\tvalid_1's binary_logloss: 0.170089\n",
      "[214]\ttraining's auc: 0.777009\ttraining's binary_logloss: 0.163069\tvalid_1's auc: 0.719326\tvalid_1's binary_logloss: 0.170087\n",
      "[215]\ttraining's auc: 0.777177\ttraining's binary_logloss: 0.163041\tvalid_1's auc: 0.719262\tvalid_1's binary_logloss: 0.170092\n",
      "[216]\ttraining's auc: 0.777358\ttraining's binary_logloss: 0.163001\tvalid_1's auc: 0.719172\tvalid_1's binary_logloss: 0.170098\n",
      "[217]\ttraining's auc: 0.777628\ttraining's binary_logloss: 0.162967\tvalid_1's auc: 0.719112\tvalid_1's binary_logloss: 0.170103\n",
      "[218]\ttraining's auc: 0.777907\ttraining's binary_logloss: 0.162931\tvalid_1's auc: 0.719206\tvalid_1's binary_logloss: 0.170089\n",
      "[219]\ttraining's auc: 0.778178\ttraining's binary_logloss: 0.162888\tvalid_1's auc: 0.719103\tvalid_1's binary_logloss: 0.170106\n",
      "[220]\ttraining's auc: 0.778511\ttraining's binary_logloss: 0.162843\tvalid_1's auc: 0.719072\tvalid_1's binary_logloss: 0.170106\n",
      "[221]\ttraining's auc: 0.778633\ttraining's binary_logloss: 0.162803\tvalid_1's auc: 0.719219\tvalid_1's binary_logloss: 0.170096\n",
      "[222]\ttraining's auc: 0.77886\ttraining's binary_logloss: 0.162758\tvalid_1's auc: 0.719232\tvalid_1's binary_logloss: 0.170098\n",
      "[223]\ttraining's auc: 0.779073\ttraining's binary_logloss: 0.162712\tvalid_1's auc: 0.719193\tvalid_1's binary_logloss: 0.170093\n",
      "[224]\ttraining's auc: 0.779317\ttraining's binary_logloss: 0.162682\tvalid_1's auc: 0.719181\tvalid_1's binary_logloss: 0.170091\n",
      "[225]\ttraining's auc: 0.779432\ttraining's binary_logloss: 0.16264\tvalid_1's auc: 0.71922\tvalid_1's binary_logloss: 0.170092\n",
      "[226]\ttraining's auc: 0.779639\ttraining's binary_logloss: 0.162597\tvalid_1's auc: 0.719188\tvalid_1's binary_logloss: 0.170093\n",
      "[227]\ttraining's auc: 0.779815\ttraining's binary_logloss: 0.162555\tvalid_1's auc: 0.719127\tvalid_1's binary_logloss: 0.170106\n",
      "[228]\ttraining's auc: 0.780135\ttraining's binary_logloss: 0.162503\tvalid_1's auc: 0.719349\tvalid_1's binary_logloss: 0.17009\n",
      "[229]\ttraining's auc: 0.780329\ttraining's binary_logloss: 0.162455\tvalid_1's auc: 0.719357\tvalid_1's binary_logloss: 0.170078\n",
      "[230]\ttraining's auc: 0.780494\ttraining's binary_logloss: 0.162421\tvalid_1's auc: 0.719417\tvalid_1's binary_logloss: 0.170077\n",
      "[231]\ttraining's auc: 0.780801\ttraining's binary_logloss: 0.162379\tvalid_1's auc: 0.719483\tvalid_1's binary_logloss: 0.170059\n",
      "[232]\ttraining's auc: 0.781094\ttraining's binary_logloss: 0.162338\tvalid_1's auc: 0.719449\tvalid_1's binary_logloss: 0.170059\n",
      "[233]\ttraining's auc: 0.781351\ttraining's binary_logloss: 0.1623\tvalid_1's auc: 0.719385\tvalid_1's binary_logloss: 0.170066\n",
      "[234]\ttraining's auc: 0.781522\ttraining's binary_logloss: 0.162259\tvalid_1's auc: 0.719389\tvalid_1's binary_logloss: 0.170056\n",
      "[235]\ttraining's auc: 0.781763\ttraining's binary_logloss: 0.162198\tvalid_1's auc: 0.719408\tvalid_1's binary_logloss: 0.170045\n",
      "[236]\ttraining's auc: 0.781841\ttraining's binary_logloss: 0.162172\tvalid_1's auc: 0.719404\tvalid_1's binary_logloss: 0.170042\n",
      "[237]\ttraining's auc: 0.782027\ttraining's binary_logloss: 0.162137\tvalid_1's auc: 0.719434\tvalid_1's binary_logloss: 0.170036\n",
      "[238]\ttraining's auc: 0.782265\ttraining's binary_logloss: 0.162097\tvalid_1's auc: 0.719565\tvalid_1's binary_logloss: 0.170026\n",
      "[239]\ttraining's auc: 0.782364\ttraining's binary_logloss: 0.162069\tvalid_1's auc: 0.719504\tvalid_1's binary_logloss: 0.170034\n",
      "[240]\ttraining's auc: 0.782467\ttraining's binary_logloss: 0.162044\tvalid_1's auc: 0.719629\tvalid_1's binary_logloss: 0.170025\n",
      "[241]\ttraining's auc: 0.782788\ttraining's binary_logloss: 0.162001\tvalid_1's auc: 0.719771\tvalid_1's binary_logloss: 0.170001\n",
      "[242]\ttraining's auc: 0.782906\ttraining's binary_logloss: 0.161969\tvalid_1's auc: 0.719802\tvalid_1's binary_logloss: 0.17\n",
      "[243]\ttraining's auc: 0.78305\ttraining's binary_logloss: 0.161929\tvalid_1's auc: 0.719753\tvalid_1's binary_logloss: 0.170001\n",
      "[244]\ttraining's auc: 0.783168\ttraining's binary_logloss: 0.161893\tvalid_1's auc: 0.719726\tvalid_1's binary_logloss: 0.170013\n",
      "[245]\ttraining's auc: 0.783424\ttraining's binary_logloss: 0.161852\tvalid_1's auc: 0.719784\tvalid_1's binary_logloss: 0.170008\n",
      "[246]\ttraining's auc: 0.783864\ttraining's binary_logloss: 0.161791\tvalid_1's auc: 0.719745\tvalid_1's binary_logloss: 0.169995\n",
      "[247]\ttraining's auc: 0.784016\ttraining's binary_logloss: 0.16174\tvalid_1's auc: 0.719915\tvalid_1's binary_logloss: 0.169977\n",
      "[248]\ttraining's auc: 0.78411\ttraining's binary_logloss: 0.161706\tvalid_1's auc: 0.719883\tvalid_1's binary_logloss: 0.16998\n",
      "[249]\ttraining's auc: 0.784286\ttraining's binary_logloss: 0.161673\tvalid_1's auc: 0.719871\tvalid_1's binary_logloss: 0.169984\n",
      "[250]\ttraining's auc: 0.784482\ttraining's binary_logloss: 0.161628\tvalid_1's auc: 0.719923\tvalid_1's binary_logloss: 0.169959\n",
      "[251]\ttraining's auc: 0.78454\ttraining's binary_logloss: 0.161591\tvalid_1's auc: 0.719926\tvalid_1's binary_logloss: 0.169953\n",
      "[252]\ttraining's auc: 0.784671\ttraining's binary_logloss: 0.161554\tvalid_1's auc: 0.719947\tvalid_1's binary_logloss: 0.169954\n",
      "[253]\ttraining's auc: 0.784827\ttraining's binary_logloss: 0.161516\tvalid_1's auc: 0.719964\tvalid_1's binary_logloss: 0.169959\n",
      "[254]\ttraining's auc: 0.785043\ttraining's binary_logloss: 0.16148\tvalid_1's auc: 0.72008\tvalid_1's binary_logloss: 0.169948\n",
      "[255]\ttraining's auc: 0.785135\ttraining's binary_logloss: 0.161454\tvalid_1's auc: 0.720051\tvalid_1's binary_logloss: 0.169954\n",
      "[256]\ttraining's auc: 0.785311\ttraining's binary_logloss: 0.161407\tvalid_1's auc: 0.720115\tvalid_1's binary_logloss: 0.169962\n",
      "[257]\ttraining's auc: 0.78544\ttraining's binary_logloss: 0.16137\tvalid_1's auc: 0.720059\tvalid_1's binary_logloss: 0.169969\n",
      "[258]\ttraining's auc: 0.785628\ttraining's binary_logloss: 0.161335\tvalid_1's auc: 0.71994\tvalid_1's binary_logloss: 0.169983\n",
      "[259]\ttraining's auc: 0.785752\ttraining's binary_logloss: 0.161307\tvalid_1's auc: 0.719883\tvalid_1's binary_logloss: 0.169987\n",
      "[260]\ttraining's auc: 0.785871\ttraining's binary_logloss: 0.161273\tvalid_1's auc: 0.719866\tvalid_1's binary_logloss: 0.169991\n",
      "[261]\ttraining's auc: 0.785934\ttraining's binary_logloss: 0.161251\tvalid_1's auc: 0.719807\tvalid_1's binary_logloss: 0.169996\n",
      "[262]\ttraining's auc: 0.786104\ttraining's binary_logloss: 0.161203\tvalid_1's auc: 0.719783\tvalid_1's binary_logloss: 0.170002\n",
      "[263]\ttraining's auc: 0.786272\ttraining's binary_logloss: 0.161154\tvalid_1's auc: 0.719786\tvalid_1's binary_logloss: 0.169998\n",
      "[264]\ttraining's auc: 0.786509\ttraining's binary_logloss: 0.161121\tvalid_1's auc: 0.719739\tvalid_1's binary_logloss: 0.170001\n",
      "[265]\ttraining's auc: 0.786588\ttraining's binary_logloss: 0.161093\tvalid_1's auc: 0.719725\tvalid_1's binary_logloss: 0.170006\n",
      "[266]\ttraining's auc: 0.786728\ttraining's binary_logloss: 0.161058\tvalid_1's auc: 0.719745\tvalid_1's binary_logloss: 0.170001\n",
      "[267]\ttraining's auc: 0.787071\ttraining's binary_logloss: 0.161003\tvalid_1's auc: 0.719692\tvalid_1's binary_logloss: 0.170012\n",
      "[268]\ttraining's auc: 0.787213\ttraining's binary_logloss: 0.160963\tvalid_1's auc: 0.719736\tvalid_1's binary_logloss: 0.170004\n",
      "[269]\ttraining's auc: 0.787376\ttraining's binary_logloss: 0.160929\tvalid_1's auc: 0.71983\tvalid_1's binary_logloss: 0.169995\n",
      "[270]\ttraining's auc: 0.787495\ttraining's binary_logloss: 0.160886\tvalid_1's auc: 0.719936\tvalid_1's binary_logloss: 0.16999\n",
      "[271]\ttraining's auc: 0.787652\ttraining's binary_logloss: 0.160849\tvalid_1's auc: 0.720008\tvalid_1's binary_logloss: 0.169982\n",
      "[272]\ttraining's auc: 0.787931\ttraining's binary_logloss: 0.160813\tvalid_1's auc: 0.72004\tvalid_1's binary_logloss: 0.169975\n",
      "[273]\ttraining's auc: 0.788168\ttraining's binary_logloss: 0.160776\tvalid_1's auc: 0.720086\tvalid_1's binary_logloss: 0.169971\n",
      "[274]\ttraining's auc: 0.788414\ttraining's binary_logloss: 0.160726\tvalid_1's auc: 0.720102\tvalid_1's binary_logloss: 0.169968\n",
      "[275]\ttraining's auc: 0.788486\ttraining's binary_logloss: 0.160705\tvalid_1's auc: 0.720074\tvalid_1's binary_logloss: 0.169967\n",
      "[276]\ttraining's auc: 0.788629\ttraining's binary_logloss: 0.160682\tvalid_1's auc: 0.719967\tvalid_1's binary_logloss: 0.169977\n",
      "[277]\ttraining's auc: 0.788732\ttraining's binary_logloss: 0.160656\tvalid_1's auc: 0.719997\tvalid_1's binary_logloss: 0.169977\n",
      "[278]\ttraining's auc: 0.788959\ttraining's binary_logloss: 0.16062\tvalid_1's auc: 0.720025\tvalid_1's binary_logloss: 0.169979\n",
      "[279]\ttraining's auc: 0.789187\ttraining's binary_logloss: 0.160591\tvalid_1's auc: 0.719895\tvalid_1's binary_logloss: 0.169987\n",
      "[280]\ttraining's auc: 0.789366\ttraining's binary_logloss: 0.16055\tvalid_1's auc: 0.719878\tvalid_1's binary_logloss: 0.169987\n",
      "[281]\ttraining's auc: 0.789466\ttraining's binary_logloss: 0.160526\tvalid_1's auc: 0.719869\tvalid_1's binary_logloss: 0.169992\n",
      "[282]\ttraining's auc: 0.789724\ttraining's binary_logloss: 0.160487\tvalid_1's auc: 0.719898\tvalid_1's binary_logloss: 0.169995\n",
      "[283]\ttraining's auc: 0.789903\ttraining's binary_logloss: 0.160455\tvalid_1's auc: 0.719962\tvalid_1's binary_logloss: 0.169995\n",
      "[284]\ttraining's auc: 0.790082\ttraining's binary_logloss: 0.160412\tvalid_1's auc: 0.719905\tvalid_1's binary_logloss: 0.17\n",
      "[285]\ttraining's auc: 0.790457\ttraining's binary_logloss: 0.160361\tvalid_1's auc: 0.719797\tvalid_1's binary_logloss: 0.170007\n",
      "[286]\ttraining's auc: 0.790617\ttraining's binary_logloss: 0.160321\tvalid_1's auc: 0.719717\tvalid_1's binary_logloss: 0.170012\n",
      "[287]\ttraining's auc: 0.790756\ttraining's binary_logloss: 0.160289\tvalid_1's auc: 0.719702\tvalid_1's binary_logloss: 0.170014\n",
      "[288]\ttraining's auc: 0.790944\ttraining's binary_logloss: 0.160247\tvalid_1's auc: 0.719749\tvalid_1's binary_logloss: 0.170006\n",
      "[289]\ttraining's auc: 0.791298\ttraining's binary_logloss: 0.160214\tvalid_1's auc: 0.719849\tvalid_1's binary_logloss: 0.169997\n",
      "[290]\ttraining's auc: 0.791426\ttraining's binary_logloss: 0.160168\tvalid_1's auc: 0.71989\tvalid_1's binary_logloss: 0.169988\n",
      "[291]\ttraining's auc: 0.791751\ttraining's binary_logloss: 0.160121\tvalid_1's auc: 0.719877\tvalid_1's binary_logloss: 0.169985\n",
      "[292]\ttraining's auc: 0.791971\ttraining's binary_logloss: 0.160088\tvalid_1's auc: 0.719916\tvalid_1's binary_logloss: 0.169983\n",
      "[293]\ttraining's auc: 0.792176\ttraining's binary_logloss: 0.160052\tvalid_1's auc: 0.720007\tvalid_1's binary_logloss: 0.169981\n",
      "[294]\ttraining's auc: 0.792574\ttraining's binary_logloss: 0.159994\tvalid_1's auc: 0.720036\tvalid_1's binary_logloss: 0.169979\n",
      "[295]\ttraining's auc: 0.792653\ttraining's binary_logloss: 0.159958\tvalid_1's auc: 0.719973\tvalid_1's binary_logloss: 0.169998\n",
      "[296]\ttraining's auc: 0.792793\ttraining's binary_logloss: 0.159927\tvalid_1's auc: 0.72004\tvalid_1's binary_logloss: 0.169995\n",
      "[297]\ttraining's auc: 0.793015\ttraining's binary_logloss: 0.159891\tvalid_1's auc: 0.720176\tvalid_1's binary_logloss: 0.169983\n",
      "[298]\ttraining's auc: 0.793221\ttraining's binary_logloss: 0.159856\tvalid_1's auc: 0.720287\tvalid_1's binary_logloss: 0.169973\n",
      "[299]\ttraining's auc: 0.79331\ttraining's binary_logloss: 0.159829\tvalid_1's auc: 0.720162\tvalid_1's binary_logloss: 0.169992\n",
      "[300]\ttraining's auc: 0.793508\ttraining's binary_logloss: 0.15979\tvalid_1's auc: 0.720226\tvalid_1's binary_logloss: 0.169989\n",
      "[301]\ttraining's auc: 0.793664\ttraining's binary_logloss: 0.159761\tvalid_1's auc: 0.720111\tvalid_1's binary_logloss: 0.17001\n",
      "[302]\ttraining's auc: 0.793908\ttraining's binary_logloss: 0.159724\tvalid_1's auc: 0.720129\tvalid_1's binary_logloss: 0.170009\n",
      "[303]\ttraining's auc: 0.793981\ttraining's binary_logloss: 0.159701\tvalid_1's auc: 0.720071\tvalid_1's binary_logloss: 0.170016\n",
      "[304]\ttraining's auc: 0.79408\ttraining's binary_logloss: 0.159665\tvalid_1's auc: 0.720018\tvalid_1's binary_logloss: 0.170018\n",
      "[305]\ttraining's auc: 0.794173\ttraining's binary_logloss: 0.159643\tvalid_1's auc: 0.719993\tvalid_1's binary_logloss: 0.17002\n",
      "[306]\ttraining's auc: 0.79421\ttraining's binary_logloss: 0.159628\tvalid_1's auc: 0.720017\tvalid_1's binary_logloss: 0.17002\n",
      "[307]\ttraining's auc: 0.794255\ttraining's binary_logloss: 0.159613\tvalid_1's auc: 0.72004\tvalid_1's binary_logloss: 0.170015\n",
      "[308]\ttraining's auc: 0.794334\ttraining's binary_logloss: 0.159593\tvalid_1's auc: 0.720061\tvalid_1's binary_logloss: 0.170014\n",
      "[309]\ttraining's auc: 0.794509\ttraining's binary_logloss: 0.159556\tvalid_1's auc: 0.720019\tvalid_1's binary_logloss: 0.170019\n",
      "[310]\ttraining's auc: 0.794631\ttraining's binary_logloss: 0.159523\tvalid_1's auc: 0.720019\tvalid_1's binary_logloss: 0.17002\n",
      "[311]\ttraining's auc: 0.794725\ttraining's binary_logloss: 0.159491\tvalid_1's auc: 0.720027\tvalid_1's binary_logloss: 0.17001\n",
      "[312]\ttraining's auc: 0.794912\ttraining's binary_logloss: 0.159436\tvalid_1's auc: 0.719921\tvalid_1's binary_logloss: 0.170022\n",
      "[313]\ttraining's auc: 0.795025\ttraining's binary_logloss: 0.159402\tvalid_1's auc: 0.719927\tvalid_1's binary_logloss: 0.170016\n",
      "[314]\ttraining's auc: 0.795176\ttraining's binary_logloss: 0.159362\tvalid_1's auc: 0.720147\tvalid_1's binary_logloss: 0.170003\n",
      "[315]\ttraining's auc: 0.795307\ttraining's binary_logloss: 0.159332\tvalid_1's auc: 0.720128\tvalid_1's binary_logloss: 0.170009\n",
      "[316]\ttraining's auc: 0.795485\ttraining's binary_logloss: 0.159303\tvalid_1's auc: 0.720158\tvalid_1's binary_logloss: 0.170004\n",
      "[317]\ttraining's auc: 0.795568\ttraining's binary_logloss: 0.159283\tvalid_1's auc: 0.720169\tvalid_1's binary_logloss: 0.170003\n",
      "[318]\ttraining's auc: 0.795785\ttraining's binary_logloss: 0.159257\tvalid_1's auc: 0.720158\tvalid_1's binary_logloss: 0.170001\n",
      "[319]\ttraining's auc: 0.795964\ttraining's binary_logloss: 0.159229\tvalid_1's auc: 0.720106\tvalid_1's binary_logloss: 0.170004\n",
      "[320]\ttraining's auc: 0.796099\ttraining's binary_logloss: 0.159206\tvalid_1's auc: 0.719956\tvalid_1's binary_logloss: 0.170013\n",
      "[321]\ttraining's auc: 0.796326\ttraining's binary_logloss: 0.159169\tvalid_1's auc: 0.720084\tvalid_1's binary_logloss: 0.170001\n",
      "[322]\ttraining's auc: 0.796543\ttraining's binary_logloss: 0.159131\tvalid_1's auc: 0.719908\tvalid_1's binary_logloss: 0.170018\n",
      "[323]\ttraining's auc: 0.796669\ttraining's binary_logloss: 0.159095\tvalid_1's auc: 0.719898\tvalid_1's binary_logloss: 0.170025\n",
      "[324]\ttraining's auc: 0.796803\ttraining's binary_logloss: 0.159064\tvalid_1's auc: 0.719915\tvalid_1's binary_logloss: 0.170027\n",
      "[325]\ttraining's auc: 0.797043\ttraining's binary_logloss: 0.159019\tvalid_1's auc: 0.719926\tvalid_1's binary_logloss: 0.170016\n",
      "[326]\ttraining's auc: 0.797253\ttraining's binary_logloss: 0.158986\tvalid_1's auc: 0.719823\tvalid_1's binary_logloss: 0.170032\n",
      "[327]\ttraining's auc: 0.797331\ttraining's binary_logloss: 0.158953\tvalid_1's auc: 0.719797\tvalid_1's binary_logloss: 0.170025\n",
      "[328]\ttraining's auc: 0.797457\ttraining's binary_logloss: 0.158914\tvalid_1's auc: 0.719841\tvalid_1's binary_logloss: 0.170024\n",
      "[329]\ttraining's auc: 0.797527\ttraining's binary_logloss: 0.158882\tvalid_1's auc: 0.719792\tvalid_1's binary_logloss: 0.170028\n",
      "[330]\ttraining's auc: 0.797662\ttraining's binary_logloss: 0.158848\tvalid_1's auc: 0.719827\tvalid_1's binary_logloss: 0.170014\n",
      "[331]\ttraining's auc: 0.797891\ttraining's binary_logloss: 0.158815\tvalid_1's auc: 0.719843\tvalid_1's binary_logloss: 0.170018\n",
      "[332]\ttraining's auc: 0.798108\ttraining's binary_logloss: 0.158787\tvalid_1's auc: 0.719767\tvalid_1's binary_logloss: 0.170028\n",
      "[333]\ttraining's auc: 0.798186\ttraining's binary_logloss: 0.15876\tvalid_1's auc: 0.719808\tvalid_1's binary_logloss: 0.17003\n",
      "[334]\ttraining's auc: 0.798275\ttraining's binary_logloss: 0.158739\tvalid_1's auc: 0.719822\tvalid_1's binary_logloss: 0.170031\n",
      "[335]\ttraining's auc: 0.798383\ttraining's binary_logloss: 0.158715\tvalid_1's auc: 0.719877\tvalid_1's binary_logloss: 0.17003\n",
      "[336]\ttraining's auc: 0.798464\ttraining's binary_logloss: 0.158682\tvalid_1's auc: 0.719916\tvalid_1's binary_logloss: 0.170033\n",
      "[337]\ttraining's auc: 0.798562\ttraining's binary_logloss: 0.158664\tvalid_1's auc: 0.719951\tvalid_1's binary_logloss: 0.170022\n",
      "[338]\ttraining's auc: 0.798694\ttraining's binary_logloss: 0.158629\tvalid_1's auc: 0.720093\tvalid_1's binary_logloss: 0.170008\n",
      "[339]\ttraining's auc: 0.798778\ttraining's binary_logloss: 0.158607\tvalid_1's auc: 0.720078\tvalid_1's binary_logloss: 0.17001\n",
      "[340]\ttraining's auc: 0.798905\ttraining's binary_logloss: 0.158571\tvalid_1's auc: 0.720137\tvalid_1's binary_logloss: 0.169998\n",
      "[341]\ttraining's auc: 0.79915\ttraining's binary_logloss: 0.158541\tvalid_1's auc: 0.720248\tvalid_1's binary_logloss: 0.169988\n",
      "[342]\ttraining's auc: 0.799272\ttraining's binary_logloss: 0.15851\tvalid_1's auc: 0.720358\tvalid_1's binary_logloss: 0.169971\n",
      "[343]\ttraining's auc: 0.799487\ttraining's binary_logloss: 0.158469\tvalid_1's auc: 0.720479\tvalid_1's binary_logloss: 0.169965\n",
      "[344]\ttraining's auc: 0.799706\ttraining's binary_logloss: 0.15843\tvalid_1's auc: 0.72044\tvalid_1's binary_logloss: 0.169973\n",
      "[345]\ttraining's auc: 0.799746\ttraining's binary_logloss: 0.158406\tvalid_1's auc: 0.720393\tvalid_1's binary_logloss: 0.169977\n",
      "[346]\ttraining's auc: 0.79989\ttraining's binary_logloss: 0.158372\tvalid_1's auc: 0.720333\tvalid_1's binary_logloss: 0.169986\n",
      "[347]\ttraining's auc: 0.799996\ttraining's binary_logloss: 0.158335\tvalid_1's auc: 0.720221\tvalid_1's binary_logloss: 0.169995\n",
      "[348]\ttraining's auc: 0.800117\ttraining's binary_logloss: 0.158307\tvalid_1's auc: 0.720222\tvalid_1's binary_logloss: 0.16999\n",
      "[349]\ttraining's auc: 0.800235\ttraining's binary_logloss: 0.158279\tvalid_1's auc: 0.720231\tvalid_1's binary_logloss: 0.169993\n",
      "[350]\ttraining's auc: 0.800552\ttraining's binary_logloss: 0.158224\tvalid_1's auc: 0.7202\tvalid_1's binary_logloss: 0.16999\n",
      "[351]\ttraining's auc: 0.800712\ttraining's binary_logloss: 0.158193\tvalid_1's auc: 0.720086\tvalid_1's binary_logloss: 0.170003\n",
      "[352]\ttraining's auc: 0.800912\ttraining's binary_logloss: 0.158157\tvalid_1's auc: 0.720246\tvalid_1's binary_logloss: 0.169979\n",
      "[353]\ttraining's auc: 0.801062\ttraining's binary_logloss: 0.158133\tvalid_1's auc: 0.72012\tvalid_1's binary_logloss: 0.169993\n",
      "[354]\ttraining's auc: 0.801281\ttraining's binary_logloss: 0.158098\tvalid_1's auc: 0.720171\tvalid_1's binary_logloss: 0.16998\n",
      "Early stopping, best iteration is:\n",
      "[254]\ttraining's auc: 0.785043\ttraining's binary_logloss: 0.16148\tvalid_1's auc: 0.72008\tvalid_1's binary_logloss: 0.169948\n",
      "215.51955437660217\n"
     ]
    }
   ],
   "source": [
    "s = time.time()\n",
    "train = df_final_com.iloc[:237609,:]\n",
    "xtrain, xtest, ytrain, ytest = train_test_split(train, df_train['is_click'].values.ravel(), random_state=42, test_size=0.2)\n",
    "\n",
    "grid = {'n_estimators':[1000],                  # 100 (default)\n",
    "        'learning_rate':[0.1],                  # 0.1\n",
    "        'num_leaves':[20,30,40],                # 31\n",
    "        'colsample_bytree':[.8],                # 1.0\n",
    "        'subsample':[.9],                       # 1.0\n",
    "        'max_depth':[7],\n",
    "        'reg_alpha':[.1],\n",
    "        'reg_lambda':[.1],\n",
    "        'min_split_gain':[.01],\n",
    "        'min_child_weight':[2],\n",
    "        'silent':[-1],\n",
    "        'early_stopping_rounds':[100]}           # to speed up process\n",
    "    \n",
    "model = LGBMClassifier(verbose=100)\n",
    "# cv = KFold(n_splits = 10, shuffle=True, random_state = 7)\n",
    "clf = RandomizedSearchCV(model, grid, n_jobs=8, cv=None,scoring='roc_auc')\n",
    "clf.fit(xtrain, ytrain,\n",
    "        eval_set= [(xtrain, ytrain), (xtest, ytest)],\n",
    "        eval_metric='auc')\n",
    "e = time.time()\n",
    "print(e-s)"
   ]
  },
  {
   "cell_type": "code",
   "execution_count": 91,
   "metadata": {
    "collapsed": false
   },
   "outputs": [
    {
     "name": "stdout",
     "output_type": "stream",
     "text": [
      "0.7126309013550538 {'early_stopping_rounds': 100, 'min_split_gain': 0.01, 'silent': -1, 'reg_alpha': 0.1, 'min_child_weight': 2, 'learning_rate': 0.1, 'num_leaves': 20, 'n_estimators': 1000, 'max_depth': 7, 'reg_lambda': 0.1, 'subsample': 0.9, 'colsample_bytree': 0.8}\n",
      "0.7126309013550538 0.002639268185890891 {'early_stopping_rounds': 100, 'min_split_gain': 0.01, 'silent': -1, 'reg_alpha': 0.1, 'min_child_weight': 2, 'learning_rate': 0.1, 'num_leaves': 20, 'n_estimators': 1000, 'max_depth': 7, 'reg_lambda': 0.1, 'subsample': 0.9, 'colsample_bytree': 0.8}\n",
      "0.7113480765994292 0.0020621063380327665 {'early_stopping_rounds': 100, 'min_split_gain': 0.01, 'silent': -1, 'reg_alpha': 0.1, 'min_child_weight': 2, 'learning_rate': 0.1, 'num_leaves': 30, 'n_estimators': 1000, 'max_depth': 7, 'reg_lambda': 0.1, 'subsample': 0.9, 'colsample_bytree': 0.8}\n",
      "0.7109901478046978 0.002377365459291182 {'early_stopping_rounds': 100, 'min_split_gain': 0.01, 'silent': -1, 'reg_alpha': 0.1, 'min_child_weight': 2, 'learning_rate': 0.1, 'num_leaves': 40, 'n_estimators': 1000, 'max_depth': 7, 'reg_lambda': 0.1, 'subsample': 0.9, 'colsample_bytree': 0.8}\n"
     ]
    }
   ],
   "source": [
    "print(clf.best_score_, clf.best_params_)\n",
    "means = clf.cv_results_['mean_test_score']\n",
    "stds = clf.cv_results_['std_test_score']\n",
    "params = clf.cv_results_['params']\n",
    "for m,s,p in zip(means,stds,params):\n",
    "    print(m,s,p)"
   ]
  },
  {
   "cell_type": "markdown",
   "metadata": {},
   "source": [
    "* AUC doesn't seems to go up, no matter what, so below is the best what LGBM can do here."
   ]
  },
  {
   "cell_type": "code",
   "execution_count": 92,
   "metadata": {
    "collapsed": false,
    "scrolled": true
   },
   "outputs": [
    {
     "name": "stdout",
     "output_type": "stream",
     "text": [
      "Training until validation scores don't improve for 100 rounds.\n",
      "[100]\ttraining's auc: 0.746945\ttraining's binary_logloss: 0.168404\tvalid_1's auc: 0.714753\tvalid_1's binary_logloss: 0.170755\n",
      "[200]\ttraining's auc: 0.771082\ttraining's binary_logloss: 0.164156\tvalid_1's auc: 0.71915\tvalid_1's binary_logloss: 0.17011\n",
      "[300]\ttraining's auc: 0.791147\ttraining's binary_logloss: 0.160481\tvalid_1's auc: 0.720819\tvalid_1's binary_logloss: 0.16987\n",
      "[400]\ttraining's auc: 0.807766\ttraining's binary_logloss: 0.156868\tvalid_1's auc: 0.72119\tvalid_1's binary_logloss: 0.169782\n",
      "[500]\ttraining's auc: 0.822356\ttraining's binary_logloss: 0.153681\tvalid_1's auc: 0.720789\tvalid_1's binary_logloss: 0.169817\n",
      "Early stopping, best iteration is:\n",
      "[415]\ttraining's auc: 0.809742\ttraining's binary_logloss: 0.156405\tvalid_1's auc: 0.721455\tvalid_1's binary_logloss: 0.16975\n",
      "1567355108.0867743\n"
     ]
    }
   ],
   "source": [
    "train = df_final_com.iloc[:237609,:]\n",
    "xtrain, xtest, ytrain, ytest = train_test_split(train, df_train['is_click'].values.ravel(), random_state=42, test_size=0.2)\n",
    "clf = LGBMClassifier(boosting_type='gbdt',\n",
    "    n_estimators=2000,\n",
    "    learning_rate=0.05,\n",
    "    num_leaves=40,\n",
    "    colsample_bytree=.8,\n",
    "    subsample=.9,\n",
    "    max_depth=8,\n",
    "    reg_alpha=.1,\n",
    "    reg_lambda=.1,\n",
    "    min_split_gain=.01,\n",
    "    min_child_weight=2,\n",
    "    silent=-1)\n",
    "# Verbose: at what iteration interval, you to see output\n",
    "clf.fit(\n",
    "    xtrain, ytrain, \n",
    "    eval_set= [(xtrain, ytrain), (xtest, ytest)], \n",
    "    eval_metric='auc',verbose=100, early_stopping_rounds=100)\n",
    "e = time.time()\n",
    "print(e-s)"
   ]
  },
  {
   "cell_type": "code",
   "execution_count": 94,
   "metadata": {
    "collapsed": false
   },
   "outputs": [
    {
     "name": "stdout",
     "output_type": "stream",
     "text": [
      "f1_score: 0.004649000464900047\n",
      "Accuracy on train data: 0.9545366069220935\n",
      "Accuracy on test data: 0.9549471823576449\n",
      "              precision    recall  f1-score   support\n",
      "\n",
      "           0       0.96      1.00      0.98     45384\n",
      "           1       0.38      0.00      0.00      2138\n",
      "\n",
      "    accuracy                           0.95     47522\n",
      "   macro avg       0.67      0.50      0.49     47522\n",
      "weighted avg       0.93      0.95      0.93     47522\n",
      "\n",
      "col_0      0     1\n",
      "row_0             \n",
      "0      45376  2133\n",
      "1          8     5\n",
      "0.7214552799789989\n"
     ]
    },
    {
     "data": {
      "image/png": "[encoded data removed]",
      "text/plain": [
       "<matplotlib.figure.Figure at 0x1b51b170630>"
      ]
     },
     "metadata": {},
     "output_type": "display_data"
    }
   ],
   "source": [
    "# PREDICTION on LGBM classifer\n",
    "ypred = clf.predict(xtest)\n",
    "\n",
    "# F1-SCORE, ACCURACY\n",
    "print(\"f1_score:\",f1_score(ytest, ypred))                       # calculating f1 score\n",
    "print(\"Accuracy on train data:\",clf.score(xtrain,ytrain))\n",
    "print(\"Accuracy on test data:\",clf.score(xtest,ytest))\n",
    "\n",
    "# CLASSIFICATION REPORT\n",
    "print(classification_report(ytest,ypred))\n",
    "\n",
    "# CONFUSION MATRIX\n",
    "print(pd.crosstab(ypred,ytest))\n",
    "\n",
    "ypred = clf.predict_proba(xtest)[::,1]                 # predicting on the validation set\n",
    "auc = roc_auc_score(ytest, ypred)\n",
    "print(auc)\n",
    "fpr, tpr, thresholds = roc_curve(ytest, ypred)\n",
    "plt.figure()\n",
    "plt.plot(fpr, tpr, label='Light GBM CLassifier (area = %0.2f)' % auc)\n",
    "plt.plot([0, 1], [0, 1],'r--')\n",
    "plt.xlim([0.0, 1.0])\n",
    "plt.ylim([0.0, 1.05])\n",
    "plt.xlabel('False Positive Rate'), plt.ylabel('True Positive Rate'), plt.title('Receiver operating characteristic')\n",
    "plt.legend(loc=\"lower right\")\n",
    "# plt.savefig('Log_ROC')\n",
    "plt.show()"
   ]
  },
  {
   "cell_type": "code",
   "execution_count": 95,
   "metadata": {
    "collapsed": false,
    "scrolled": false
   },
   "outputs": [
    {
     "data": {
      "text/plain": [
       "LGBMClassifier(boosting_type='gbdt', class_weight=None, colsample_bytree=0.8,\n",
       "               importance_type='split', learning_rate=0.05, max_depth=8,\n",
       "               min_child_samples=20, min_child_weight=2, min_split_gain=0.01,\n",
       "               n_estimators=2000, n_jobs=-1, num_leaves=40, objective=None,\n",
       "               random_state=None, reg_alpha=0.1, reg_lambda=0.1, silent=-1,\n",
       "               subsample=0.9, subsample_for_bin=200000, subsample_freq=0)"
      ]
     },
     "execution_count": 95,
     "metadata": {},
     "output_type": "execute_result"
    }
   ],
   "source": [
    "clf"
   ]
  },
  {
   "cell_type": "markdown",
   "metadata": {
    "collapsed": true
   },
   "source": [
    "* So, AUC slightly goes over 0.72, though if we see f1 score is close to zero. On the other hand Logistic regression is giving f1 score of 0.14 approx with almost same area under the curve. Maybe we need to optimize paramters of LGBM more or it is overfitting here.\n",
    "* So, moving forward we'll keep Logitic Regression as our backend plan"
   ]
  },
  {
   "cell_type": "code",
   "execution_count": null,
   "metadata": {
    "collapsed": true
   },
   "outputs": [],
   "source": []
  },
  {
   "cell_type": "markdown",
   "metadata": {},
   "source": [
    "#### 8.3) xgBoost"
   ]
  },
  {
   "cell_type": "code",
   "execution_count": 96,
   "metadata": {
    "collapsed": false
   },
   "outputs": [
    {
     "name": "stdout",
     "output_type": "stream",
     "text": [
      "[0]\tvalidation_0-auc:0.669451\tvalidation_1-auc:0.667962\n",
      "Multiple eval metrics have been passed: 'validation_1-auc' will be used for early stopping.\n",
      "\n",
      "Will train until validation_1-auc hasn't improved in 100 rounds.\n",
      "[99]\tvalidation_0-auc:0.779631\tvalidation_1-auc:0.716584\n"
     ]
    },
    {
     "data": {
      "text/plain": [
       "201.8646183013916"
      ]
     },
     "execution_count": 96,
     "metadata": {},
     "output_type": "execute_result"
    }
   ],
   "source": [
    "from operator import itemgetter\n",
    "import xgboost as xgb\n",
    "\n",
    "s = time.time()\n",
    "train = df_final_com.iloc[:237609,:]\n",
    "xtrain, xtest, ytrain, ytest = train_test_split(train, df_train['is_click'].values.ravel(), random_state=42, test_size=0.2)\n",
    "\n",
    "clf = xgb.XGBClassifier(objective = \"binary:logistic\",\n",
    "                        booster = \"gbtree\",\n",
    "                        learning_rate = 0.3,\n",
    "                        eval_metric= \"logloss\",\n",
    "                        n_estimators = 100,\n",
    "                        max_depth= 5,\n",
    "                        subsample= 0.9,\n",
    "                        colsample_bytree= 0.9,\n",
    "                        silent= 1,\n",
    "                        seed= 0,\n",
    "                        random_state= 29,\n",
    "                        num_boost_round= 500,\n",
    "                        early_stopping_rounds= 100)\n",
    "clf.fit(\n",
    "    xtrain, ytrain, \n",
    "    eval_set= [(xtrain, ytrain), (xtest, ytest)], \n",
    "    eval_metric='auc',verbose=100, early_stopping_rounds=100)\n",
    "e = time.time()\n",
    "e-s"
   ]
  },
  {
   "cell_type": "code",
   "execution_count": 97,
   "metadata": {
    "collapsed": false
   },
   "outputs": [
    {
     "name": "stdout",
     "output_type": "stream",
     "text": [
      "f1_score: 0.002788104089219331\n",
      "Accuracy on train data: 0.9544050881964574\n",
      "Accuracy on test data: 0.9548419679306427\n",
      "              precision    recall  f1-score   support\n",
      "\n",
      "           0       0.96      1.00      0.98     45384\n",
      "           1       0.21      0.00      0.00      2138\n",
      "\n",
      "    accuracy                           0.95     47522\n",
      "   macro avg       0.58      0.50      0.49     47522\n",
      "weighted avg       0.92      0.95      0.93     47522\n",
      "\n",
      "col_0      0     1\n",
      "row_0             \n",
      "0      45373  2135\n",
      "1         11     3\n",
      "0.7165837642884243\n"
     ]
    },
    {
     "data": {
      "image/png": "[encoded data removed]",
      "text/plain": [
       "<matplotlib.figure.Figure at 0x1b501cbe8d0>"
      ]
     },
     "metadata": {},
     "output_type": "display_data"
    }
   ],
   "source": [
    "# PREDICTION on XGB classifer\n",
    "ypred = clf.predict(xtest)\n",
    "\n",
    "# F1-SCORE, ACCURACY\n",
    "print(\"f1_score:\",f1_score(ytest, ypred))                       # calculating f1 score\n",
    "print(\"Accuracy on train data:\",clf.score(xtrain,ytrain))\n",
    "print(\"Accuracy on test data:\",clf.score(xtest,ytest))\n",
    "\n",
    "# CLASSIFICATION REPORT\n",
    "print(classification_report(ytest,ypred))\n",
    "\n",
    "# CONFUSION MATRIX\n",
    "print(pd.crosstab(ypred,ytest))\n",
    "\n",
    "\n",
    "ypred = clf.predict_proba(xtest)[::,1]                 # predicting on the validation set\n",
    "auc = roc_auc_score(ytest, ypred)\n",
    "print(auc)\n",
    "fpr, tpr, thresholds = roc_curve(ytest, ypred)\n",
    "plt.figure()\n",
    "plt.plot(fpr, tpr, label='Light GBM CLassifier (area = %0.2f)' % auc)\n",
    "plt.plot([0, 1], [0, 1],'r--')\n",
    "plt.xlim([0.0, 1.0])\n",
    "plt.ylim([0.0, 1.05])\n",
    "plt.xlabel('False Positive Rate'), plt.ylabel('True Positive Rate'), plt.title('Receiver operating characteristic')\n",
    "plt.legend(loc=\"lower right\")\n",
    "# plt.savefig('Log_ROC')\n",
    "plt.show()"
   ]
  },
  {
   "cell_type": "code",
   "execution_count": 128,
   "metadata": {
    "collapsed": false,
    "scrolled": true
   },
   "outputs": [
    {
     "data": {
      "text/plain": [
       "XGBClassifier(base_score=0.5, booster='gbtree', colsample_bylevel=1,\n",
       "              colsample_bytree=0.9, early_stopping_rounds=100,\n",
       "              eval_metric='logloss', gamma=0, learning_rate=0.3,\n",
       "              max_delta_step=0, max_depth=5, min_child_weight=1, missing=None,\n",
       "              n_estimators=50, n_jobs=1, nthread=None, num_boost_round=500,\n",
       "              objective='binary:logistic', random_state=29, reg_alpha=0,\n",
       "              reg_lambda=1, scale_pos_weight=1, seed=0, silent=1,\n",
       "              subsample=0.9)"
      ]
     },
     "execution_count": 128,
     "metadata": {},
     "output_type": "execute_result"
    }
   ],
   "source": [
    "clf"
   ]
  },
  {
   "cell_type": "markdown",
   "metadata": {},
   "source": [
    "* I didn't use grid/random search to hypertuned, as with so many paramters to be tuned in XGB, my laptop was crashing here. So I tried to tuned these paramters manually. And XGB classifier is also not helping much in increaing AUC. Eventually f1-socre is approximately zero here. As we've seen in LGBM classifier. So, Logistic Regression is still winner here."
   ]
  },
  {
   "cell_type": "code",
   "execution_count": null,
   "metadata": {
    "collapsed": true
   },
   "outputs": [],
   "source": []
  },
  {
   "cell_type": "markdown",
   "metadata": {},
   "source": [
    "#### 8.4) Random Forest"
   ]
  },
  {
   "cell_type": "code",
   "execution_count": 165,
   "metadata": {
    "collapsed": false
   },
   "outputs": [
    {
     "name": "stdout",
     "output_type": "stream",
     "text": [
      "(190087, 173) (47522, 173) (190087,) (47522,)\n",
      "2138\n",
      "Fitting 3 folds for each of 54 candidates, totalling 162 fits\n"
     ]
    },
    {
     "name": "stderr",
     "output_type": "stream",
     "text": [
      "[Parallel(n_jobs=-1)]: Using backend LokyBackend with 4 concurrent workers.\n",
      "[Parallel(n_jobs=-1)]: Done  42 tasks      | elapsed:  6.2min\n",
      "[Parallel(n_jobs=-1)]: Done 162 out of 162 | elapsed: 26.9min finished\n"
     ]
    }
   ],
   "source": [
    "n_estimators = [10, 50,100]\n",
    "max_depth = [15, 20, 25]\n",
    "min_samples_split = [10, 20, 30]\n",
    "min_samples_leaf = [10, 20] \n",
    "\n",
    "train = df_final_com.iloc[:237609,:]\n",
    "xtrain, xtest, ytrain, ytest = train_test_split(train, df_train['is_click'].values.ravel(), random_state=42, test_size=0.2)\n",
    "\n",
    "hyperF = dict(n_estimators = n_estimators, max_depth = max_depth,  \n",
    "              min_samples_split = min_samples_split, \n",
    "             min_samples_leaf = min_samples_leaf)\n",
    "\n",
    "model = RandomForestClassifier(random_state=29)\n",
    "gridF = GridSearchCV(model, hyperF, verbose = 1,scoring='roc_auc', n_jobs = -1)\n",
    "bestF = gridF.fit(xtrain, ytrain)"
   ]
  },
  {
   "cell_type": "code",
   "execution_count": 166,
   "metadata": {
    "collapsed": false
   },
   "outputs": [
    {
     "data": {
      "text/plain": [
       "(0.7115537127101522,\n",
       " {'max_depth': 25,\n",
       "  'min_samples_leaf': 10,\n",
       "  'min_samples_split': 30,\n",
       "  'n_estimators': 100})"
      ]
     },
     "execution_count": 166,
     "metadata": {},
     "output_type": "execute_result"
    }
   ],
   "source": [
    "bestF.best_score_, bestF.best_params_"
   ]
  },
  {
   "cell_type": "code",
   "execution_count": 167,
   "metadata": {
    "collapsed": false,
    "scrolled": true
   },
   "outputs": [
    {
     "name": "stdout",
     "output_type": "stream",
     "text": [
      "0.6917400990778557 0.0016387072702992033 {'max_depth': 15, 'n_estimators': 10, 'min_samples_split': 10, 'min_samples_leaf': 10}\n",
      "0.7056047135119501 0.0011988846962139629 {'max_depth': 15, 'n_estimators': 50, 'min_samples_split': 10, 'min_samples_leaf': 10}\n",
      "0.7069118101605862 0.0010530426514245223 {'max_depth': 15, 'n_estimators': 100, 'min_samples_split': 10, 'min_samples_leaf': 10}\n",
      "0.6917400990778557 0.0016387072702992033 {'max_depth': 15, 'n_estimators': 10, 'min_samples_split': 20, 'min_samples_leaf': 10}\n",
      "0.7056047135119501 0.0011988846962139629 {'max_depth': 15, 'n_estimators': 50, 'min_samples_split': 20, 'min_samples_leaf': 10}\n",
      "0.7069118101605862 0.0010530426514245223 {'max_depth': 15, 'n_estimators': 100, 'min_samples_split': 20, 'min_samples_leaf': 10}\n",
      "0.6933158672289622 0.0013646290856910487 {'max_depth': 15, 'n_estimators': 10, 'min_samples_split': 30, 'min_samples_leaf': 10}\n",
      "0.705457897522765 0.000785054914913935 {'max_depth': 15, 'n_estimators': 50, 'min_samples_split': 30, 'min_samples_leaf': 10}\n",
      "0.7077106273682926 0.0007398482615715853 {'max_depth': 15, 'n_estimators': 100, 'min_samples_split': 30, 'min_samples_leaf': 10}\n",
      "0.6941806456422458 0.0018142462193941145 {'max_depth': 15, 'n_estimators': 10, 'min_samples_split': 10, 'min_samples_leaf': 20}\n",
      "0.7044884662051891 0.00036218540080401406 {'max_depth': 15, 'n_estimators': 50, 'min_samples_split': 10, 'min_samples_leaf': 20}\n",
      "0.705474511662547 0.0004335250080973792 {'max_depth': 15, 'n_estimators': 100, 'min_samples_split': 10, 'min_samples_leaf': 20}\n",
      "0.6941806456422458 0.0018142462193941145 {'max_depth': 15, 'n_estimators': 10, 'min_samples_split': 20, 'min_samples_leaf': 20}\n",
      "0.7044884662051891 0.00036218540080401406 {'max_depth': 15, 'n_estimators': 50, 'min_samples_split': 20, 'min_samples_leaf': 20}\n",
      "0.705474511662547 0.0004335250080973792 {'max_depth': 15, 'n_estimators': 100, 'min_samples_split': 20, 'min_samples_leaf': 20}\n",
      "0.6941806456422458 0.0018142462193941145 {'max_depth': 15, 'n_estimators': 10, 'min_samples_split': 30, 'min_samples_leaf': 20}\n",
      "0.7044884662051891 0.00036218540080401406 {'max_depth': 15, 'n_estimators': 50, 'min_samples_split': 30, 'min_samples_leaf': 20}\n",
      "0.705474511662547 0.0004335250080973792 {'max_depth': 15, 'n_estimators': 100, 'min_samples_split': 30, 'min_samples_leaf': 20}\n",
      "0.6893484896287884 0.0019542431589833886 {'max_depth': 20, 'n_estimators': 10, 'min_samples_split': 10, 'min_samples_leaf': 10}\n",
      "0.707878688318704 0.0011621626472862728 {'max_depth': 20, 'n_estimators': 50, 'min_samples_split': 10, 'min_samples_leaf': 10}\n",
      "0.7099013260920944 0.0010755832058120406 {'max_depth': 20, 'n_estimators': 100, 'min_samples_split': 10, 'min_samples_leaf': 10}\n",
      "0.6893484896287884 0.0019542431589833886 {'max_depth': 20, 'n_estimators': 10, 'min_samples_split': 20, 'min_samples_leaf': 10}\n",
      "0.707878688318704 0.0011621626472862728 {'max_depth': 20, 'n_estimators': 50, 'min_samples_split': 20, 'min_samples_leaf': 10}\n",
      "0.7099013260920944 0.0010755832058120406 {'max_depth': 20, 'n_estimators': 100, 'min_samples_split': 20, 'min_samples_leaf': 10}\n",
      "0.6929022471484976 0.001197993116773315 {'max_depth': 20, 'n_estimators': 10, 'min_samples_split': 30, 'min_samples_leaf': 10}\n",
      "0.7072680772233007 0.0006067221077592307 {'max_depth': 20, 'n_estimators': 50, 'min_samples_split': 30, 'min_samples_leaf': 10}\n",
      "0.7096666154667524 0.0008015620762625629 {'max_depth': 20, 'n_estimators': 100, 'min_samples_split': 30, 'min_samples_leaf': 10}\n",
      "0.692859279952555 0.002642095641064645 {'max_depth': 20, 'n_estimators': 10, 'min_samples_split': 10, 'min_samples_leaf': 20}\n",
      "0.7080262498633851 0.000527185735031304 {'max_depth': 20, 'n_estimators': 50, 'min_samples_split': 10, 'min_samples_leaf': 20}\n",
      "0.708870847629855 0.0011136779339737462 {'max_depth': 20, 'n_estimators': 100, 'min_samples_split': 10, 'min_samples_leaf': 20}\n",
      "0.692859279952555 0.002642095641064645 {'max_depth': 20, 'n_estimators': 10, 'min_samples_split': 20, 'min_samples_leaf': 20}\n",
      "0.7080262498633851 0.000527185735031304 {'max_depth': 20, 'n_estimators': 50, 'min_samples_split': 20, 'min_samples_leaf': 20}\n",
      "0.708870847629855 0.0011136779339737462 {'max_depth': 20, 'n_estimators': 100, 'min_samples_split': 20, 'min_samples_leaf': 20}\n",
      "0.692859279952555 0.002642095641064645 {'max_depth': 20, 'n_estimators': 10, 'min_samples_split': 30, 'min_samples_leaf': 20}\n",
      "0.7080262498633851 0.000527185735031304 {'max_depth': 20, 'n_estimators': 50, 'min_samples_split': 30, 'min_samples_leaf': 20}\n",
      "0.708870847629855 0.0011136779339737462 {'max_depth': 20, 'n_estimators': 100, 'min_samples_split': 30, 'min_samples_leaf': 20}\n",
      "0.6870120409603314 0.0005816270376973018 {'max_depth': 25, 'n_estimators': 10, 'min_samples_split': 10, 'min_samples_leaf': 10}\n",
      "0.7085855903185204 0.000516900514226708 {'max_depth': 25, 'n_estimators': 50, 'min_samples_split': 10, 'min_samples_leaf': 10}\n",
      "0.7113776567735247 0.0004558604480396507 {'max_depth': 25, 'n_estimators': 100, 'min_samples_split': 10, 'min_samples_leaf': 10}\n",
      "0.6870120409603314 0.0005816270376973018 {'max_depth': 25, 'n_estimators': 10, 'min_samples_split': 20, 'min_samples_leaf': 10}\n",
      "0.7085855903185204 0.000516900514226708 {'max_depth': 25, 'n_estimators': 50, 'min_samples_split': 20, 'min_samples_leaf': 10}\n",
      "0.7113776567735247 0.0004558604480396507 {'max_depth': 25, 'n_estimators': 100, 'min_samples_split': 20, 'min_samples_leaf': 10}\n",
      "0.6894747126243487 0.002072247216624187 {'max_depth': 25, 'n_estimators': 10, 'min_samples_split': 30, 'min_samples_leaf': 10}\n",
      "0.7086260614364279 0.001962409462794802 {'max_depth': 25, 'n_estimators': 50, 'min_samples_split': 30, 'min_samples_leaf': 10}\n",
      "0.7115537127101522 0.001355231471185224 {'max_depth': 25, 'n_estimators': 100, 'min_samples_split': 30, 'min_samples_leaf': 10}\n",
      "0.6941938703855299 0.0006242869393371614 {'max_depth': 25, 'n_estimators': 10, 'min_samples_split': 10, 'min_samples_leaf': 20}\n",
      "0.7085843371047312 0.0009158120412573209 {'max_depth': 25, 'n_estimators': 50, 'min_samples_split': 10, 'min_samples_leaf': 20}\n",
      "0.7100770873296581 0.000381997838881557 {'max_depth': 25, 'n_estimators': 100, 'min_samples_split': 10, 'min_samples_leaf': 20}\n",
      "0.6941938703855299 0.0006242869393371614 {'max_depth': 25, 'n_estimators': 10, 'min_samples_split': 20, 'min_samples_leaf': 20}\n",
      "0.7085843371047312 0.0009158120412573209 {'max_depth': 25, 'n_estimators': 50, 'min_samples_split': 20, 'min_samples_leaf': 20}\n",
      "0.7100770873296581 0.000381997838881557 {'max_depth': 25, 'n_estimators': 100, 'min_samples_split': 20, 'min_samples_leaf': 20}\n",
      "0.6941938703855299 0.0006242869393371614 {'max_depth': 25, 'n_estimators': 10, 'min_samples_split': 30, 'min_samples_leaf': 20}\n",
      "0.7085843371047312 0.0009158120412573209 {'max_depth': 25, 'n_estimators': 50, 'min_samples_split': 30, 'min_samples_leaf': 20}\n",
      "0.7100770873296581 0.000381997838881557 {'max_depth': 25, 'n_estimators': 100, 'min_samples_split': 30, 'min_samples_leaf': 20}\n"
     ]
    }
   ],
   "source": [
    "means = bestF.cv_results_['mean_test_score']\n",
    "stds = bestF.cv_results_['std_test_score']\n",
    "params = bestF.cv_results_['params']\n",
    "for m,s,p in zip(means,stds,params):\n",
    "    print(m,s,p)"
   ]
  },
  {
   "cell_type": "markdown",
   "metadata": {},
   "source": [
    "* In **simple_model** section, AUC was only 0.60, however after hypertuning of random forest, it is doing significantly better. Though AUC is around 0.71 only"
   ]
  },
  {
   "cell_type": "code",
   "execution_count": 101,
   "metadata": {
    "collapsed": false
   },
   "outputs": [
    {
     "data": {
      "text/plain": [
       "57.79344463348389"
      ]
     },
     "execution_count": 101,
     "metadata": {},
     "output_type": "execute_result"
    }
   ],
   "source": [
    "s = time.time()\n",
    "train = df_final_com.iloc[:237609,:]\n",
    "xtrain, xtest, ytrain, ytest = train_test_split(train, df_train['is_click'].values.ravel(), random_state=42, test_size=0.2)\n",
    "model = RandomForestClassifier(n_estimators=100,\n",
    "                               class_weight='balanced',\n",
    "                               max_depth=20,\n",
    "                               min_samples_split=30,\n",
    "                               min_samples_leaf=10,\n",
    "                               random_state=29)\n",
    "model.fit(xtrain, ytrain)\n",
    "e = time.time()\n",
    "e-s"
   ]
  },
  {
   "cell_type": "code",
   "execution_count": 102,
   "metadata": {
    "collapsed": false
   },
   "outputs": [
    {
     "name": "stdout",
     "output_type": "stream",
     "text": [
      "f1_score: 0.14693923650327537\n",
      "Accuracy on train data: 0.7028518520466944\n",
      "Accuracy on test data: 0.6821261731408611\n",
      "              precision    recall  f1-score   support\n",
      "\n",
      "           0       0.97      0.69      0.80     45384\n",
      "           1       0.08      0.61      0.15      2138\n",
      "\n",
      "    accuracy                           0.68     47522\n",
      "   macro avg       0.53      0.65      0.48     47522\n",
      "weighted avg       0.93      0.68      0.78     47522\n",
      "\n",
      "col_0      0     1\n",
      "row_0             \n",
      "0      31115   837\n",
      "1      14269  1301\n",
      "Area Under the Curve: 0.7109065627196721\n"
     ]
    },
    {
     "data": {
      "image/png": "[encoded data removed]",
      "text/plain": [
       "<matplotlib.figure.Figure at 0x1b5021b7198>"
      ]
     },
     "metadata": {},
     "output_type": "display_data"
    }
   ],
   "source": [
    "# PREDICTION\n",
    "ypred = model.predict(xtest)\n",
    "\n",
    "# F1-SCORE, ACCURACY\n",
    "print(\"f1_score:\",f1_score(ytest, ypred))                       # calculating f1 score\n",
    "print(\"Accuracy on train data:\",model.score(xtrain,ytrain))\n",
    "print(\"Accuracy on test data:\",model.score(xtest,ytest))\n",
    "\n",
    "# CLASSIFICATION REPORT\n",
    "print(classification_report(ytest,ypred))\n",
    "\n",
    "# CONFUSION MATRIX\n",
    "print(pd.crosstab(ypred,ytest))\n",
    "\n",
    "# AUC & ROC\n",
    "ypred = model.predict_proba(xtest)[::,1]                 # predicting on the validation set\n",
    "auc = roc_auc_score(ytest, ypred)\n",
    "print(\"Area Under the Curve:\",auc)\n",
    "fpr, tpr, thresholds = roc_curve(ytest, ypred)\n",
    "plt.figure()\n",
    "plt.plot(fpr, tpr, label='Logistic Regression (area = %0.2f)' % auc)\n",
    "plt.plot([0, 1], [0, 1],'r--')\n",
    "plt.xlim([0.0, 1.0])\n",
    "plt.ylim([0.0, 1.05])\n",
    "plt.xlabel('False Positive Rate'), plt.ylabel('True Positive Rate'), plt.title('Receiver operating characteristic')\n",
    "plt.legend(loc=\"lower right\")\n",
    "# plt.savefig('Log_ROC')\n",
    "plt.show()"
   ]
  },
  {
   "cell_type": "markdown",
   "metadata": {
    "collapsed": true
   },
   "source": [
    "* So, arra under the curve here is 0.71 with f1-socre of 0.14\n",
    "* Seems like we got a tie here, as logistic regression & random forest both giving approx same f1-score & AUC, though logistic regression is giving slighly good AUC. Next, we'll try LDA & resampling with both this models & we'll see how it performs"
   ]
  },
  {
   "cell_type": "code",
   "execution_count": null,
   "metadata": {
    "collapsed": true
   },
   "outputs": [],
   "source": []
  },
  {
   "cell_type": "markdown",
   "metadata": {},
   "source": [
    "### 9.) Linear Discriminant Analysis (LDA) (with logistic regression & random forest)"
   ]
  },
  {
   "cell_type": "code",
   "execution_count": 106,
   "metadata": {
    "collapsed": false
   },
   "outputs": [
    {
     "name": "stdout",
     "output_type": "stream",
     "text": [
      "f1_score: 0.14669742984385897\n",
      "Area under the Curve: 0.7122817831234788\n"
     ]
    }
   ],
   "source": [
    "# LDA with Logistic Regression\n",
    "train = df_final_com.iloc[:237609,:]\n",
    "xtrain, xtest, ytrain, ytest = train_test_split(train, df_train['is_click'].values.ravel(), random_state=42, test_size=0.2)\n",
    "\n",
    "lda = LinearDiscriminantAnalysis(n_components=173)\n",
    "X_train = lda.fit_transform(xtrain, ytrain)\n",
    "X_test = lda.transform(xtest)\n",
    "\n",
    "model = LogisticRegression(C=0.9, class_weight='balanced',penalty='l2')\n",
    "model.fit(X_train, ytrain)\n",
    "\n",
    "# F1-SCORE\n",
    "ypred = model.predict(X_test)\n",
    "print(\"f1_score:\",f1_score(ytest, ypred))                       # calculating f1 score\n",
    "\n",
    "# AUC\n",
    "ypred = model.predict_proba(X_test)[::,1]\n",
    "auc = roc_auc_score(ytest, ypred)\n",
    "print(\"Area under the Curve:\",auc)"
   ]
  },
  {
   "cell_type": "code",
   "execution_count": 108,
   "metadata": {
    "collapsed": false
   },
   "outputs": [
    {
     "name": "stdout",
     "output_type": "stream",
     "text": [
      "f1_score: 0.1359165677463117\n",
      "Area under the Curve: 0.7116437292530207\n"
     ]
    }
   ],
   "source": [
    "# LDA with Random Forest\n",
    "train = df_final_com.iloc[:237609,:]\n",
    "xtrain, xtest, ytrain, ytest = train_test_split(train, df_train['is_click'].values.ravel(), random_state=42, test_size=0.2)\n",
    "\n",
    "lda = LinearDiscriminantAnalysis(n_components=173)\n",
    "X_train = lda.fit_transform(xtrain, ytrain)\n",
    "X_test = lda.transform(xtest)\n",
    "\n",
    "model = RandomForestClassifier(n_estimators=20,\n",
    "                               class_weight='balanced',\n",
    "                               max_depth=3,\n",
    "                               min_samples_split=15,\n",
    "                                min_samples_leaf=10,\n",
    "                               random_state=29)\n",
    "model.fit(X_train, ytrain)\n",
    "\n",
    "# F1-SCORE\n",
    "ypred = model.predict(X_test)\n",
    "print(\"f1_score:\",f1_score(ytest, ypred))                       # calculating f1 score\n",
    "\n",
    "# AUC\n",
    "ypred = model.predict_proba(X_test)[::,1]\n",
    "auc = roc_auc_score(ytest, ypred)\n",
    "print(\"Area under the Curve:\",auc)"
   ]
  },
  {
   "cell_type": "markdown",
   "metadata": {
    "collapsed": true
   },
   "source": [
    "* So, LDA is also not helping, but if you see logistic regression is giving slightly better f1-socre & area under the curve comparing random forest"
   ]
  },
  {
   "cell_type": "code",
   "execution_count": null,
   "metadata": {
    "collapsed": true
   },
   "outputs": [],
   "source": []
  },
  {
   "cell_type": "markdown",
   "metadata": {},
   "source": [
    "### 10) Resampling technique"
   ]
  },
  {
   "cell_type": "code",
   "execution_count": 109,
   "metadata": {
    "collapsed": false
   },
   "outputs": [
    {
     "data": {
      "text/plain": [
       "(328284, 435)"
      ]
     },
     "execution_count": 109,
     "metadata": {},
     "output_type": "execute_result"
    }
   ],
   "source": [
    "temp = df_com1.merge(df_com6,how='left',on='impression_id').drop(['impression_id','is_click'],axis=1)\n",
    "temp['is_click'] = df_com['is_click']\n",
    "temp.shape"
   ]
  },
  {
   "cell_type": "code",
   "execution_count": 111,
   "metadata": {
    "collapsed": false
   },
   "outputs": [
    {
     "name": "stdout",
     "output_type": "stream",
     "text": [
      "1    10862\n",
      "Name: is_click, dtype: int64 0    226747\n",
      "Name: is_click, dtype: int64 0    68024\n",
      "Name: is_click, dtype: int64\n",
      "(78886, 435) Index(['is_4G', 'app_code1_0', 'app_code1_2', 'app_code1_3', 'app_code1_5',\n",
      "       'app_code1_7', 'app_code1_9', 'app_code1_14', 'app_code1_16',\n",
      "       'app_code1_29',\n",
      "       ...\n",
      "       'PT_9839.0', 'PT_986.0', 'PT_9939.0', 'PT_9959.0', 'android', 'iphone',\n",
      "       'web', 'item_price2', 'flag2', 'is_click'],\n",
      "      dtype='object', length=435)\n"
     ]
    },
    {
     "data": {
      "text/plain": [
       "0    68024\n",
       "1    10862\n",
       "Name: is_click, dtype: int64"
      ]
     },
     "execution_count": 111,
     "metadata": {},
     "output_type": "execute_result"
    }
   ],
   "source": [
    "# temp = df_com1.merge(df_com6,how='left',on='impression_id').drop(['impression_id'],axis=1)\n",
    "train = temp.iloc[:237609,:]\n",
    "test = temp.iloc[237609:,:]\n",
    "\n",
    "not_deliq = train[train['is_click']==0]\n",
    "deliq = train[train['is_click']==1]\n",
    "\n",
    "not_deliq_downsampled = resample(not_deliq, replace = False, n_samples = int(not_deliq.shape[0]*0.3), random_state = 27)\n",
    "print(deliq['is_click'].value_counts(), not_deliq['is_click'].value_counts(), not_deliq_downsampled['is_click'].value_counts())\n",
    "\n",
    "df2 = deliq.append(not_deliq_downsampled, ignore_index=True)\n",
    "df2['is_click'] = df2['is_click'].astype(int)\n",
    "print(df2.shape, df2.columns)\n",
    "df2['is_click'].value_counts()"
   ]
  },
  {
   "cell_type": "code",
   "execution_count": 112,
   "metadata": {
    "collapsed": false,
    "scrolled": false
   },
   "outputs": [
    {
     "name": "stdout",
     "output_type": "stream",
     "text": [
      "(63108, 434) (15778, 434) (63108,) (15778,)\n",
      "2140\n"
     ]
    },
    {
     "data": {
      "text/plain": [
       "LogisticRegression(C=0.8, class_weight='balanced', dual=False,\n",
       "                   fit_intercept=True, intercept_scaling=1, l1_ratio=None,\n",
       "                   max_iter=100, multi_class='warn', n_jobs=None, penalty='l2',\n",
       "                   random_state=None, solver='warn', tol=0.0001, verbose=0,\n",
       "                   warm_start=False)"
      ]
     },
     "execution_count": 112,
     "metadata": {},
     "output_type": "execute_result"
    }
   ],
   "source": [
    "train = df2.drop('is_click',axis=1)\n",
    "\n",
    "xtrain, xtest, ytrain, ytest = train_test_split(train, df2['is_click'].values.ravel(), random_state=42, test_size=0.2)\n",
    "print(xtrain.shape, xtest.shape, ytrain.shape, ytest.shape)\n",
    "print(ytest.sum())\n",
    "\n",
    "# model = ExtraTreesClassifier()\n",
    "model = LogisticRegression(C=0.8,penalty='l2',class_weight='balanced')\n",
    "# model = LogisticRegression(C=0.9,penalty='l2',class_weight='balanced')\n",
    "model.fit(xtrain, ytrain)\n"
   ]
  },
  {
   "cell_type": "code",
   "execution_count": 117,
   "metadata": {
    "collapsed": false,
    "scrolled": false
   },
   "outputs": [
    {
     "name": "stdout",
     "output_type": "stream",
     "text": [
      "f1_score: 0.3356397583745195\n",
      "Accuracy on train data: 0.6219021360207898\n",
      "Accuracy on test data: 0.6166180758017493\n",
      "              precision    recall  f1-score   support\n",
      "\n",
      "           0       0.93      0.60      0.73     13638\n",
      "           1       0.22      0.71      0.34      2140\n",
      "\n",
      "    accuracy                           0.62     15778\n",
      "   macro avg       0.57      0.66      0.53     15778\n",
      "weighted avg       0.83      0.62      0.68     15778\n",
      "\n",
      "col_0     0     1\n",
      "row_0            \n",
      "0      8201   612\n",
      "1      5437  1528\n",
      "Area under the Curve: 0.7135419793238518\n"
     ]
    },
    {
     "data": {
      "image/png": "[encoded data removed]",
      "text/plain": [
       "<matplotlib.figure.Figure at 0x1b503677208>"
      ]
     },
     "metadata": {},
     "output_type": "display_data"
    }
   ],
   "source": [
    "# PREDICTION\n",
    "ypred = model.predict(xtest)\n",
    "\n",
    "# F1-SCORE, ACCURACY\n",
    "print(\"f1_score:\",f1_score(ytest, ypred))                       # calculating f1 score\n",
    "print(\"Accuracy on train data:\",model.score(xtrain,ytrain))\n",
    "print(\"Accuracy on test data:\",model.score(xtest,ytest))\n",
    "\n",
    "# CLASSIFICATION REPORT\n",
    "print(classification_report(ytest,ypred))\n",
    "\n",
    "# CONFUSION MATRIX\n",
    "print(pd.crosstab(ypred,ytest))\n",
    "\n",
    "# AUC & ROC\n",
    "from sklearn.metrics import roc_auc_score, roc_curve\n",
    "ypred = model.predict_proba(xtest)[::,1]\n",
    "auc = roc_auc_score(ytest, ypred)\n",
    "print(\"Area under the Curve:\",auc)\n",
    "fpr, tpr, thresholds = roc_curve(ytest, ypred)\n",
    "plt.figure()\n",
    "plt.plot(fpr, tpr, label='Logistic Regression (area = %0.2f)' % auc)\n",
    "plt.plot([0, 1], [0, 1],'r--')\n",
    "plt.xlim([0.0, 1.0])\n",
    "plt.ylim([0.0, 1.05])\n",
    "plt.xlabel('False Positive Rate'), plt.ylabel('True Positive Rate'), plt.title('Receiver operating characteristic')\n",
    "plt.legend(loc=\"lower right\")\n",
    "# plt.savefig('Log_ROC')\n",
    "plt.show()"
   ]
  },
  {
   "cell_type": "markdown",
   "metadata": {
    "collapsed": true
   },
   "source": [
    "* f1-score is significantly **increased** from 0.14 to 0.33; but AUC is come down by a notch (0.715 to 0.713).\n",
    "* That only means that undersampling is causing in incremant of f1-score for minority class, as we had dropped the data around 70% for majority class.\n",
    "* Finally, even if resampling is not helping here."
   ]
  },
  {
   "cell_type": "code",
   "execution_count": null,
   "metadata": {
    "collapsed": true
   },
   "outputs": [],
   "source": []
  },
  {
   "cell_type": "code",
   "execution_count": null,
   "metadata": {
    "collapsed": true
   },
   "outputs": [],
   "source": []
  },
  {
   "cell_type": "markdown",
   "metadata": {},
   "source": [
    "### 11) Final best fitted model\n",
    "* Logistic Regression (with highest f1-score & AUC)"
   ]
  },
  {
   "cell_type": "code",
   "execution_count": 124,
   "metadata": {
    "collapsed": false
   },
   "outputs": [
    {
     "name": "stdout",
     "output_type": "stream",
     "text": [
      "(237609, 174) (90675, 174) (237609,)\n",
      "Time taken (in seconds) 26.086240530014038\n"
     ]
    }
   ],
   "source": [
    "s = time.time()\n",
    "\n",
    "train = df_final_com.iloc[:237609,:]\n",
    "test = df_final_com.iloc[237609:,:]\n",
    "ytrain = df_train['is_click'].values.ravel()\n",
    "\n",
    "print(train.shape,test.shape,ytrain.shape)\n",
    "model = LogisticRegression(C=0.9,penalty='l2',class_weight='balanced',random_state=29)\n",
    "model.fit(train, ytrain)\n",
    "\n",
    "e = time.time()\n",
    "print(\"Time taken (in seconds)\",e-s)"
   ]
  },
  {
   "cell_type": "code",
   "execution_count": 125,
   "metadata": {
    "collapsed": false
   },
   "outputs": [
    {
     "data": {
      "text/html": [
       "<div>\n",
       "<style scoped>\n",
       "    .dataframe tbody tr th:only-of-type {\n",
       "        vertical-align: middle;\n",
       "    }\n",
       "\n",
       "    .dataframe tbody tr th {\n",
       "        vertical-align: top;\n",
       "    }\n",
       "\n",
       "    .dataframe thead th {\n",
       "        text-align: right;\n",
       "    }\n",
       "</style>\n",
       "<table border=\"1\" class=\"dataframe\">\n",
       "  <thead>\n",
       "    <tr style=\"text-align: right;\">\n",
       "      <th></th>\n",
       "      <th>impression_id</th>\n",
       "      <th>is_click</th>\n",
       "    </tr>\n",
       "  </thead>\n",
       "  <tbody>\n",
       "    <tr>\n",
       "      <th>0</th>\n",
       "      <td>a9e7126a585a69a32bc7414e9d0c0ada</td>\n",
       "      <td>0.460692</td>\n",
       "    </tr>\n",
       "    <tr>\n",
       "      <th>1</th>\n",
       "      <td>caac14a5bf2ba283db7708bb34855760</td>\n",
       "      <td>0.127339</td>\n",
       "    </tr>\n",
       "    <tr>\n",
       "      <th>2</th>\n",
       "      <td>13f10ba306a19ce7bec2f3cae507b698</td>\n",
       "      <td>0.565580</td>\n",
       "    </tr>\n",
       "    <tr>\n",
       "      <th>3</th>\n",
       "      <td>39c4b4dc0e9701b55a0a4f072008fb3f</td>\n",
       "      <td>0.220120</td>\n",
       "    </tr>\n",
       "    <tr>\n",
       "      <th>4</th>\n",
       "      <td>bf5a572cca75f5fc67f4b14e58b11d70</td>\n",
       "      <td>0.650081</td>\n",
       "    </tr>\n",
       "  </tbody>\n",
       "</table>\n",
       "</div>"
      ],
      "text/plain": [
       "                      impression_id  is_click\n",
       "0  a9e7126a585a69a32bc7414e9d0c0ada  0.460692\n",
       "1  caac14a5bf2ba283db7708bb34855760  0.127339\n",
       "2  13f10ba306a19ce7bec2f3cae507b698  0.565580\n",
       "3  39c4b4dc0e9701b55a0a4f072008fb3f  0.220120\n",
       "4  bf5a572cca75f5fc67f4b14e58b11d70  0.650081"
      ]
     },
     "execution_count": 125,
     "metadata": {},
     "output_type": "execute_result"
    }
   ],
   "source": [
    "# Predicting on test data\n",
    "\n",
    "test = df_final_com.iloc[237609:,:]\n",
    "prediction_int = model.predict_proba(test)[::,1]         # predicting on the validation set\n",
    "\n",
    "df_sample_submission = pd.read_csv('sample_submission.csv')\n",
    "df_sample_submission['is_click'] = list(prediction_int)\n",
    "df_sample_submission.head()"
   ]
  },
  {
   "cell_type": "code",
   "execution_count": 126,
   "metadata": {
    "collapsed": false
   },
   "outputs": [],
   "source": [
    "df_sample_submission.to_csv('submission_file.csv',index=False)"
   ]
  },
  {
   "cell_type": "markdown",
   "metadata": {},
   "source": [
    "Logistic Regression(0.85,l2,balanced) | All data (5,15)"
   ]
  },
  {
   "cell_type": "code",
   "execution_count": null,
   "metadata": {
    "collapsed": true
   },
   "outputs": [],
   "source": []
  },
  {
   "cell_type": "code",
   "execution_count": null,
   "metadata": {
    "collapsed": true
   },
   "outputs": [],
   "source": []
  },
  {
   "cell_type": "markdown",
   "metadata": {
    "collapsed": true
   },
   "source": [
    "#### Key notes"
   ]
  },
  {
   "cell_type": "markdown",
   "metadata": {
    "collapsed": true
   },
   "source": [
    "* The best metric to use in this case is probably logarithmic loss, which is commonly used when you care about having well-calibrated probabilities. In addition, you might inspect the ROC curve and compute other metrics such as the F1-score and AUC"
   ]
  },
  {
   "cell_type": "code",
   "execution_count": null,
   "metadata": {
    "collapsed": true
   },
   "outputs": [],
   "source": []
  },
  {
   "cell_type": "code",
   "execution_count": null,
   "metadata": {
    "collapsed": true
   },
   "outputs": [],
   "source": []
  },
  {
   "cell_type": "code",
   "execution_count": null,
   "metadata": {
    "collapsed": true
   },
   "outputs": [],
   "source": []
  }
 ],
 "metadata": {
  "kernelspec": {
   "display_name": "Python 3",
   "language": "python",
   "name": "python3"
  },
  "language_info": {
   "codemirror_mode": {
    "name": "ipython",
    "version": 3
   },
   "file_extension": ".py",
   "mimetype": "text/x-python",
   "name": "python",
   "nbconvert_exporter": "python",
   "pygments_lexer": "ipython3",
   "version": "3.5.4"
  }
 },
 "nbformat": 4,
 "nbformat_minor": 2
}
